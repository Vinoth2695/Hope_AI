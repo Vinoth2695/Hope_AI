{
 "cells": [
  {
   "cell_type": "code",
   "execution_count": 5,
   "id": "e504aeb7",
   "metadata": {},
   "outputs": [],
   "source": [
    "# Loading the saved final Multiple Linear regression model to test with realtime inputs\n",
    "import pickle\n",
    "MLR_production_model = pickle.load(open(\"Multiple_Linear_Reg_Model.sav\",'rb'))"
   ]
  },
  {
   "cell_type": "code",
   "execution_count": 4,
   "id": "5a561c31",
   "metadata": {},
   "outputs": [
    {
     "name": "stderr",
     "output_type": "stream",
     "text": [
      "C:\\Users\\Vinoth\\AppData\\Local\\Programs\\Python\\Python310\\lib\\site-packages\\sklearn\\base.py:450: UserWarning: X does not have valid feature names, but LinearRegression was fitted with feature names\n",
      "  warnings.warn(\n"
     ]
    },
    {
     "data": {
      "text/plain": [
       "array([[192239.66787833]])"
      ]
     },
     "execution_count": 4,
     "metadata": {},
     "output_type": "execute_result"
    }
   ],
   "source": [
    "MLR_production_model.predict([[165349.2,136897.80,471784.10,0,1]])"
   ]
  },
  {
   "cell_type": "code",
   "execution_count": null,
   "id": "318af628",
   "metadata": {},
   "outputs": [],
   "source": []
  }
 ],
 "metadata": {
  "kernelspec": {
   "display_name": "Python 3 (ipykernel)",
   "language": "python",
   "name": "python3"
  },
  "language_info": {
   "codemirror_mode": {
    "name": "ipython",
    "version": 3
   },
   "file_extension": ".py",
   "mimetype": "text/x-python",
   "name": "python",
   "nbconvert_exporter": "python",
   "pygments_lexer": "ipython3",
   "version": "3.10.5"
  }
 },
 "nbformat": 4,
 "nbformat_minor": 5
}

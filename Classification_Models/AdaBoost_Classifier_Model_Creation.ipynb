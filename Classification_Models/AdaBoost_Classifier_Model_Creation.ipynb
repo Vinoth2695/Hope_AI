{
 "cells": [
  {
   "cell_type": "code",
   "execution_count": 2,
   "id": "a1670dc3",
   "metadata": {},
   "outputs": [],
   "source": [
    "#Import all required libraries to create a AdaBoost Classifier Model\n",
    "import pandas as pd\n",
    "import numpy as np\n",
    "from sklearn.preprocessing import StandardScaler\n",
    "import pickle\n",
    "from sklearn.model_selection import train_test_split\n",
    "from sklearn.model_selection import GridSearchCV\n",
    "from sklearn.ensemble import AdaBoostClassifier\n",
    "from sklearn.metrics import confusion_matrix\n",
    "from sklearn.svm import SVC"
   ]
  },
  {
   "cell_type": "code",
   "execution_count": 3,
   "id": "565741a3",
   "metadata": {},
   "outputs": [],
   "source": [
    "# Load the data set\n",
    "Data = pd.read_csv(r\"C:\\Users\\Vinoth\\Dropbox\\PC\\Desktop\\HOPE AI\\Machine Learning\\Classification_Models\\DataSets\\Social_Network_Ads.csv\")"
   ]
  },
  {
   "cell_type": "code",
   "execution_count": 4,
   "id": "63f54efc",
   "metadata": {},
   "outputs": [
    {
     "data": {
      "text/html": [
       "<div>\n",
       "<style scoped>\n",
       "    .dataframe tbody tr th:only-of-type {\n",
       "        vertical-align: middle;\n",
       "    }\n",
       "\n",
       "    .dataframe tbody tr th {\n",
       "        vertical-align: top;\n",
       "    }\n",
       "\n",
       "    .dataframe thead th {\n",
       "        text-align: right;\n",
       "    }\n",
       "</style>\n",
       "<table border=\"1\" class=\"dataframe\">\n",
       "  <thead>\n",
       "    <tr style=\"text-align: right;\">\n",
       "      <th></th>\n",
       "      <th>User ID</th>\n",
       "      <th>Gender</th>\n",
       "      <th>Age</th>\n",
       "      <th>EstimatedSalary</th>\n",
       "      <th>Purchased</th>\n",
       "    </tr>\n",
       "  </thead>\n",
       "  <tbody>\n",
       "    <tr>\n",
       "      <th>0</th>\n",
       "      <td>15624510</td>\n",
       "      <td>Male</td>\n",
       "      <td>19</td>\n",
       "      <td>19000</td>\n",
       "      <td>0</td>\n",
       "    </tr>\n",
       "    <tr>\n",
       "      <th>1</th>\n",
       "      <td>15810944</td>\n",
       "      <td>Male</td>\n",
       "      <td>35</td>\n",
       "      <td>20000</td>\n",
       "      <td>0</td>\n",
       "    </tr>\n",
       "    <tr>\n",
       "      <th>2</th>\n",
       "      <td>15668575</td>\n",
       "      <td>Female</td>\n",
       "      <td>26</td>\n",
       "      <td>43000</td>\n",
       "      <td>0</td>\n",
       "    </tr>\n",
       "    <tr>\n",
       "      <th>3</th>\n",
       "      <td>15603246</td>\n",
       "      <td>Female</td>\n",
       "      <td>27</td>\n",
       "      <td>57000</td>\n",
       "      <td>0</td>\n",
       "    </tr>\n",
       "    <tr>\n",
       "      <th>4</th>\n",
       "      <td>15804002</td>\n",
       "      <td>Male</td>\n",
       "      <td>19</td>\n",
       "      <td>76000</td>\n",
       "      <td>0</td>\n",
       "    </tr>\n",
       "  </tbody>\n",
       "</table>\n",
       "</div>"
      ],
      "text/plain": [
       "    User ID  Gender  Age  EstimatedSalary  Purchased\n",
       "0  15624510    Male   19            19000          0\n",
       "1  15810944    Male   35            20000          0\n",
       "2  15668575  Female   26            43000          0\n",
       "3  15603246  Female   27            57000          0\n",
       "4  15804002    Male   19            76000          0"
      ]
     },
     "execution_count": 4,
     "metadata": {},
     "output_type": "execute_result"
    }
   ],
   "source": [
    "Data.head()"
   ]
  },
  {
   "cell_type": "code",
   "execution_count": 5,
   "id": "dcfaffd1",
   "metadata": {},
   "outputs": [
    {
     "data": {
      "text/plain": [
       "(400, 5)"
      ]
     },
     "execution_count": 5,
     "metadata": {},
     "output_type": "execute_result"
    }
   ],
   "source": [
    "Data.shape"
   ]
  },
  {
   "cell_type": "markdown",
   "id": "bbbc1812",
   "metadata": {},
   "source": [
    "## To know more about the data please refer the Exploratory Data Analysis on Social Network Ads DataSet.ipynb file"
   ]
  },
  {
   "cell_type": "code",
   "execution_count": 6,
   "id": "c4eb31ec",
   "metadata": {},
   "outputs": [],
   "source": [
    "#Convert the Nominal categorical data of \"Gender\" column to Numeric values\n",
    "\n",
    "Data = pd.get_dummies(Data,drop_first=True)"
   ]
  },
  {
   "cell_type": "code",
   "execution_count": 7,
   "id": "b6628e3e",
   "metadata": {},
   "outputs": [
    {
     "data": {
      "text/html": [
       "<div>\n",
       "<style scoped>\n",
       "    .dataframe tbody tr th:only-of-type {\n",
       "        vertical-align: middle;\n",
       "    }\n",
       "\n",
       "    .dataframe tbody tr th {\n",
       "        vertical-align: top;\n",
       "    }\n",
       "\n",
       "    .dataframe thead th {\n",
       "        text-align: right;\n",
       "    }\n",
       "</style>\n",
       "<table border=\"1\" class=\"dataframe\">\n",
       "  <thead>\n",
       "    <tr style=\"text-align: right;\">\n",
       "      <th></th>\n",
       "      <th>User ID</th>\n",
       "      <th>Age</th>\n",
       "      <th>EstimatedSalary</th>\n",
       "      <th>Purchased</th>\n",
       "      <th>Gender_Male</th>\n",
       "    </tr>\n",
       "  </thead>\n",
       "  <tbody>\n",
       "    <tr>\n",
       "      <th>0</th>\n",
       "      <td>15624510</td>\n",
       "      <td>19</td>\n",
       "      <td>19000</td>\n",
       "      <td>0</td>\n",
       "      <td>1</td>\n",
       "    </tr>\n",
       "    <tr>\n",
       "      <th>1</th>\n",
       "      <td>15810944</td>\n",
       "      <td>35</td>\n",
       "      <td>20000</td>\n",
       "      <td>0</td>\n",
       "      <td>1</td>\n",
       "    </tr>\n",
       "    <tr>\n",
       "      <th>2</th>\n",
       "      <td>15668575</td>\n",
       "      <td>26</td>\n",
       "      <td>43000</td>\n",
       "      <td>0</td>\n",
       "      <td>0</td>\n",
       "    </tr>\n",
       "    <tr>\n",
       "      <th>3</th>\n",
       "      <td>15603246</td>\n",
       "      <td>27</td>\n",
       "      <td>57000</td>\n",
       "      <td>0</td>\n",
       "      <td>0</td>\n",
       "    </tr>\n",
       "    <tr>\n",
       "      <th>4</th>\n",
       "      <td>15804002</td>\n",
       "      <td>19</td>\n",
       "      <td>76000</td>\n",
       "      <td>0</td>\n",
       "      <td>1</td>\n",
       "    </tr>\n",
       "  </tbody>\n",
       "</table>\n",
       "</div>"
      ],
      "text/plain": [
       "    User ID  Age  EstimatedSalary  Purchased  Gender_Male\n",
       "0  15624510   19            19000          0            1\n",
       "1  15810944   35            20000          0            1\n",
       "2  15668575   26            43000          0            0\n",
       "3  15603246   27            57000          0            0\n",
       "4  15804002   19            76000          0            1"
      ]
     },
     "execution_count": 7,
     "metadata": {},
     "output_type": "execute_result"
    }
   ],
   "source": [
    "Data.head()"
   ]
  },
  {
   "cell_type": "code",
   "execution_count": 8,
   "id": "b0b69c1f",
   "metadata": {},
   "outputs": [
    {
     "data": {
      "text/plain": [
       "Index(['User ID', 'Age', 'EstimatedSalary', 'Purchased', 'Gender_Male'], dtype='object')"
      ]
     },
     "execution_count": 8,
     "metadata": {},
     "output_type": "execute_result"
    }
   ],
   "source": [
    "Data.columns"
   ]
  },
  {
   "cell_type": "code",
   "execution_count": 9,
   "id": "29d84d21",
   "metadata": {},
   "outputs": [],
   "source": [
    "# Arrange the columns for better visualization and also we can drop User ID colum as it doesn't makes any sense\n",
    "Data = Data.loc[:,['Gender_Male','Age', 'EstimatedSalary','Purchased']]"
   ]
  },
  {
   "cell_type": "code",
   "execution_count": 10,
   "id": "4bbfc33c",
   "metadata": {},
   "outputs": [
    {
     "data": {
      "text/html": [
       "<div>\n",
       "<style scoped>\n",
       "    .dataframe tbody tr th:only-of-type {\n",
       "        vertical-align: middle;\n",
       "    }\n",
       "\n",
       "    .dataframe tbody tr th {\n",
       "        vertical-align: top;\n",
       "    }\n",
       "\n",
       "    .dataframe thead th {\n",
       "        text-align: right;\n",
       "    }\n",
       "</style>\n",
       "<table border=\"1\" class=\"dataframe\">\n",
       "  <thead>\n",
       "    <tr style=\"text-align: right;\">\n",
       "      <th></th>\n",
       "      <th>Gender_Male</th>\n",
       "      <th>Age</th>\n",
       "      <th>EstimatedSalary</th>\n",
       "      <th>Purchased</th>\n",
       "    </tr>\n",
       "  </thead>\n",
       "  <tbody>\n",
       "    <tr>\n",
       "      <th>0</th>\n",
       "      <td>1</td>\n",
       "      <td>19</td>\n",
       "      <td>19000</td>\n",
       "      <td>0</td>\n",
       "    </tr>\n",
       "    <tr>\n",
       "      <th>1</th>\n",
       "      <td>1</td>\n",
       "      <td>35</td>\n",
       "      <td>20000</td>\n",
       "      <td>0</td>\n",
       "    </tr>\n",
       "    <tr>\n",
       "      <th>2</th>\n",
       "      <td>0</td>\n",
       "      <td>26</td>\n",
       "      <td>43000</td>\n",
       "      <td>0</td>\n",
       "    </tr>\n",
       "    <tr>\n",
       "      <th>3</th>\n",
       "      <td>0</td>\n",
       "      <td>27</td>\n",
       "      <td>57000</td>\n",
       "      <td>0</td>\n",
       "    </tr>\n",
       "    <tr>\n",
       "      <th>4</th>\n",
       "      <td>1</td>\n",
       "      <td>19</td>\n",
       "      <td>76000</td>\n",
       "      <td>0</td>\n",
       "    </tr>\n",
       "    <tr>\n",
       "      <th>...</th>\n",
       "      <td>...</td>\n",
       "      <td>...</td>\n",
       "      <td>...</td>\n",
       "      <td>...</td>\n",
       "    </tr>\n",
       "    <tr>\n",
       "      <th>395</th>\n",
       "      <td>0</td>\n",
       "      <td>46</td>\n",
       "      <td>41000</td>\n",
       "      <td>1</td>\n",
       "    </tr>\n",
       "    <tr>\n",
       "      <th>396</th>\n",
       "      <td>1</td>\n",
       "      <td>51</td>\n",
       "      <td>23000</td>\n",
       "      <td>1</td>\n",
       "    </tr>\n",
       "    <tr>\n",
       "      <th>397</th>\n",
       "      <td>0</td>\n",
       "      <td>50</td>\n",
       "      <td>20000</td>\n",
       "      <td>1</td>\n",
       "    </tr>\n",
       "    <tr>\n",
       "      <th>398</th>\n",
       "      <td>1</td>\n",
       "      <td>36</td>\n",
       "      <td>33000</td>\n",
       "      <td>0</td>\n",
       "    </tr>\n",
       "    <tr>\n",
       "      <th>399</th>\n",
       "      <td>0</td>\n",
       "      <td>49</td>\n",
       "      <td>36000</td>\n",
       "      <td>1</td>\n",
       "    </tr>\n",
       "  </tbody>\n",
       "</table>\n",
       "<p>400 rows × 4 columns</p>\n",
       "</div>"
      ],
      "text/plain": [
       "     Gender_Male  Age  EstimatedSalary  Purchased\n",
       "0              1   19            19000          0\n",
       "1              1   35            20000          0\n",
       "2              0   26            43000          0\n",
       "3              0   27            57000          0\n",
       "4              1   19            76000          0\n",
       "..           ...  ...              ...        ...\n",
       "395            0   46            41000          1\n",
       "396            1   51            23000          1\n",
       "397            0   50            20000          1\n",
       "398            1   36            33000          0\n",
       "399            0   49            36000          1\n",
       "\n",
       "[400 rows x 4 columns]"
      ]
     },
     "execution_count": 10,
     "metadata": {},
     "output_type": "execute_result"
    }
   ],
   "source": [
    "Data"
   ]
  },
  {
   "cell_type": "code",
   "execution_count": 11,
   "id": "a188490c",
   "metadata": {},
   "outputs": [],
   "source": [
    "# Let's Seperate dependent and independent variables\n",
    "\n",
    "independent = Data[['Gender_Male','Age', 'EstimatedSalary']]\n",
    "dependent = Data[['Purchased']]"
   ]
  },
  {
   "cell_type": "code",
   "execution_count": 12,
   "id": "3e61987e",
   "metadata": {},
   "outputs": [
    {
     "data": {
      "text/html": [
       "<div>\n",
       "<style scoped>\n",
       "    .dataframe tbody tr th:only-of-type {\n",
       "        vertical-align: middle;\n",
       "    }\n",
       "\n",
       "    .dataframe tbody tr th {\n",
       "        vertical-align: top;\n",
       "    }\n",
       "\n",
       "    .dataframe thead th {\n",
       "        text-align: right;\n",
       "    }\n",
       "</style>\n",
       "<table border=\"1\" class=\"dataframe\">\n",
       "  <thead>\n",
       "    <tr style=\"text-align: right;\">\n",
       "      <th></th>\n",
       "      <th>Purchased</th>\n",
       "    </tr>\n",
       "  </thead>\n",
       "  <tbody>\n",
       "    <tr>\n",
       "      <th>0</th>\n",
       "      <td>0</td>\n",
       "    </tr>\n",
       "    <tr>\n",
       "      <th>1</th>\n",
       "      <td>0</td>\n",
       "    </tr>\n",
       "    <tr>\n",
       "      <th>2</th>\n",
       "      <td>0</td>\n",
       "    </tr>\n",
       "    <tr>\n",
       "      <th>3</th>\n",
       "      <td>0</td>\n",
       "    </tr>\n",
       "    <tr>\n",
       "      <th>4</th>\n",
       "      <td>0</td>\n",
       "    </tr>\n",
       "  </tbody>\n",
       "</table>\n",
       "</div>"
      ],
      "text/plain": [
       "   Purchased\n",
       "0          0\n",
       "1          0\n",
       "2          0\n",
       "3          0\n",
       "4          0"
      ]
     },
     "execution_count": 12,
     "metadata": {},
     "output_type": "execute_result"
    }
   ],
   "source": [
    "dependent.head()"
   ]
  },
  {
   "cell_type": "code",
   "execution_count": 13,
   "id": "ae17295d",
   "metadata": {},
   "outputs": [
    {
     "data": {
      "text/html": [
       "<div>\n",
       "<style scoped>\n",
       "    .dataframe tbody tr th:only-of-type {\n",
       "        vertical-align: middle;\n",
       "    }\n",
       "\n",
       "    .dataframe tbody tr th {\n",
       "        vertical-align: top;\n",
       "    }\n",
       "\n",
       "    .dataframe thead th {\n",
       "        text-align: right;\n",
       "    }\n",
       "</style>\n",
       "<table border=\"1\" class=\"dataframe\">\n",
       "  <thead>\n",
       "    <tr style=\"text-align: right;\">\n",
       "      <th></th>\n",
       "      <th>Gender_Male</th>\n",
       "      <th>Age</th>\n",
       "      <th>EstimatedSalary</th>\n",
       "    </tr>\n",
       "  </thead>\n",
       "  <tbody>\n",
       "    <tr>\n",
       "      <th>0</th>\n",
       "      <td>1</td>\n",
       "      <td>19</td>\n",
       "      <td>19000</td>\n",
       "    </tr>\n",
       "    <tr>\n",
       "      <th>1</th>\n",
       "      <td>1</td>\n",
       "      <td>35</td>\n",
       "      <td>20000</td>\n",
       "    </tr>\n",
       "    <tr>\n",
       "      <th>2</th>\n",
       "      <td>0</td>\n",
       "      <td>26</td>\n",
       "      <td>43000</td>\n",
       "    </tr>\n",
       "    <tr>\n",
       "      <th>3</th>\n",
       "      <td>0</td>\n",
       "      <td>27</td>\n",
       "      <td>57000</td>\n",
       "    </tr>\n",
       "    <tr>\n",
       "      <th>4</th>\n",
       "      <td>1</td>\n",
       "      <td>19</td>\n",
       "      <td>76000</td>\n",
       "    </tr>\n",
       "  </tbody>\n",
       "</table>\n",
       "</div>"
      ],
      "text/plain": [
       "   Gender_Male  Age  EstimatedSalary\n",
       "0            1   19            19000\n",
       "1            1   35            20000\n",
       "2            0   26            43000\n",
       "3            0   27            57000\n",
       "4            1   19            76000"
      ]
     },
     "execution_count": 13,
     "metadata": {},
     "output_type": "execute_result"
    }
   ],
   "source": [
    "independent.head()"
   ]
  },
  {
   "cell_type": "code",
   "execution_count": 14,
   "id": "ad47afdc",
   "metadata": {},
   "outputs": [],
   "source": [
    "#Standardize the data\n",
    "Std =StandardScaler()\n",
    "independent = Std.fit_transform(independent)\n"
   ]
  },
  {
   "cell_type": "code",
   "execution_count": 15,
   "id": "74ee17e1",
   "metadata": {},
   "outputs": [
    {
     "data": {
      "text/plain": [
       "(400, 3)"
      ]
     },
     "execution_count": 15,
     "metadata": {},
     "output_type": "execute_result"
    }
   ],
   "source": [
    "independent.shape"
   ]
  },
  {
   "cell_type": "code",
   "execution_count": 16,
   "id": "4f49a724",
   "metadata": {},
   "outputs": [
    {
     "data": {
      "text/plain": [
       "array([[ 1.02020406, -1.78179743, -1.49004624],\n",
       "       [ 1.02020406, -0.25358736, -1.46068138],\n",
       "       [-0.98019606, -1.11320552, -0.78528968],\n",
       "       ...,\n",
       "       [-0.98019606,  1.17910958, -1.46068138],\n",
       "       [ 1.02020406, -0.15807423, -1.07893824],\n",
       "       [-0.98019606,  1.08359645, -0.99084367]])"
      ]
     },
     "execution_count": 16,
     "metadata": {},
     "output_type": "execute_result"
    }
   ],
   "source": [
    "independent"
   ]
  },
  {
   "cell_type": "code",
   "execution_count": 17,
   "id": "4036ef04",
   "metadata": {},
   "outputs": [],
   "source": [
    "# Lets Split Train and Test Data\n",
    "\n",
    "X_Train,X_Test,Y_Train,Y_Test = train_test_split(independent,dependent,random_state=0,test_size=0.30)"
   ]
  },
  {
   "cell_type": "code",
   "execution_count": 18,
   "id": "74614375",
   "metadata": {},
   "outputs": [
    {
     "name": "stderr",
     "output_type": "stream",
     "text": [
      "C:\\Users\\Vinoth\\AppData\\Local\\Programs\\Python\\Python310\\lib\\site-packages\\sklearn\\utils\\validation.py:1111: DataConversionWarning: A column-vector y was passed when a 1d array was expected. Please change the shape of y to (n_samples, ), for example using ravel().\n",
      "  y = column_or_1d(y, warn=True)\n"
     ]
    },
    {
     "data": {
      "text/html": [
       "<style>#sk-container-id-1 {color: black;background-color: white;}#sk-container-id-1 pre{padding: 0;}#sk-container-id-1 div.sk-toggleable {background-color: white;}#sk-container-id-1 label.sk-toggleable__label {cursor: pointer;display: block;width: 100%;margin-bottom: 0;padding: 0.3em;box-sizing: border-box;text-align: center;}#sk-container-id-1 label.sk-toggleable__label-arrow:before {content: \"▸\";float: left;margin-right: 0.25em;color: #696969;}#sk-container-id-1 label.sk-toggleable__label-arrow:hover:before {color: black;}#sk-container-id-1 div.sk-estimator:hover label.sk-toggleable__label-arrow:before {color: black;}#sk-container-id-1 div.sk-toggleable__content {max-height: 0;max-width: 0;overflow: hidden;text-align: left;background-color: #f0f8ff;}#sk-container-id-1 div.sk-toggleable__content pre {margin: 0.2em;color: black;border-radius: 0.25em;background-color: #f0f8ff;}#sk-container-id-1 input.sk-toggleable__control:checked~div.sk-toggleable__content {max-height: 200px;max-width: 100%;overflow: auto;}#sk-container-id-1 input.sk-toggleable__control:checked~label.sk-toggleable__label-arrow:before {content: \"▾\";}#sk-container-id-1 div.sk-estimator input.sk-toggleable__control:checked~label.sk-toggleable__label {background-color: #d4ebff;}#sk-container-id-1 div.sk-label input.sk-toggleable__control:checked~label.sk-toggleable__label {background-color: #d4ebff;}#sk-container-id-1 input.sk-hidden--visually {border: 0;clip: rect(1px 1px 1px 1px);clip: rect(1px, 1px, 1px, 1px);height: 1px;margin: -1px;overflow: hidden;padding: 0;position: absolute;width: 1px;}#sk-container-id-1 div.sk-estimator {font-family: monospace;background-color: #f0f8ff;border: 1px dotted black;border-radius: 0.25em;box-sizing: border-box;margin-bottom: 0.5em;}#sk-container-id-1 div.sk-estimator:hover {background-color: #d4ebff;}#sk-container-id-1 div.sk-parallel-item::after {content: \"\";width: 100%;border-bottom: 1px solid gray;flex-grow: 1;}#sk-container-id-1 div.sk-label:hover label.sk-toggleable__label {background-color: #d4ebff;}#sk-container-id-1 div.sk-serial::before {content: \"\";position: absolute;border-left: 1px solid gray;box-sizing: border-box;top: 0;bottom: 0;left: 50%;z-index: 0;}#sk-container-id-1 div.sk-serial {display: flex;flex-direction: column;align-items: center;background-color: white;padding-right: 0.2em;padding-left: 0.2em;position: relative;}#sk-container-id-1 div.sk-item {position: relative;z-index: 1;}#sk-container-id-1 div.sk-parallel {display: flex;align-items: stretch;justify-content: center;background-color: white;position: relative;}#sk-container-id-1 div.sk-item::before, #sk-container-id-1 div.sk-parallel-item::before {content: \"\";position: absolute;border-left: 1px solid gray;box-sizing: border-box;top: 0;bottom: 0;left: 50%;z-index: -1;}#sk-container-id-1 div.sk-parallel-item {display: flex;flex-direction: column;z-index: 1;position: relative;background-color: white;}#sk-container-id-1 div.sk-parallel-item:first-child::after {align-self: flex-end;width: 50%;}#sk-container-id-1 div.sk-parallel-item:last-child::after {align-self: flex-start;width: 50%;}#sk-container-id-1 div.sk-parallel-item:only-child::after {width: 0;}#sk-container-id-1 div.sk-dashed-wrapped {border: 1px dashed gray;margin: 0 0.4em 0.5em 0.4em;box-sizing: border-box;padding-bottom: 0.4em;background-color: white;}#sk-container-id-1 div.sk-label label {font-family: monospace;font-weight: bold;display: inline-block;line-height: 1.2em;}#sk-container-id-1 div.sk-label-container {text-align: center;}#sk-container-id-1 div.sk-container {/* jupyter's `normalize.less` sets `[hidden] { display: none; }` but bootstrap.min.css set `[hidden] { display: none !important; }` so we also need the `!important` here to be able to override the default hidden behavior on the sphinx rendered scikit-learn.org. See: https://github.com/scikit-learn/scikit-learn/issues/21755 */display: inline-block !important;position: relative;}#sk-container-id-1 div.sk-text-repr-fallback {display: none;}</style><div id=\"sk-container-id-1\" class=\"sk-top-container\"><div class=\"sk-text-repr-fallback\"><pre>AdaBoostClassifier()</pre><b>In a Jupyter environment, please rerun this cell to show the HTML representation or trust the notebook. <br />On GitHub, the HTML representation is unable to render, please try loading this page with nbviewer.org.</b></div><div class=\"sk-container\" hidden><div class=\"sk-item\"><div class=\"sk-estimator sk-toggleable\"><input class=\"sk-toggleable__control sk-hidden--visually\" id=\"sk-estimator-id-1\" type=\"checkbox\" checked><label for=\"sk-estimator-id-1\" class=\"sk-toggleable__label sk-toggleable__label-arrow\">AdaBoostClassifier</label><div class=\"sk-toggleable__content\"><pre>AdaBoostClassifier()</pre></div></div></div></div></div>"
      ],
      "text/plain": [
       "AdaBoostClassifier()"
      ]
     },
     "execution_count": 18,
     "metadata": {},
     "output_type": "execute_result"
    }
   ],
   "source": [
    "# Lets Create the Model using training data and default parameters\n",
    "AdaBoost_Classifier_Model = AdaBoostClassifier()\n",
    "AdaBoost_Classifier_Model.fit(X_Train,Y_Train)"
   ]
  },
  {
   "cell_type": "code",
   "execution_count": 19,
   "id": "28979b2b",
   "metadata": {},
   "outputs": [],
   "source": [
    "# Lets Test the model using the Test Data\n",
    "Y_Predicted = AdaBoost_Classifier_Model.predict(X_Test)"
   ]
  },
  {
   "cell_type": "code",
   "execution_count": 23,
   "id": "b83c0810",
   "metadata": {},
   "outputs": [
    {
     "data": {
      "text/plain": [
       "array([[0.51099735, 0.48900265],\n",
       "       [0.52073148, 0.47926852],\n",
       "       [0.51871792, 0.48128208],\n",
       "       [0.52899658, 0.47100342],\n",
       "       [0.53414514, 0.46585486],\n",
       "       [0.52328113, 0.47671887],\n",
       "       [0.68999211, 0.31000789],\n",
       "       [0.36766307, 0.63233693],\n",
       "       [0.70835951, 0.29164049],\n",
       "       [0.49901878, 0.50098122],\n",
       "       [0.53771197, 0.46228803],\n",
       "       [0.54104968, 0.45895032],\n",
       "       [0.51737781, 0.48262219],\n",
       "       [0.50527149, 0.49472851],\n",
       "       [0.69541172, 0.30458828],\n",
       "       [0.49045292, 0.50954708],\n",
       "       [0.50527149, 0.49472851],\n",
       "       [0.69541172, 0.30458828],\n",
       "       [0.4445072 , 0.5554928 ],\n",
       "       [0.51634822, 0.48365178],\n",
       "       [0.53414514, 0.46585486],\n",
       "       [0.34820084, 0.65179916],\n",
       "       [0.52604033, 0.47395967],\n",
       "       [0.46300674, 0.53699326],\n",
       "       [0.69112   , 0.30888   ],\n",
       "       [0.5274364 , 0.4725636 ],\n",
       "       [0.51435373, 0.48564627],\n",
       "       [0.52564806, 0.47435194],\n",
       "       [0.52073148, 0.47926852],\n",
       "       [0.52207088, 0.47792912],\n",
       "       [0.68284066, 0.31715934],\n",
       "       [0.50527149, 0.49472851],\n",
       "       [0.4846705 , 0.5153295 ],\n",
       "       [0.51737781, 0.48262219],\n",
       "       [0.70557643, 0.29442357],\n",
       "       [0.70557643, 0.29442357],\n",
       "       [0.69541172, 0.30458828],\n",
       "       [0.53414514, 0.46585486],\n",
       "       [0.51796593, 0.48203407],\n",
       "       [0.48958487, 0.51041513],\n",
       "       [0.51099735, 0.48900265],\n",
       "       [0.52268976, 0.47731024],\n",
       "       [0.52899658, 0.47100342],\n",
       "       [0.51634822, 0.48365178],\n",
       "       [0.49970902, 0.50029098],\n",
       "       [0.54104968, 0.45895032],\n",
       "       [0.50862938, 0.49137062],\n",
       "       [0.49293233, 0.50706767],\n",
       "       [0.69191702, 0.30808298],\n",
       "       [0.49033757, 0.50966243],\n",
       "       [0.4445072 , 0.5554928 ],\n",
       "       [0.51367763, 0.48632237],\n",
       "       [0.53414514, 0.46585486],\n",
       "       [0.5044848 , 0.4955152 ],\n",
       "       [0.47361532, 0.52638468],\n",
       "       [0.49031578, 0.50968422],\n",
       "       [0.52899658, 0.47100342],\n",
       "       [0.69824979, 0.30175021],\n",
       "       [0.48194004, 0.51805996],\n",
       "       [0.69339779, 0.30660221],\n",
       "       [0.68711118, 0.31288882],\n",
       "       [0.32448984, 0.67551016],\n",
       "       [0.69541172, 0.30458828],\n",
       "       [0.48747559, 0.51252441],\n",
       "       [0.69112   , 0.30888   ],\n",
       "       [0.31396082, 0.68603918],\n",
       "       [0.68574293, 0.31425707],\n",
       "       [0.53771197, 0.46228803],\n",
       "       [0.51737781, 0.48262219],\n",
       "       [0.51898509, 0.48101491],\n",
       "       [0.37761754, 0.62238246],\n",
       "       [0.52207088, 0.47792912],\n",
       "       [0.70835951, 0.29164049],\n",
       "       [0.49205418, 0.50794582],\n",
       "       [0.51099735, 0.48900265],\n",
       "       [0.69541172, 0.30458828],\n",
       "       [0.51394715, 0.48605285],\n",
       "       [0.52073148, 0.47926852],\n",
       "       [0.47182941, 0.52817059],\n",
       "       [0.46634853, 0.53365147],\n",
       "       [0.33229938, 0.66770062],\n",
       "       [0.48826442, 0.51173558],\n",
       "       [0.70835951, 0.29164049],\n",
       "       [0.69477336, 0.30522664],\n",
       "       [0.47182941, 0.52817059],\n",
       "       [0.51394715, 0.48605285],\n",
       "       [0.50862938, 0.49137062],\n",
       "       [0.45340583, 0.54659417],\n",
       "       [0.49596659, 0.50403341],\n",
       "       [0.52604033, 0.47395967],\n",
       "       [0.52268976, 0.47731024],\n",
       "       [0.36505441, 0.63494559],\n",
       "       [0.70835951, 0.29164049],\n",
       "       [0.69191702, 0.30808298],\n",
       "       [0.69541172, 0.30458828],\n",
       "       [0.51656796, 0.48343204],\n",
       "       [0.70557643, 0.29442357],\n",
       "       [0.48280087, 0.51719913],\n",
       "       [0.47226268, 0.52773732],\n",
       "       [0.48662878, 0.51337122],\n",
       "       [0.49367346, 0.50632654],\n",
       "       [0.48709607, 0.51290393],\n",
       "       [0.52073148, 0.47926852],\n",
       "       [0.46671527, 0.53328473],\n",
       "       [0.50523052, 0.49476948],\n",
       "       [0.45209191, 0.54790809],\n",
       "       [0.51737781, 0.48262219],\n",
       "       [0.51737781, 0.48262219],\n",
       "       [0.52688533, 0.47311467],\n",
       "       [0.52688533, 0.47311467],\n",
       "       [0.51367763, 0.48632237],\n",
       "       [0.53080076, 0.46919924],\n",
       "       [0.51563057, 0.48436943],\n",
       "       [0.50237732, 0.49762268],\n",
       "       [0.47986897, 0.52013103],\n",
       "       [0.50244948, 0.49755052],\n",
       "       [0.46620284, 0.53379716],\n",
       "       [0.50741321, 0.49258679],\n",
       "       [0.50007806, 0.49992194],\n",
       "       [0.50237732, 0.49762268]])"
      ]
     },
     "execution_count": 23,
     "metadata": {},
     "output_type": "execute_result"
    }
   ],
   "source": [
    "AdaBoost_Classifier_Model.predict_proba(X_Test)"
   ]
  },
  {
   "cell_type": "code",
   "execution_count": 24,
   "id": "7e07bae5",
   "metadata": {},
   "outputs": [
    {
     "data": {
      "text/plain": [
       "array([0.48900265, 0.47926852, 0.48128208, 0.47100342, 0.46585486,\n",
       "       0.47671887, 0.31000789, 0.63233693, 0.29164049, 0.50098122,\n",
       "       0.46228803, 0.45895032, 0.48262219, 0.49472851, 0.30458828,\n",
       "       0.50954708, 0.49472851, 0.30458828, 0.5554928 , 0.48365178,\n",
       "       0.46585486, 0.65179916, 0.47395967, 0.53699326, 0.30888   ,\n",
       "       0.4725636 , 0.48564627, 0.47435194, 0.47926852, 0.47792912,\n",
       "       0.31715934, 0.49472851, 0.5153295 , 0.48262219, 0.29442357,\n",
       "       0.29442357, 0.30458828, 0.46585486, 0.48203407, 0.51041513,\n",
       "       0.48900265, 0.47731024, 0.47100342, 0.48365178, 0.50029098,\n",
       "       0.45895032, 0.49137062, 0.50706767, 0.30808298, 0.50966243,\n",
       "       0.5554928 , 0.48632237, 0.46585486, 0.4955152 , 0.52638468,\n",
       "       0.50968422, 0.47100342, 0.30175021, 0.51805996, 0.30660221,\n",
       "       0.31288882, 0.67551016, 0.30458828, 0.51252441, 0.30888   ,\n",
       "       0.68603918, 0.31425707, 0.46228803, 0.48262219, 0.48101491,\n",
       "       0.62238246, 0.47792912, 0.29164049, 0.50794582, 0.48900265,\n",
       "       0.30458828, 0.48605285, 0.47926852, 0.52817059, 0.53365147,\n",
       "       0.66770062, 0.51173558, 0.29164049, 0.30522664, 0.52817059,\n",
       "       0.48605285, 0.49137062, 0.54659417, 0.50403341, 0.47395967,\n",
       "       0.47731024, 0.63494559, 0.29164049, 0.30808298, 0.30458828,\n",
       "       0.48343204, 0.29442357, 0.51719913, 0.52773732, 0.51337122,\n",
       "       0.50632654, 0.51290393, 0.47926852, 0.53328473, 0.49476948,\n",
       "       0.54790809, 0.48262219, 0.48262219, 0.47311467, 0.47311467,\n",
       "       0.48632237, 0.46919924, 0.48436943, 0.49762268, 0.52013103,\n",
       "       0.49755052, 0.53379716, 0.49258679, 0.49992194, 0.49762268])"
      ]
     },
     "execution_count": 24,
     "metadata": {},
     "output_type": "execute_result"
    }
   ],
   "source": [
    "AdaBoost_Classifier_Model.predict_proba(X_Test)[:,1]"
   ]
  },
  {
   "cell_type": "code",
   "execution_count": null,
   "id": "4b60a1ac",
   "metadata": {},
   "outputs": [],
   "source": [
    "AdaBoost_Classifier_Model.decision_function()"
   ]
  },
  {
   "cell_type": "code",
   "execution_count": null,
   "id": "28dd66da",
   "metadata": {},
   "outputs": [],
   "source": [
    "from sklearn.metrics import roc_auc_score\n",
    "roc_auc_score(Y_Test,AdaBoost_Classifier_Model.predict_proba())"
   ]
  },
  {
   "cell_type": "code",
   "execution_count": 124,
   "id": "5423b050",
   "metadata": {},
   "outputs": [
    {
     "data": {
      "text/plain": [
       "array([[75,  8],\n",
       "       [ 4, 33]], dtype=int64)"
      ]
     },
     "execution_count": 124,
     "metadata": {},
     "output_type": "execute_result"
    }
   ],
   "source": [
    "# Lets check the performance of the model using confusion Matrix \n",
    "confusion_matrix(Y_Predicted,Y_Test)"
   ]
  },
  {
   "cell_type": "code",
   "execution_count": 125,
   "id": "59696dc4",
   "metadata": {},
   "outputs": [],
   "source": [
    "# importing the classification report function from sklearn.metrics module\n",
    "from sklearn.metrics import classification_report"
   ]
  },
  {
   "cell_type": "code",
   "execution_count": 126,
   "id": "cfdd9b8d",
   "metadata": {},
   "outputs": [],
   "source": [
    "clf_report =classification_report(Y_Predicted,Y_Test,zero_division=0)"
   ]
  },
  {
   "cell_type": "code",
   "execution_count": 127,
   "id": "b089dab3",
   "metadata": {},
   "outputs": [
    {
     "name": "stdout",
     "output_type": "stream",
     "text": [
      "              precision    recall  f1-score   support\n",
      "\n",
      "           0       0.95      0.90      0.93        83\n",
      "           1       0.80      0.89      0.85        37\n",
      "\n",
      "    accuracy                           0.90       120\n",
      "   macro avg       0.88      0.90      0.89       120\n",
      "weighted avg       0.90      0.90      0.90       120\n",
      "\n"
     ]
    }
   ],
   "source": [
    "print(clf_report)"
   ]
  },
  {
   "cell_type": "code",
   "execution_count": 24,
   "id": "47c57149",
   "metadata": {
    "scrolled": true
   },
   "outputs": [
    {
     "data": {
      "text/plain": [
       "['accuracy',\n",
       " 'adjusted_mutual_info_score',\n",
       " 'adjusted_rand_score',\n",
       " 'average_precision',\n",
       " 'balanced_accuracy',\n",
       " 'completeness_score',\n",
       " 'explained_variance',\n",
       " 'f1',\n",
       " 'f1_macro',\n",
       " 'f1_micro',\n",
       " 'f1_samples',\n",
       " 'f1_weighted',\n",
       " 'fowlkes_mallows_score',\n",
       " 'homogeneity_score',\n",
       " 'jaccard',\n",
       " 'jaccard_macro',\n",
       " 'jaccard_micro',\n",
       " 'jaccard_samples',\n",
       " 'jaccard_weighted',\n",
       " 'matthews_corrcoef',\n",
       " 'max_error',\n",
       " 'mutual_info_score',\n",
       " 'neg_brier_score',\n",
       " 'neg_log_loss',\n",
       " 'neg_mean_absolute_error',\n",
       " 'neg_mean_absolute_percentage_error',\n",
       " 'neg_mean_gamma_deviance',\n",
       " 'neg_mean_poisson_deviance',\n",
       " 'neg_mean_squared_error',\n",
       " 'neg_mean_squared_log_error',\n",
       " 'neg_median_absolute_error',\n",
       " 'neg_root_mean_squared_error',\n",
       " 'normalized_mutual_info_score',\n",
       " 'precision',\n",
       " 'precision_macro',\n",
       " 'precision_micro',\n",
       " 'precision_samples',\n",
       " 'precision_weighted',\n",
       " 'r2',\n",
       " 'rand_score',\n",
       " 'recall',\n",
       " 'recall_macro',\n",
       " 'recall_micro',\n",
       " 'recall_samples',\n",
       " 'recall_weighted',\n",
       " 'roc_auc',\n",
       " 'roc_auc_ovo',\n",
       " 'roc_auc_ovo_weighted',\n",
       " 'roc_auc_ovr',\n",
       " 'roc_auc_ovr_weighted',\n",
       " 'top_k_accuracy',\n",
       " 'v_measure_score']"
      ]
     },
     "execution_count": 24,
     "metadata": {},
     "output_type": "execute_result"
    }
   ],
   "source": [
    "import sklearn\n",
    "sklearn.metrics.get_scorer_names()"
   ]
  },
  {
   "cell_type": "code",
   "execution_count": 84,
   "id": "63c9b072",
   "metadata": {},
   "outputs": [],
   "source": [
    "# import all classifier model for AdaBoost Base Estimator\n",
    "from sklearn.linear_model import LogisticRegression\n",
    "from sklearn.tree import DecisionTreeClassifier\n",
    "from sklearn.ensemble import RandomForestClassifier"
   ]
  },
  {
   "cell_type": "code",
   "execution_count": 86,
   "id": "55206c09",
   "metadata": {},
   "outputs": [],
   "source": [
    "# initialize the best parameters that we have found for logistic regression classifier\n",
    "LogisticRegression_Classifier  = LogisticRegression(C=0.1,class_weight='balanced',dual=False,fit_intercept=True,max_iter=100,penalty='l1',solver='liblinear',warm_start= True)"
   ]
  },
  {
   "cell_type": "code",
   "execution_count": 128,
   "id": "e72ece18",
   "metadata": {},
   "outputs": [],
   "source": [
    "# initialize the best parameters that we have found for SVC classifier\n",
    "SVC_Classifier_Model = SVC(C=1.0,class_weight='balanced',decision_function_shape= 'ovo',degree=1,gamma ='scale',kernel='rbf',probability=True)"
   ]
  },
  {
   "cell_type": "code",
   "execution_count": 116,
   "id": "eb4f68ec",
   "metadata": {},
   "outputs": [
    {
     "name": "stdout",
     "output_type": "stream",
     "text": [
      "              precision    recall  f1-score   support\n",
      "\n",
      "           0       0.90      0.92      0.91        79\n",
      "           1       0.85      0.80      0.83        41\n",
      "\n",
      "    accuracy                           0.88       120\n",
      "   macro avg       0.87      0.86      0.87       120\n",
      "weighted avg       0.88      0.88      0.88       120\n",
      "\n"
     ]
    }
   ],
   "source": [
    "# Final Report for the tested data against the best parameters\n",
    "print(Final_report)"
   ]
  },
  {
   "cell_type": "code",
   "execution_count": 89,
   "id": "eeae5509",
   "metadata": {},
   "outputs": [],
   "source": [
    "# initialize the best parameters that we have found for Decision Tree classifier\n",
    "DecisionTree_Classifier_Model = DecisionTreeClassifier(criterion='entropy',max_depth=100,max_features='sqrt',min_samples_split=4,splitter='random',)"
   ]
  },
  {
   "cell_type": "code",
   "execution_count": 121,
   "id": "162cab70",
   "metadata": {},
   "outputs": [],
   "source": [
    "pickle.dump(AdaBoost_Classifier_Model_GridSearch,open(r\"C:\\Users\\Vinoth\\Dropbox\\PC\\Desktop\\HOPE AI\\Machine Learning\\Classification_Models\\Final_Model\\AdaBoost_Classifier_Model_GridSearch_Final.sav\",'wb'))"
   ]
  },
  {
   "cell_type": "code",
   "execution_count": 91,
   "id": "3bbe12c5",
   "metadata": {},
   "outputs": [],
   "source": [
    "# initialize the best parameters that we have found for RandomForest classifier\n",
    "RandomForest_Classifier_Model = RandomForestClassifier(bootstrap=True,class_weight='balanced',criterion='gini',max_depth=100,max_features='sqrt',max_samples=0.6,min_samples_split=6,n_jobs=-1,oob_score=False)"
   ]
  },
  {
   "cell_type": "code",
   "execution_count": 106,
   "id": "12d76587",
   "metadata": {},
   "outputs": [],
   "source": [
    "# Initializing the model params for AdaBoost Classifier to pass it as input for gridsearch CV\n",
    "model_Params = {\"base_estimator\":[LogisticRegression_Classifier,SVC_Classifier_Model,DecisionTree_Classifier_Model,RandomForest_Classifier_Model],'n_estimators':[50,100,300,500],\"learning_rate\":[0.1,0.001,0.001,1.0,10],\n",
    "                \"algorithm\":['SAMME']}"
   ]
  },
  {
   "cell_type": "code",
   "execution_count": 107,
   "id": "ee7570cf",
   "metadata": {},
   "outputs": [],
   "source": [
    "# Invoking the gridsearch CV and pasing the appropriate parameters\n",
    "import multiprocessing\n",
    "n_jobs = multiprocessing.cpu_count()-1\n",
    "AdaBoost_Classifier_Model_GridSearch = GridSearchCV(AdaBoostClassifier(),model_Params,scoring='f1',refit=True,n_jobs=n_jobs,verbose=2)"
   ]
  },
  {
   "cell_type": "code",
   "execution_count": 108,
   "id": "3d197d2d",
   "metadata": {},
   "outputs": [
    {
     "name": "stdout",
     "output_type": "stream",
     "text": [
      "Fitting 5 folds for each of 80 candidates, totalling 400 fits\n"
     ]
    },
    {
     "name": "stderr",
     "output_type": "stream",
     "text": [
      "C:\\Users\\Vinoth\\AppData\\Local\\Programs\\Python\\Python310\\lib\\site-packages\\sklearn\\model_selection\\_validation.py:378: FitFailedWarning: \n",
      "60 fits failed out of a total of 400.\n",
      "The score on these train-test partitions for these parameters will be set to nan.\n",
      "If these failures are not expected, you can try to debug them by setting error_score='raise'.\n",
      "\n",
      "Below are more details about the failures:\n",
      "--------------------------------------------------------------------------------\n",
      "60 fits failed with the following error:\n",
      "Traceback (most recent call last):\n",
      "  File \"C:\\Users\\Vinoth\\AppData\\Local\\Programs\\Python\\Python310\\lib\\site-packages\\sklearn\\model_selection\\_validation.py\", line 686, in _fit_and_score\n",
      "    estimator.fit(X_train, y_train, **fit_params)\n",
      "  File \"C:\\Users\\Vinoth\\AppData\\Local\\Programs\\Python\\Python310\\lib\\site-packages\\sklearn\\ensemble\\_weight_boosting.py\", line 506, in fit\n",
      "    return super().fit(X, y, sample_weight)\n",
      "  File \"C:\\Users\\Vinoth\\AppData\\Local\\Programs\\Python\\Python310\\lib\\site-packages\\sklearn\\ensemble\\_weight_boosting.py\", line 160, in fit\n",
      "    sample_weight, estimator_weight, estimator_error = self._boost(\n",
      "  File \"C:\\Users\\Vinoth\\AppData\\Local\\Programs\\Python\\Python310\\lib\\site-packages\\sklearn\\ensemble\\_weight_boosting.py\", line 571, in _boost\n",
      "    return self._boost_discrete(iboost, X, y, sample_weight, random_state)\n",
      "  File \"C:\\Users\\Vinoth\\AppData\\Local\\Programs\\Python\\Python310\\lib\\site-packages\\sklearn\\ensemble\\_weight_boosting.py\", line 660, in _boost_discrete\n",
      "    raise ValueError(\n",
      "ValueError: BaseClassifier in AdaBoostClassifier ensemble is worse than random, ensemble can not be fit.\n",
      "\n",
      "  warnings.warn(some_fits_failed_message, FitFailedWarning)\n",
      "C:\\Users\\Vinoth\\AppData\\Local\\Programs\\Python\\Python310\\lib\\site-packages\\sklearn\\model_selection\\_search.py:953: UserWarning: One or more of the test scores are non-finite: [0.         0.         0.         0.         0.         0.\n",
      " 0.         0.         0.         0.         0.         0.\n",
      " 0.         0.         0.         0.         0.         0.\n",
      " 0.         0.                nan        nan        nan        nan\n",
      "        nan        nan        nan        nan        nan        nan\n",
      "        nan        nan        nan        nan        nan        nan\n",
      "        nan        nan        nan        nan 0.85151565 0.8212768\n",
      " 0.82968396 0.82998939 0.85841151 0.8549593  0.85195179 0.85410824\n",
      " 0.84137529 0.83213941 0.85960507 0.8559687  0.82133401 0.82765024\n",
      " 0.81916688 0.85729697 0.52933983 0.48740365 0.50585804 0.3037126\n",
      " 0.85463155 0.85463155 0.85463155 0.85059114 0.88347361 0.88811937\n",
      " 0.88347361 0.88222193 0.88347361 0.88347361 0.88347361 0.87696941\n",
      " 0.85513246 0.84351806 0.84262404 0.85004107 0.58274482 0.57498755\n",
      " 0.5985725  0.60690737]\n",
      "  warnings.warn(\n"
     ]
    },
    {
     "data": {
      "text/html": [
       "<style>#sk-container-id-10 {color: black;background-color: white;}#sk-container-id-10 pre{padding: 0;}#sk-container-id-10 div.sk-toggleable {background-color: white;}#sk-container-id-10 label.sk-toggleable__label {cursor: pointer;display: block;width: 100%;margin-bottom: 0;padding: 0.3em;box-sizing: border-box;text-align: center;}#sk-container-id-10 label.sk-toggleable__label-arrow:before {content: \"▸\";float: left;margin-right: 0.25em;color: #696969;}#sk-container-id-10 label.sk-toggleable__label-arrow:hover:before {color: black;}#sk-container-id-10 div.sk-estimator:hover label.sk-toggleable__label-arrow:before {color: black;}#sk-container-id-10 div.sk-toggleable__content {max-height: 0;max-width: 0;overflow: hidden;text-align: left;background-color: #f0f8ff;}#sk-container-id-10 div.sk-toggleable__content pre {margin: 0.2em;color: black;border-radius: 0.25em;background-color: #f0f8ff;}#sk-container-id-10 input.sk-toggleable__control:checked~div.sk-toggleable__content {max-height: 200px;max-width: 100%;overflow: auto;}#sk-container-id-10 input.sk-toggleable__control:checked~label.sk-toggleable__label-arrow:before {content: \"▾\";}#sk-container-id-10 div.sk-estimator input.sk-toggleable__control:checked~label.sk-toggleable__label {background-color: #d4ebff;}#sk-container-id-10 div.sk-label input.sk-toggleable__control:checked~label.sk-toggleable__label {background-color: #d4ebff;}#sk-container-id-10 input.sk-hidden--visually {border: 0;clip: rect(1px 1px 1px 1px);clip: rect(1px, 1px, 1px, 1px);height: 1px;margin: -1px;overflow: hidden;padding: 0;position: absolute;width: 1px;}#sk-container-id-10 div.sk-estimator {font-family: monospace;background-color: #f0f8ff;border: 1px dotted black;border-radius: 0.25em;box-sizing: border-box;margin-bottom: 0.5em;}#sk-container-id-10 div.sk-estimator:hover {background-color: #d4ebff;}#sk-container-id-10 div.sk-parallel-item::after {content: \"\";width: 100%;border-bottom: 1px solid gray;flex-grow: 1;}#sk-container-id-10 div.sk-label:hover label.sk-toggleable__label {background-color: #d4ebff;}#sk-container-id-10 div.sk-serial::before {content: \"\";position: absolute;border-left: 1px solid gray;box-sizing: border-box;top: 0;bottom: 0;left: 50%;z-index: 0;}#sk-container-id-10 div.sk-serial {display: flex;flex-direction: column;align-items: center;background-color: white;padding-right: 0.2em;padding-left: 0.2em;position: relative;}#sk-container-id-10 div.sk-item {position: relative;z-index: 1;}#sk-container-id-10 div.sk-parallel {display: flex;align-items: stretch;justify-content: center;background-color: white;position: relative;}#sk-container-id-10 div.sk-item::before, #sk-container-id-10 div.sk-parallel-item::before {content: \"\";position: absolute;border-left: 1px solid gray;box-sizing: border-box;top: 0;bottom: 0;left: 50%;z-index: -1;}#sk-container-id-10 div.sk-parallel-item {display: flex;flex-direction: column;z-index: 1;position: relative;background-color: white;}#sk-container-id-10 div.sk-parallel-item:first-child::after {align-self: flex-end;width: 50%;}#sk-container-id-10 div.sk-parallel-item:last-child::after {align-self: flex-start;width: 50%;}#sk-container-id-10 div.sk-parallel-item:only-child::after {width: 0;}#sk-container-id-10 div.sk-dashed-wrapped {border: 1px dashed gray;margin: 0 0.4em 0.5em 0.4em;box-sizing: border-box;padding-bottom: 0.4em;background-color: white;}#sk-container-id-10 div.sk-label label {font-family: monospace;font-weight: bold;display: inline-block;line-height: 1.2em;}#sk-container-id-10 div.sk-label-container {text-align: center;}#sk-container-id-10 div.sk-container {/* jupyter's `normalize.less` sets `[hidden] { display: none; }` but bootstrap.min.css set `[hidden] { display: none !important; }` so we also need the `!important` here to be able to override the default hidden behavior on the sphinx rendered scikit-learn.org. See: https://github.com/scikit-learn/scikit-learn/issues/21755 */display: inline-block !important;position: relative;}#sk-container-id-10 div.sk-text-repr-fallback {display: none;}</style><div id=\"sk-container-id-10\" class=\"sk-top-container\"><div class=\"sk-text-repr-fallback\"><pre>GridSearchCV(estimator=AdaBoostClassifier(), n_jobs=19,\n",
       "             param_grid={&#x27;algorithm&#x27;: [&#x27;SAMME&#x27;],\n",
       "                         &#x27;base_estimator&#x27;: [LogisticRegression(C=0.1,\n",
       "                                                               class_weight=&#x27;balanced&#x27;,\n",
       "                                                               penalty=&#x27;l1&#x27;,\n",
       "                                                               solver=&#x27;liblinear&#x27;,\n",
       "                                                               warm_start=True),\n",
       "                                            SVC(class_weight=&#x27;balanced&#x27;,\n",
       "                                                decision_function_shape=&#x27;ovo&#x27;,\n",
       "                                                degree=1, probability=True),\n",
       "                                            DecisionTreeClassifier(criterion=&#x27;entropy&#x27;,\n",
       "                                                                   max_depth=100,\n",
       "                                                                   max_features=&#x27;sqrt&#x27;,\n",
       "                                                                   min_samples_split=4,\n",
       "                                                                   splitter=&#x27;random&#x27;),\n",
       "                                            RandomForestClassifier(class_weight=&#x27;balanced&#x27;,\n",
       "                                                                   max_depth=100,\n",
       "                                                                   max_samples=0.6,\n",
       "                                                                   min_samples_split=6,\n",
       "                                                                   n_jobs=-1)],\n",
       "                         &#x27;learning_rate&#x27;: [0.1, 0.001, 0.001, 1.0, 10],\n",
       "                         &#x27;n_estimators&#x27;: [50, 100, 300, 500]},\n",
       "             scoring=&#x27;f1&#x27;, verbose=2)</pre><b>In a Jupyter environment, please rerun this cell to show the HTML representation or trust the notebook. <br />On GitHub, the HTML representation is unable to render, please try loading this page with nbviewer.org.</b></div><div class=\"sk-container\" hidden><div class=\"sk-item sk-dashed-wrapped\"><div class=\"sk-label-container\"><div class=\"sk-label sk-toggleable\"><input class=\"sk-toggleable__control sk-hidden--visually\" id=\"sk-estimator-id-28\" type=\"checkbox\" ><label for=\"sk-estimator-id-28\" class=\"sk-toggleable__label sk-toggleable__label-arrow\">GridSearchCV</label><div class=\"sk-toggleable__content\"><pre>GridSearchCV(estimator=AdaBoostClassifier(), n_jobs=19,\n",
       "             param_grid={&#x27;algorithm&#x27;: [&#x27;SAMME&#x27;],\n",
       "                         &#x27;base_estimator&#x27;: [LogisticRegression(C=0.1,\n",
       "                                                               class_weight=&#x27;balanced&#x27;,\n",
       "                                                               penalty=&#x27;l1&#x27;,\n",
       "                                                               solver=&#x27;liblinear&#x27;,\n",
       "                                                               warm_start=True),\n",
       "                                            SVC(class_weight=&#x27;balanced&#x27;,\n",
       "                                                decision_function_shape=&#x27;ovo&#x27;,\n",
       "                                                degree=1, probability=True),\n",
       "                                            DecisionTreeClassifier(criterion=&#x27;entropy&#x27;,\n",
       "                                                                   max_depth=100,\n",
       "                                                                   max_features=&#x27;sqrt&#x27;,\n",
       "                                                                   min_samples_split=4,\n",
       "                                                                   splitter=&#x27;random&#x27;),\n",
       "                                            RandomForestClassifier(class_weight=&#x27;balanced&#x27;,\n",
       "                                                                   max_depth=100,\n",
       "                                                                   max_samples=0.6,\n",
       "                                                                   min_samples_split=6,\n",
       "                                                                   n_jobs=-1)],\n",
       "                         &#x27;learning_rate&#x27;: [0.1, 0.001, 0.001, 1.0, 10],\n",
       "                         &#x27;n_estimators&#x27;: [50, 100, 300, 500]},\n",
       "             scoring=&#x27;f1&#x27;, verbose=2)</pre></div></div></div><div class=\"sk-parallel\"><div class=\"sk-parallel-item\"><div class=\"sk-item\"><div class=\"sk-label-container\"><div class=\"sk-label sk-toggleable\"><input class=\"sk-toggleable__control sk-hidden--visually\" id=\"sk-estimator-id-29\" type=\"checkbox\" ><label for=\"sk-estimator-id-29\" class=\"sk-toggleable__label sk-toggleable__label-arrow\">estimator: AdaBoostClassifier</label><div class=\"sk-toggleable__content\"><pre>AdaBoostClassifier()</pre></div></div></div><div class=\"sk-serial\"><div class=\"sk-item\"><div class=\"sk-estimator sk-toggleable\"><input class=\"sk-toggleable__control sk-hidden--visually\" id=\"sk-estimator-id-30\" type=\"checkbox\" ><label for=\"sk-estimator-id-30\" class=\"sk-toggleable__label sk-toggleable__label-arrow\">AdaBoostClassifier</label><div class=\"sk-toggleable__content\"><pre>AdaBoostClassifier()</pre></div></div></div></div></div></div></div></div></div></div>"
      ],
      "text/plain": [
       "GridSearchCV(estimator=AdaBoostClassifier(), n_jobs=19,\n",
       "             param_grid={'algorithm': ['SAMME'],\n",
       "                         'base_estimator': [LogisticRegression(C=0.1,\n",
       "                                                               class_weight='balanced',\n",
       "                                                               penalty='l1',\n",
       "                                                               solver='liblinear',\n",
       "                                                               warm_start=True),\n",
       "                                            SVC(class_weight='balanced',\n",
       "                                                decision_function_shape='ovo',\n",
       "                                                degree=1, probability=True),\n",
       "                                            DecisionTreeClassifier(criterion='entropy',\n",
       "                                                                   max_depth=100,\n",
       "                                                                   max_features='sqrt',\n",
       "                                                                   min_samples_split=4,\n",
       "                                                                   splitter='random'),\n",
       "                                            RandomForestClassifier(class_weight='balanced',\n",
       "                                                                   max_depth=100,\n",
       "                                                                   max_samples=0.6,\n",
       "                                                                   min_samples_split=6,\n",
       "                                                                   n_jobs=-1)],\n",
       "                         'learning_rate': [0.1, 0.001, 0.001, 1.0, 10],\n",
       "                         'n_estimators': [50, 100, 300, 500]},\n",
       "             scoring='f1', verbose=2)"
      ]
     },
     "execution_count": 108,
     "metadata": {},
     "output_type": "execute_result"
    }
   ],
   "source": [
    "# Lets fit the GRID Search CV to the training data\n",
    "import warnings\n",
    "from warnings import simplefilter\n",
    "simplefilter(action='ignore', category=FutureWarning)\n",
    "from sklearn.exceptions import DataConversionWarning\n",
    "warnings.filterwarnings(\"ignore\", category=DataConversionWarning)\n",
    "AdaBoost_Classifier_Model_GridSearch.fit(X_Train,Y_Train)"
   ]
  },
  {
   "cell_type": "code",
   "execution_count": 109,
   "id": "25e7f41d",
   "metadata": {},
   "outputs": [
    {
     "data": {
      "text/plain": [
       "{'algorithm': 'SAMME',\n",
       " 'base_estimator': RandomForestClassifier(class_weight='balanced', max_depth=100, max_samples=0.6,\n",
       "                        min_samples_split=6, n_jobs=-1),\n",
       " 'learning_rate': 0.001,\n",
       " 'n_estimators': 100}"
      ]
     },
     "execution_count": 109,
     "metadata": {},
     "output_type": "execute_result"
    }
   ],
   "source": [
    "# Best Parameter combination that has performed high than other combinations\n",
    "AdaBoost_Classifier_Model_GridSearch.best_params_"
   ]
  },
  {
   "cell_type": "code",
   "execution_count": 110,
   "id": "3d2e2adf",
   "metadata": {},
   "outputs": [
    {
     "data": {
      "text/plain": [
       "0.888119367240184"
      ]
     },
     "execution_count": 110,
     "metadata": {},
     "output_type": "execute_result"
    }
   ],
   "source": [
    "# Best Score that training model has performed from the parameter combinations\n",
    "AdaBoost_Classifier_Model_GridSearch.best_score_"
   ]
  },
  {
   "cell_type": "code",
   "execution_count": 111,
   "id": "d33a2e3f",
   "metadata": {},
   "outputs": [],
   "source": [
    "# Loading the crsoss validation results to the dataframe\n",
    "Df = pd.DataFrame.from_dict(AdaBoost_Classifier_Model_GridSearch.cv_results_)"
   ]
  },
  {
   "cell_type": "code",
   "execution_count": 112,
   "id": "d92e65c0",
   "metadata": {},
   "outputs": [
    {
     "data": {
      "text/html": [
       "<div>\n",
       "<style scoped>\n",
       "    .dataframe tbody tr th:only-of-type {\n",
       "        vertical-align: middle;\n",
       "    }\n",
       "\n",
       "    .dataframe tbody tr th {\n",
       "        vertical-align: top;\n",
       "    }\n",
       "\n",
       "    .dataframe thead th {\n",
       "        text-align: right;\n",
       "    }\n",
       "</style>\n",
       "<table border=\"1\" class=\"dataframe\">\n",
       "  <thead>\n",
       "    <tr style=\"text-align: right;\">\n",
       "      <th></th>\n",
       "      <th>mean_fit_time</th>\n",
       "      <th>std_fit_time</th>\n",
       "      <th>mean_score_time</th>\n",
       "      <th>std_score_time</th>\n",
       "      <th>param_algorithm</th>\n",
       "      <th>param_base_estimator</th>\n",
       "      <th>param_learning_rate</th>\n",
       "      <th>param_n_estimators</th>\n",
       "      <th>params</th>\n",
       "      <th>split0_test_score</th>\n",
       "      <th>split1_test_score</th>\n",
       "      <th>split2_test_score</th>\n",
       "      <th>split3_test_score</th>\n",
       "      <th>split4_test_score</th>\n",
       "      <th>mean_test_score</th>\n",
       "      <th>std_test_score</th>\n",
       "      <th>rank_test_score</th>\n",
       "    </tr>\n",
       "  </thead>\n",
       "  <tbody>\n",
       "    <tr>\n",
       "      <th>0</th>\n",
       "      <td>0.123231</td>\n",
       "      <td>0.006398</td>\n",
       "      <td>0.007998</td>\n",
       "      <td>1.809470e-06</td>\n",
       "      <td>SAMME</td>\n",
       "      <td>LogisticRegression(C=0.1, class_weight='balanc...</td>\n",
       "      <td>0.1</td>\n",
       "      <td>50</td>\n",
       "      <td>{'algorithm': 'SAMME', 'base_estimator': Logis...</td>\n",
       "      <td>0.000000</td>\n",
       "      <td>0.000000</td>\n",
       "      <td>0.000000</td>\n",
       "      <td>0.000000</td>\n",
       "      <td>0.000000</td>\n",
       "      <td>0.000000</td>\n",
       "      <td>0.000000</td>\n",
       "      <td>41</td>\n",
       "    </tr>\n",
       "    <tr>\n",
       "      <th>1</th>\n",
       "      <td>0.249748</td>\n",
       "      <td>0.005998</td>\n",
       "      <td>0.014408</td>\n",
       "      <td>3.202637e-03</td>\n",
       "      <td>SAMME</td>\n",
       "      <td>LogisticRegression(C=0.1, class_weight='balanc...</td>\n",
       "      <td>0.1</td>\n",
       "      <td>100</td>\n",
       "      <td>{'algorithm': 'SAMME', 'base_estimator': Logis...</td>\n",
       "      <td>0.000000</td>\n",
       "      <td>0.000000</td>\n",
       "      <td>0.000000</td>\n",
       "      <td>0.000000</td>\n",
       "      <td>0.000000</td>\n",
       "      <td>0.000000</td>\n",
       "      <td>0.000000</td>\n",
       "      <td>41</td>\n",
       "    </tr>\n",
       "    <tr>\n",
       "      <th>2</th>\n",
       "      <td>0.719132</td>\n",
       "      <td>0.015615</td>\n",
       "      <td>0.037027</td>\n",
       "      <td>3.782616e-03</td>\n",
       "      <td>SAMME</td>\n",
       "      <td>LogisticRegression(C=0.1, class_weight='balanc...</td>\n",
       "      <td>0.1</td>\n",
       "      <td>300</td>\n",
       "      <td>{'algorithm': 'SAMME', 'base_estimator': Logis...</td>\n",
       "      <td>0.000000</td>\n",
       "      <td>0.000000</td>\n",
       "      <td>0.000000</td>\n",
       "      <td>0.000000</td>\n",
       "      <td>0.000000</td>\n",
       "      <td>0.000000</td>\n",
       "      <td>0.000000</td>\n",
       "      <td>41</td>\n",
       "    </tr>\n",
       "    <tr>\n",
       "      <th>3</th>\n",
       "      <td>1.207537</td>\n",
       "      <td>0.020543</td>\n",
       "      <td>0.058421</td>\n",
       "      <td>6.003961e-03</td>\n",
       "      <td>SAMME</td>\n",
       "      <td>LogisticRegression(C=0.1, class_weight='balanc...</td>\n",
       "      <td>0.1</td>\n",
       "      <td>500</td>\n",
       "      <td>{'algorithm': 'SAMME', 'base_estimator': Logis...</td>\n",
       "      <td>0.000000</td>\n",
       "      <td>0.000000</td>\n",
       "      <td>0.000000</td>\n",
       "      <td>0.000000</td>\n",
       "      <td>0.000000</td>\n",
       "      <td>0.000000</td>\n",
       "      <td>0.000000</td>\n",
       "      <td>41</td>\n",
       "    </tr>\n",
       "    <tr>\n",
       "      <th>4</th>\n",
       "      <td>0.120035</td>\n",
       "      <td>0.005048</td>\n",
       "      <td>0.008001</td>\n",
       "      <td>9.536743e-07</td>\n",
       "      <td>SAMME</td>\n",
       "      <td>LogisticRegression(C=0.1, class_weight='balanc...</td>\n",
       "      <td>0.001</td>\n",
       "      <td>50</td>\n",
       "      <td>{'algorithm': 'SAMME', 'base_estimator': Logis...</td>\n",
       "      <td>0.000000</td>\n",
       "      <td>0.000000</td>\n",
       "      <td>0.000000</td>\n",
       "      <td>0.000000</td>\n",
       "      <td>0.000000</td>\n",
       "      <td>0.000000</td>\n",
       "      <td>0.000000</td>\n",
       "      <td>41</td>\n",
       "    </tr>\n",
       "    <tr>\n",
       "      <th>...</th>\n",
       "      <td>...</td>\n",
       "      <td>...</td>\n",
       "      <td>...</td>\n",
       "      <td>...</td>\n",
       "      <td>...</td>\n",
       "      <td>...</td>\n",
       "      <td>...</td>\n",
       "      <td>...</td>\n",
       "      <td>...</td>\n",
       "      <td>...</td>\n",
       "      <td>...</td>\n",
       "      <td>...</td>\n",
       "      <td>...</td>\n",
       "      <td>...</td>\n",
       "      <td>...</td>\n",
       "      <td>...</td>\n",
       "      <td>...</td>\n",
       "    </tr>\n",
       "    <tr>\n",
       "      <th>75</th>\n",
       "      <td>4.405975</td>\n",
       "      <td>1.889151</td>\n",
       "      <td>3.254428</td>\n",
       "      <td>3.606148e+00</td>\n",
       "      <td>SAMME</td>\n",
       "      <td>RandomForestClassifier(class_weight='balanced'...</td>\n",
       "      <td>1.0</td>\n",
       "      <td>500</td>\n",
       "      <td>{'algorithm': 'SAMME', 'base_estimator': Rando...</td>\n",
       "      <td>0.820513</td>\n",
       "      <td>0.769231</td>\n",
       "      <td>0.844444</td>\n",
       "      <td>0.863636</td>\n",
       "      <td>0.952381</td>\n",
       "      <td>0.850041</td>\n",
       "      <td>0.060153</td>\n",
       "      <td>22</td>\n",
       "    </tr>\n",
       "    <tr>\n",
       "      <th>76</th>\n",
       "      <td>3.648473</td>\n",
       "      <td>1.616577</td>\n",
       "      <td>1.937983</td>\n",
       "      <td>1.390141e+00</td>\n",
       "      <td>SAMME</td>\n",
       "      <td>RandomForestClassifier(class_weight='balanced'...</td>\n",
       "      <td>10</td>\n",
       "      <td>50</td>\n",
       "      <td>{'algorithm': 'SAMME', 'base_estimator': Rando...</td>\n",
       "      <td>0.526316</td>\n",
       "      <td>0.526316</td>\n",
       "      <td>0.603774</td>\n",
       "      <td>0.711864</td>\n",
       "      <td>0.545455</td>\n",
       "      <td>0.582745</td>\n",
       "      <td>0.070531</td>\n",
       "      <td>35</td>\n",
       "    </tr>\n",
       "    <tr>\n",
       "      <th>77</th>\n",
       "      <td>7.858344</td>\n",
       "      <td>1.256294</td>\n",
       "      <td>3.081086</td>\n",
       "      <td>1.002665e+00</td>\n",
       "      <td>SAMME</td>\n",
       "      <td>RandomForestClassifier(class_weight='balanced'...</td>\n",
       "      <td>10</td>\n",
       "      <td>100</td>\n",
       "      <td>{'algorithm': 'SAMME', 'base_estimator': Rando...</td>\n",
       "      <td>0.764706</td>\n",
       "      <td>0.526316</td>\n",
       "      <td>0.653846</td>\n",
       "      <td>0.545455</td>\n",
       "      <td>0.384615</td>\n",
       "      <td>0.574988</td>\n",
       "      <td>0.127824</td>\n",
       "      <td>36</td>\n",
       "    </tr>\n",
       "    <tr>\n",
       "      <th>78</th>\n",
       "      <td>9.123473</td>\n",
       "      <td>0.549635</td>\n",
       "      <td>3.264003</td>\n",
       "      <td>3.612474e-01</td>\n",
       "      <td>SAMME</td>\n",
       "      <td>RandomForestClassifier(class_weight='balanced'...</td>\n",
       "      <td>10</td>\n",
       "      <td>300</td>\n",
       "      <td>{'algorithm': 'SAMME', 'base_estimator': Rando...</td>\n",
       "      <td>0.645161</td>\n",
       "      <td>0.702703</td>\n",
       "      <td>0.629630</td>\n",
       "      <td>0.327869</td>\n",
       "      <td>0.687500</td>\n",
       "      <td>0.598572</td>\n",
       "      <td>0.137961</td>\n",
       "      <td>34</td>\n",
       "    </tr>\n",
       "    <tr>\n",
       "      <th>79</th>\n",
       "      <td>8.693754</td>\n",
       "      <td>0.895017</td>\n",
       "      <td>3.028877</td>\n",
       "      <td>2.503522e-01</td>\n",
       "      <td>SAMME</td>\n",
       "      <td>RandomForestClassifier(class_weight='balanced'...</td>\n",
       "      <td>10</td>\n",
       "      <td>500</td>\n",
       "      <td>{'algorithm': 'SAMME', 'base_estimator': Rando...</td>\n",
       "      <td>0.756757</td>\n",
       "      <td>0.590909</td>\n",
       "      <td>0.473684</td>\n",
       "      <td>0.628571</td>\n",
       "      <td>0.584615</td>\n",
       "      <td>0.606907</td>\n",
       "      <td>0.091022</td>\n",
       "      <td>33</td>\n",
       "    </tr>\n",
       "  </tbody>\n",
       "</table>\n",
       "<p>80 rows × 17 columns</p>\n",
       "</div>"
      ],
      "text/plain": [
       "    mean_fit_time  std_fit_time  mean_score_time  std_score_time  \\\n",
       "0        0.123231      0.006398         0.007998    1.809470e-06   \n",
       "1        0.249748      0.005998         0.014408    3.202637e-03   \n",
       "2        0.719132      0.015615         0.037027    3.782616e-03   \n",
       "3        1.207537      0.020543         0.058421    6.003961e-03   \n",
       "4        0.120035      0.005048         0.008001    9.536743e-07   \n",
       "..            ...           ...              ...             ...   \n",
       "75       4.405975      1.889151         3.254428    3.606148e+00   \n",
       "76       3.648473      1.616577         1.937983    1.390141e+00   \n",
       "77       7.858344      1.256294         3.081086    1.002665e+00   \n",
       "78       9.123473      0.549635         3.264003    3.612474e-01   \n",
       "79       8.693754      0.895017         3.028877    2.503522e-01   \n",
       "\n",
       "   param_algorithm                               param_base_estimator  \\\n",
       "0            SAMME  LogisticRegression(C=0.1, class_weight='balanc...   \n",
       "1            SAMME  LogisticRegression(C=0.1, class_weight='balanc...   \n",
       "2            SAMME  LogisticRegression(C=0.1, class_weight='balanc...   \n",
       "3            SAMME  LogisticRegression(C=0.1, class_weight='balanc...   \n",
       "4            SAMME  LogisticRegression(C=0.1, class_weight='balanc...   \n",
       "..             ...                                                ...   \n",
       "75           SAMME  RandomForestClassifier(class_weight='balanced'...   \n",
       "76           SAMME  RandomForestClassifier(class_weight='balanced'...   \n",
       "77           SAMME  RandomForestClassifier(class_weight='balanced'...   \n",
       "78           SAMME  RandomForestClassifier(class_weight='balanced'...   \n",
       "79           SAMME  RandomForestClassifier(class_weight='balanced'...   \n",
       "\n",
       "   param_learning_rate param_n_estimators  \\\n",
       "0                  0.1                 50   \n",
       "1                  0.1                100   \n",
       "2                  0.1                300   \n",
       "3                  0.1                500   \n",
       "4                0.001                 50   \n",
       "..                 ...                ...   \n",
       "75                 1.0                500   \n",
       "76                  10                 50   \n",
       "77                  10                100   \n",
       "78                  10                300   \n",
       "79                  10                500   \n",
       "\n",
       "                                               params  split0_test_score  \\\n",
       "0   {'algorithm': 'SAMME', 'base_estimator': Logis...           0.000000   \n",
       "1   {'algorithm': 'SAMME', 'base_estimator': Logis...           0.000000   \n",
       "2   {'algorithm': 'SAMME', 'base_estimator': Logis...           0.000000   \n",
       "3   {'algorithm': 'SAMME', 'base_estimator': Logis...           0.000000   \n",
       "4   {'algorithm': 'SAMME', 'base_estimator': Logis...           0.000000   \n",
       "..                                                ...                ...   \n",
       "75  {'algorithm': 'SAMME', 'base_estimator': Rando...           0.820513   \n",
       "76  {'algorithm': 'SAMME', 'base_estimator': Rando...           0.526316   \n",
       "77  {'algorithm': 'SAMME', 'base_estimator': Rando...           0.764706   \n",
       "78  {'algorithm': 'SAMME', 'base_estimator': Rando...           0.645161   \n",
       "79  {'algorithm': 'SAMME', 'base_estimator': Rando...           0.756757   \n",
       "\n",
       "    split1_test_score  split2_test_score  split3_test_score  \\\n",
       "0            0.000000           0.000000           0.000000   \n",
       "1            0.000000           0.000000           0.000000   \n",
       "2            0.000000           0.000000           0.000000   \n",
       "3            0.000000           0.000000           0.000000   \n",
       "4            0.000000           0.000000           0.000000   \n",
       "..                ...                ...                ...   \n",
       "75           0.769231           0.844444           0.863636   \n",
       "76           0.526316           0.603774           0.711864   \n",
       "77           0.526316           0.653846           0.545455   \n",
       "78           0.702703           0.629630           0.327869   \n",
       "79           0.590909           0.473684           0.628571   \n",
       "\n",
       "    split4_test_score  mean_test_score  std_test_score  rank_test_score  \n",
       "0            0.000000         0.000000        0.000000               41  \n",
       "1            0.000000         0.000000        0.000000               41  \n",
       "2            0.000000         0.000000        0.000000               41  \n",
       "3            0.000000         0.000000        0.000000               41  \n",
       "4            0.000000         0.000000        0.000000               41  \n",
       "..                ...              ...             ...              ...  \n",
       "75           0.952381         0.850041        0.060153               22  \n",
       "76           0.545455         0.582745        0.070531               35  \n",
       "77           0.384615         0.574988        0.127824               36  \n",
       "78           0.687500         0.598572        0.137961               34  \n",
       "79           0.584615         0.606907        0.091022               33  \n",
       "\n",
       "[80 rows x 17 columns]"
      ]
     },
     "execution_count": 112,
     "metadata": {},
     "output_type": "execute_result"
    }
   ],
   "source": [
    "Df"
   ]
  },
  {
   "cell_type": "code",
   "execution_count": 113,
   "id": "78837ccd",
   "metadata": {},
   "outputs": [],
   "source": [
    "# Now test the model from the best hyperparameter that we have got from GRID Serach CV\n",
    "Predicted_Y = AdaBoost_Classifier_Model_GridSearch.predict(X_Test)"
   ]
  },
  {
   "cell_type": "code",
   "execution_count": null,
   "id": "cd38e835",
   "metadata": {},
   "outputs": [],
   "source": [
    "confusion_matrix(Y_Test,Y_Predicted)"
   ]
  },
  {
   "cell_type": "code",
   "execution_count": 115,
   "id": "08d1b46a",
   "metadata": {},
   "outputs": [],
   "source": [
    "Final_report = classification_report(Y_Test,Y_Predicted)"
   ]
  }
 ],
 "metadata": {
  "kernelspec": {
   "display_name": "Python 3 (ipykernel)",
   "language": "python",
   "name": "python3"
  },
  "language_info": {
   "codemirror_mode": {
    "name": "ipython",
    "version": 3
   },
   "file_extension": ".py",
   "mimetype": "text/x-python",
   "name": "python",
   "nbconvert_exporter": "python",
   "pygments_lexer": "ipython3",
   "version": "3.10.5"
  }
 },
 "nbformat": 4,
 "nbformat_minor": 5
}

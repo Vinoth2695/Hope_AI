{
 "cells": [
  {
   "cell_type": "code",
   "execution_count": 1,
   "id": "ceb9303c",
   "metadata": {},
   "outputs": [],
   "source": [
    "import pickle"
   ]
  },
  {
   "cell_type": "code",
   "execution_count": 6,
   "id": "a410d9e7",
   "metadata": {},
   "outputs": [],
   "source": [
    "# Loading the final production model which has high r2_score\n",
    "SVM_Production_Model = pickle.load(open(r\"C:\\Users\\Vinoth\\Desktop\\HOPE AI\\Machine Learning\\ML_Regression_Assignment_Insurance_Data\\Final Models\\SVM_Regressor_Model_Final.sav\",'rb'))"
   ]
  },
  {
   "cell_type": "code",
   "execution_count": 5,
   "id": "986c77c4",
   "metadata": {},
   "outputs": [
    {
     "data": {
      "text/plain": [
       "array([2200.73071273])"
      ]
     },
     "execution_count": 5,
     "metadata": {},
     "output_type": "execute_result"
    }
   ],
   "source": [
    "SVM_Production_Model.predict([[-1.50996545, -0.40164599, -0.90861367, -1.0105187 , -0.5074631 ]])"
   ]
  },
  {
   "cell_type": "code",
   "execution_count": null,
   "id": "548933cf",
   "metadata": {},
   "outputs": [],
   "source": []
  }
 ],
 "metadata": {
  "kernelspec": {
   "display_name": "Python 3 (ipykernel)",
   "language": "python",
   "name": "python3"
  },
  "language_info": {
   "codemirror_mode": {
    "name": "ipython",
    "version": 3
   },
   "file_extension": ".py",
   "mimetype": "text/x-python",
   "name": "python",
   "nbconvert_exporter": "python",
   "pygments_lexer": "ipython3",
   "version": "3.10.5"
  }
 },
 "nbformat": 4,
 "nbformat_minor": 5
}

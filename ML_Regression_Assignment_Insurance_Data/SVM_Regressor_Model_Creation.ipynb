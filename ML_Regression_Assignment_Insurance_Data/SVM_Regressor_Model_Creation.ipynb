{
 "cells": [
  {
   "cell_type": "code",
   "execution_count": 134,
   "id": "7e3dbe28",
   "metadata": {},
   "outputs": [],
   "source": [
    "# import all necessary libraries used for SVM regressor model creation\n",
    "import numpy as np\n",
    "import pandas as pd\n",
    "from sklearn.preprocessing import StandardScaler\n",
    "from sklearn.model_selection import train_test_split\n",
    "from sklearn.svm import SVR\n",
    "from sklearn.metrics import r2_score\n",
    "import pickle"
   ]
  },
  {
   "cell_type": "code",
   "execution_count": 135,
   "id": "0e19d25f",
   "metadata": {},
   "outputs": [],
   "source": [
    "# Loading the data set using pandas \n",
    "\n",
    "Data = pd.read_csv(r\"C:\\Users\\Vinoth\\Desktop\\HOPE AI\\Machine Learning\\ML_Regression_Assignment_Insurance_Data\\DataSet\\insurance_pre.csv\")"
   ]
  },
  {
   "cell_type": "code",
   "execution_count": 136,
   "id": "c39c4c25",
   "metadata": {},
   "outputs": [
    {
     "data": {
      "text/html": [
       "<div>\n",
       "<style scoped>\n",
       "    .dataframe tbody tr th:only-of-type {\n",
       "        vertical-align: middle;\n",
       "    }\n",
       "\n",
       "    .dataframe tbody tr th {\n",
       "        vertical-align: top;\n",
       "    }\n",
       "\n",
       "    .dataframe thead th {\n",
       "        text-align: right;\n",
       "    }\n",
       "</style>\n",
       "<table border=\"1\" class=\"dataframe\">\n",
       "  <thead>\n",
       "    <tr style=\"text-align: right;\">\n",
       "      <th></th>\n",
       "      <th>age</th>\n",
       "      <th>sex</th>\n",
       "      <th>bmi</th>\n",
       "      <th>children</th>\n",
       "      <th>smoker</th>\n",
       "      <th>charges</th>\n",
       "    </tr>\n",
       "  </thead>\n",
       "  <tbody>\n",
       "    <tr>\n",
       "      <th>0</th>\n",
       "      <td>19</td>\n",
       "      <td>female</td>\n",
       "      <td>27.900</td>\n",
       "      <td>0</td>\n",
       "      <td>yes</td>\n",
       "      <td>16884.92400</td>\n",
       "    </tr>\n",
       "    <tr>\n",
       "      <th>1</th>\n",
       "      <td>18</td>\n",
       "      <td>male</td>\n",
       "      <td>33.770</td>\n",
       "      <td>1</td>\n",
       "      <td>no</td>\n",
       "      <td>1725.55230</td>\n",
       "    </tr>\n",
       "    <tr>\n",
       "      <th>2</th>\n",
       "      <td>28</td>\n",
       "      <td>male</td>\n",
       "      <td>33.000</td>\n",
       "      <td>3</td>\n",
       "      <td>no</td>\n",
       "      <td>4449.46200</td>\n",
       "    </tr>\n",
       "    <tr>\n",
       "      <th>3</th>\n",
       "      <td>33</td>\n",
       "      <td>male</td>\n",
       "      <td>22.705</td>\n",
       "      <td>0</td>\n",
       "      <td>no</td>\n",
       "      <td>21984.47061</td>\n",
       "    </tr>\n",
       "    <tr>\n",
       "      <th>4</th>\n",
       "      <td>32</td>\n",
       "      <td>male</td>\n",
       "      <td>28.880</td>\n",
       "      <td>0</td>\n",
       "      <td>no</td>\n",
       "      <td>3866.85520</td>\n",
       "    </tr>\n",
       "  </tbody>\n",
       "</table>\n",
       "</div>"
      ],
      "text/plain": [
       "   age     sex     bmi  children smoker      charges\n",
       "0   19  female  27.900         0    yes  16884.92400\n",
       "1   18    male  33.770         1     no   1725.55230\n",
       "2   28    male  33.000         3     no   4449.46200\n",
       "3   33    male  22.705         0     no  21984.47061\n",
       "4   32    male  28.880         0     no   3866.85520"
      ]
     },
     "execution_count": 136,
     "metadata": {},
     "output_type": "execute_result"
    }
   ],
   "source": [
    "Data.head()"
   ]
  },
  {
   "cell_type": "code",
   "execution_count": 137,
   "id": "de52831b",
   "metadata": {},
   "outputs": [
    {
     "data": {
      "text/plain": [
       "(1338, 6)"
      ]
     },
     "execution_count": 137,
     "metadata": {},
     "output_type": "execute_result"
    }
   ],
   "source": [
    "# We can see the shape of the data fro  below code\n",
    "\n",
    "Data.shape"
   ]
  },
  {
   "cell_type": "code",
   "execution_count": 138,
   "id": "641ed014",
   "metadata": {},
   "outputs": [],
   "source": [
    "# From above output we got to know that there are 1338 rows and 6 columns on our data set\n",
    "# There are four numerical columns and two category columns"
   ]
  },
  {
   "cell_type": "code",
   "execution_count": 139,
   "id": "25cbcd20",
   "metadata": {},
   "outputs": [],
   "source": [
    "# Lets convert the category columns into numeric columns by one-hot-encoding using pandas get_dummies method\n",
    "\n",
    "Data = pd.get_dummies(Data,drop_first=True)"
   ]
  },
  {
   "cell_type": "code",
   "execution_count": 140,
   "id": "58b932b5",
   "metadata": {},
   "outputs": [
    {
     "data": {
      "text/html": [
       "<div>\n",
       "<style scoped>\n",
       "    .dataframe tbody tr th:only-of-type {\n",
       "        vertical-align: middle;\n",
       "    }\n",
       "\n",
       "    .dataframe tbody tr th {\n",
       "        vertical-align: top;\n",
       "    }\n",
       "\n",
       "    .dataframe thead th {\n",
       "        text-align: right;\n",
       "    }\n",
       "</style>\n",
       "<table border=\"1\" class=\"dataframe\">\n",
       "  <thead>\n",
       "    <tr style=\"text-align: right;\">\n",
       "      <th></th>\n",
       "      <th>age</th>\n",
       "      <th>bmi</th>\n",
       "      <th>children</th>\n",
       "      <th>charges</th>\n",
       "      <th>sex_male</th>\n",
       "      <th>smoker_yes</th>\n",
       "    </tr>\n",
       "  </thead>\n",
       "  <tbody>\n",
       "    <tr>\n",
       "      <th>0</th>\n",
       "      <td>19</td>\n",
       "      <td>27.900</td>\n",
       "      <td>0</td>\n",
       "      <td>16884.92400</td>\n",
       "      <td>0</td>\n",
       "      <td>1</td>\n",
       "    </tr>\n",
       "    <tr>\n",
       "      <th>1</th>\n",
       "      <td>18</td>\n",
       "      <td>33.770</td>\n",
       "      <td>1</td>\n",
       "      <td>1725.55230</td>\n",
       "      <td>1</td>\n",
       "      <td>0</td>\n",
       "    </tr>\n",
       "    <tr>\n",
       "      <th>2</th>\n",
       "      <td>28</td>\n",
       "      <td>33.000</td>\n",
       "      <td>3</td>\n",
       "      <td>4449.46200</td>\n",
       "      <td>1</td>\n",
       "      <td>0</td>\n",
       "    </tr>\n",
       "    <tr>\n",
       "      <th>3</th>\n",
       "      <td>33</td>\n",
       "      <td>22.705</td>\n",
       "      <td>0</td>\n",
       "      <td>21984.47061</td>\n",
       "      <td>1</td>\n",
       "      <td>0</td>\n",
       "    </tr>\n",
       "    <tr>\n",
       "      <th>4</th>\n",
       "      <td>32</td>\n",
       "      <td>28.880</td>\n",
       "      <td>0</td>\n",
       "      <td>3866.85520</td>\n",
       "      <td>1</td>\n",
       "      <td>0</td>\n",
       "    </tr>\n",
       "  </tbody>\n",
       "</table>\n",
       "</div>"
      ],
      "text/plain": [
       "   age     bmi  children      charges  sex_male  smoker_yes\n",
       "0   19  27.900         0  16884.92400         0           1\n",
       "1   18  33.770         1   1725.55230         1           0\n",
       "2   28  33.000         3   4449.46200         1           0\n",
       "3   33  22.705         0  21984.47061         1           0\n",
       "4   32  28.880         0   3866.85520         1           0"
      ]
     },
     "execution_count": 140,
     "metadata": {},
     "output_type": "execute_result"
    }
   ],
   "source": [
    "Data.head()"
   ]
  },
  {
   "cell_type": "code",
   "execution_count": 141,
   "id": "6fe6dc6c",
   "metadata": {},
   "outputs": [
    {
     "data": {
      "text/plain": [
       "Index(['age', 'bmi', 'children', 'charges', 'sex_male', 'smoker_yes'], dtype='object')"
      ]
     },
     "execution_count": 141,
     "metadata": {},
     "output_type": "execute_result"
    }
   ],
   "source": [
    "Data.columns"
   ]
  },
  {
   "cell_type": "code",
   "execution_count": 142,
   "id": "7c27f97b",
   "metadata": {},
   "outputs": [],
   "source": [
    "# Lets re-arrange the column values for better visualization\n",
    "Data = Data.loc[:,['age', 'bmi', 'children','sex_male', 'smoker_yes','charges']]"
   ]
  },
  {
   "cell_type": "code",
   "execution_count": 143,
   "id": "e6343e97",
   "metadata": {},
   "outputs": [
    {
     "data": {
      "text/html": [
       "<div>\n",
       "<style scoped>\n",
       "    .dataframe tbody tr th:only-of-type {\n",
       "        vertical-align: middle;\n",
       "    }\n",
       "\n",
       "    .dataframe tbody tr th {\n",
       "        vertical-align: top;\n",
       "    }\n",
       "\n",
       "    .dataframe thead th {\n",
       "        text-align: right;\n",
       "    }\n",
       "</style>\n",
       "<table border=\"1\" class=\"dataframe\">\n",
       "  <thead>\n",
       "    <tr style=\"text-align: right;\">\n",
       "      <th></th>\n",
       "      <th>age</th>\n",
       "      <th>bmi</th>\n",
       "      <th>children</th>\n",
       "      <th>sex_male</th>\n",
       "      <th>smoker_yes</th>\n",
       "      <th>charges</th>\n",
       "    </tr>\n",
       "  </thead>\n",
       "  <tbody>\n",
       "    <tr>\n",
       "      <th>0</th>\n",
       "      <td>19</td>\n",
       "      <td>27.900</td>\n",
       "      <td>0</td>\n",
       "      <td>0</td>\n",
       "      <td>1</td>\n",
       "      <td>16884.92400</td>\n",
       "    </tr>\n",
       "    <tr>\n",
       "      <th>1</th>\n",
       "      <td>18</td>\n",
       "      <td>33.770</td>\n",
       "      <td>1</td>\n",
       "      <td>1</td>\n",
       "      <td>0</td>\n",
       "      <td>1725.55230</td>\n",
       "    </tr>\n",
       "    <tr>\n",
       "      <th>2</th>\n",
       "      <td>28</td>\n",
       "      <td>33.000</td>\n",
       "      <td>3</td>\n",
       "      <td>1</td>\n",
       "      <td>0</td>\n",
       "      <td>4449.46200</td>\n",
       "    </tr>\n",
       "    <tr>\n",
       "      <th>3</th>\n",
       "      <td>33</td>\n",
       "      <td>22.705</td>\n",
       "      <td>0</td>\n",
       "      <td>1</td>\n",
       "      <td>0</td>\n",
       "      <td>21984.47061</td>\n",
       "    </tr>\n",
       "    <tr>\n",
       "      <th>4</th>\n",
       "      <td>32</td>\n",
       "      <td>28.880</td>\n",
       "      <td>0</td>\n",
       "      <td>1</td>\n",
       "      <td>0</td>\n",
       "      <td>3866.85520</td>\n",
       "    </tr>\n",
       "  </tbody>\n",
       "</table>\n",
       "</div>"
      ],
      "text/plain": [
       "   age     bmi  children  sex_male  smoker_yes      charges\n",
       "0   19  27.900         0         0           1  16884.92400\n",
       "1   18  33.770         1         1           0   1725.55230\n",
       "2   28  33.000         3         1           0   4449.46200\n",
       "3   33  22.705         0         1           0  21984.47061\n",
       "4   32  28.880         0         1           0   3866.85520"
      ]
     },
     "execution_count": 143,
     "metadata": {},
     "output_type": "execute_result"
    }
   ],
   "source": [
    "Data.head()"
   ]
  },
  {
   "cell_type": "code",
   "execution_count": 144,
   "id": "4eeb4a76",
   "metadata": {},
   "outputs": [
    {
     "data": {
      "text/html": [
       "<div>\n",
       "<style scoped>\n",
       "    .dataframe tbody tr th:only-of-type {\n",
       "        vertical-align: middle;\n",
       "    }\n",
       "\n",
       "    .dataframe tbody tr th {\n",
       "        vertical-align: top;\n",
       "    }\n",
       "\n",
       "    .dataframe thead th {\n",
       "        text-align: right;\n",
       "    }\n",
       "</style>\n",
       "<table border=\"1\" class=\"dataframe\">\n",
       "  <thead>\n",
       "    <tr style=\"text-align: right;\">\n",
       "      <th></th>\n",
       "      <th>age</th>\n",
       "      <th>bmi</th>\n",
       "      <th>children</th>\n",
       "      <th>sex_male</th>\n",
       "      <th>smoker_yes</th>\n",
       "      <th>charges</th>\n",
       "    </tr>\n",
       "  </thead>\n",
       "  <tbody>\n",
       "  </tbody>\n",
       "</table>\n",
       "</div>"
      ],
      "text/plain": [
       "Empty DataFrame\n",
       "Columns: [age, bmi, children, sex_male, smoker_yes, charges]\n",
       "Index: []"
      ]
     },
     "execution_count": 144,
     "metadata": {},
     "output_type": "execute_result"
    }
   ],
   "source": [
    "# Lets check if data has any NA values in it \n",
    "\n",
    "Data[Data.isna().any(axis=1)]"
   ]
  },
  {
   "cell_type": "code",
   "execution_count": 145,
   "id": "e41164d7",
   "metadata": {},
   "outputs": [
    {
     "data": {
      "text/html": [
       "<div>\n",
       "<style scoped>\n",
       "    .dataframe tbody tr th:only-of-type {\n",
       "        vertical-align: middle;\n",
       "    }\n",
       "\n",
       "    .dataframe tbody tr th {\n",
       "        vertical-align: top;\n",
       "    }\n",
       "\n",
       "    .dataframe thead th {\n",
       "        text-align: right;\n",
       "    }\n",
       "</style>\n",
       "<table border=\"1\" class=\"dataframe\">\n",
       "  <thead>\n",
       "    <tr style=\"text-align: right;\">\n",
       "      <th></th>\n",
       "      <th>age</th>\n",
       "      <th>bmi</th>\n",
       "      <th>children</th>\n",
       "      <th>sex_male</th>\n",
       "      <th>smoker_yes</th>\n",
       "      <th>charges</th>\n",
       "    </tr>\n",
       "  </thead>\n",
       "  <tbody>\n",
       "  </tbody>\n",
       "</table>\n",
       "</div>"
      ],
      "text/plain": [
       "Empty DataFrame\n",
       "Columns: [age, bmi, children, sex_male, smoker_yes, charges]\n",
       "Index: []"
      ]
     },
     "execution_count": 145,
     "metadata": {},
     "output_type": "execute_result"
    }
   ],
   "source": [
    "# Lets check if data has any Null values in it \n",
    "Data[Data.isnull().any(axis=1)]"
   ]
  },
  {
   "cell_type": "code",
   "execution_count": 146,
   "id": "43ce378e",
   "metadata": {},
   "outputs": [],
   "source": [
    "# Lets divide the data into dependent/output and independent column/input columns of the data\n",
    "\n",
    "dependent = Data[[\"charges\"]]\n",
    "independent = Data[['age', 'bmi', 'children','sex_male', 'smoker_yes']]"
   ]
  },
  {
   "cell_type": "markdown",
   "id": "baea9ce4",
   "metadata": {},
   "source": [
    "## We can observe that all the columns are in different measuring scale so we can standardize the data to convert tem into same scale"
   ]
  },
  {
   "cell_type": "code",
   "execution_count": 147,
   "id": "ab117005",
   "metadata": {},
   "outputs": [],
   "source": [
    "Std = StandardScaler()"
   ]
  },
  {
   "cell_type": "code",
   "execution_count": 148,
   "id": "eac4be9d",
   "metadata": {},
   "outputs": [],
   "source": [
    "independent = Std.fit_transform(independent)"
   ]
  },
  {
   "cell_type": "code",
   "execution_count": 149,
   "id": "0b0e3d18",
   "metadata": {},
   "outputs": [
    {
     "data": {
      "text/plain": [
       "array([[-1.43876426, -0.45332   , -0.90861367, -1.0105187 ,  1.97058663],\n",
       "       [-1.50996545,  0.5096211 , -0.07876719,  0.98959079, -0.5074631 ],\n",
       "       [-0.79795355,  0.38330685,  1.58092576,  0.98959079, -0.5074631 ],\n",
       "       ...,\n",
       "       [-1.50996545,  1.0148781 , -0.90861367, -1.0105187 , -0.5074631 ],\n",
       "       [-1.29636188, -0.79781341, -0.90861367, -1.0105187 , -0.5074631 ],\n",
       "       [ 1.55168573, -0.26138796, -0.90861367, -1.0105187 ,  1.97058663]])"
      ]
     },
     "execution_count": 149,
     "metadata": {},
     "output_type": "execute_result"
    }
   ],
   "source": [
    "independent"
   ]
  },
  {
   "cell_type": "code",
   "execution_count": 150,
   "id": "e3ece157",
   "metadata": {},
   "outputs": [],
   "source": [
    "# convert independent arrays again into data frame for understanding\n",
    "Data_independent = pd.DataFrame(independent,columns=['age', 'bmi', 'children','sex_male', 'smoker_yes'])\n",
    "Data_independent['charges']=dependent"
   ]
  },
  {
   "cell_type": "code",
   "execution_count": 151,
   "id": "142789fb",
   "metadata": {},
   "outputs": [
    {
     "data": {
      "text/html": [
       "<div>\n",
       "<style scoped>\n",
       "    .dataframe tbody tr th:only-of-type {\n",
       "        vertical-align: middle;\n",
       "    }\n",
       "\n",
       "    .dataframe tbody tr th {\n",
       "        vertical-align: top;\n",
       "    }\n",
       "\n",
       "    .dataframe thead th {\n",
       "        text-align: right;\n",
       "    }\n",
       "</style>\n",
       "<table border=\"1\" class=\"dataframe\">\n",
       "  <thead>\n",
       "    <tr style=\"text-align: right;\">\n",
       "      <th></th>\n",
       "      <th>age</th>\n",
       "      <th>bmi</th>\n",
       "      <th>children</th>\n",
       "      <th>sex_male</th>\n",
       "      <th>smoker_yes</th>\n",
       "      <th>charges</th>\n",
       "    </tr>\n",
       "  </thead>\n",
       "  <tbody>\n",
       "    <tr>\n",
       "      <th>0</th>\n",
       "      <td>-1.438764</td>\n",
       "      <td>-0.453320</td>\n",
       "      <td>-0.908614</td>\n",
       "      <td>-1.010519</td>\n",
       "      <td>1.970587</td>\n",
       "      <td>16884.92400</td>\n",
       "    </tr>\n",
       "    <tr>\n",
       "      <th>1</th>\n",
       "      <td>-1.509965</td>\n",
       "      <td>0.509621</td>\n",
       "      <td>-0.078767</td>\n",
       "      <td>0.989591</td>\n",
       "      <td>-0.507463</td>\n",
       "      <td>1725.55230</td>\n",
       "    </tr>\n",
       "    <tr>\n",
       "      <th>2</th>\n",
       "      <td>-0.797954</td>\n",
       "      <td>0.383307</td>\n",
       "      <td>1.580926</td>\n",
       "      <td>0.989591</td>\n",
       "      <td>-0.507463</td>\n",
       "      <td>4449.46200</td>\n",
       "    </tr>\n",
       "    <tr>\n",
       "      <th>3</th>\n",
       "      <td>-0.441948</td>\n",
       "      <td>-1.305531</td>\n",
       "      <td>-0.908614</td>\n",
       "      <td>0.989591</td>\n",
       "      <td>-0.507463</td>\n",
       "      <td>21984.47061</td>\n",
       "    </tr>\n",
       "    <tr>\n",
       "      <th>4</th>\n",
       "      <td>-0.513149</td>\n",
       "      <td>-0.292556</td>\n",
       "      <td>-0.908614</td>\n",
       "      <td>0.989591</td>\n",
       "      <td>-0.507463</td>\n",
       "      <td>3866.85520</td>\n",
       "    </tr>\n",
       "  </tbody>\n",
       "</table>\n",
       "</div>"
      ],
      "text/plain": [
       "        age       bmi  children  sex_male  smoker_yes      charges\n",
       "0 -1.438764 -0.453320 -0.908614 -1.010519    1.970587  16884.92400\n",
       "1 -1.509965  0.509621 -0.078767  0.989591   -0.507463   1725.55230\n",
       "2 -0.797954  0.383307  1.580926  0.989591   -0.507463   4449.46200\n",
       "3 -0.441948 -1.305531 -0.908614  0.989591   -0.507463  21984.47061\n",
       "4 -0.513149 -0.292556 -0.908614  0.989591   -0.507463   3866.85520"
      ]
     },
     "execution_count": 151,
     "metadata": {},
     "output_type": "execute_result"
    }
   ],
   "source": [
    "Data_independent.head()"
   ]
  },
  {
   "cell_type": "code",
   "execution_count": 152,
   "id": "8e8c7ab2",
   "metadata": {},
   "outputs": [],
   "source": [
    "# Lets spli the data into traing and test data set for developing and testing the models\n",
    "\n",
    "X_Train,X_Test,Y_Train,Y_Test = train_test_split(independent,dependent,random_state=0,test_size=0.30)\n"
   ]
  },
  {
   "cell_type": "code",
   "execution_count": 153,
   "id": "81738774",
   "metadata": {},
   "outputs": [
    {
     "data": {
      "text/plain": [
       "array([[-1.50996545, -0.40164599, -0.90861367, -1.0105187 , -0.5074631 ],\n",
       "       [-0.01474046,  0.35049795, -0.90861367, -1.0105187 , -0.5074631 ],\n",
       "       [ 0.91087502,  2.63891845,  3.24061871, -1.0105187 , -0.5074631 ],\n",
       "       ...,\n",
       "       [ 0.05646073, -0.91592544, -0.90861367,  0.98959079, -0.5074631 ],\n",
       "       [-1.43876426,  0.79833938, -0.90861367,  0.98959079, -0.5074631 ],\n",
       "       [-0.4419476 , -1.99533811, -0.07876719, -1.0105187 , -0.5074631 ]])"
      ]
     },
     "execution_count": 153,
     "metadata": {},
     "output_type": "execute_result"
    }
   ],
   "source": [
    "X_Train"
   ]
  },
  {
   "cell_type": "code",
   "execution_count": 154,
   "id": "93471130",
   "metadata": {},
   "outputs": [
    {
     "data": {
      "text/html": [
       "<div>\n",
       "<style scoped>\n",
       "    .dataframe tbody tr th:only-of-type {\n",
       "        vertical-align: middle;\n",
       "    }\n",
       "\n",
       "    .dataframe tbody tr th {\n",
       "        vertical-align: top;\n",
       "    }\n",
       "\n",
       "    .dataframe thead th {\n",
       "        text-align: right;\n",
       "    }\n",
       "</style>\n",
       "<table border=\"1\" class=\"dataframe\">\n",
       "  <thead>\n",
       "    <tr style=\"text-align: right;\">\n",
       "      <th></th>\n",
       "      <th>charges</th>\n",
       "    </tr>\n",
       "  </thead>\n",
       "  <tbody>\n",
       "    <tr>\n",
       "      <th>1163</th>\n",
       "      <td>2200.83085</td>\n",
       "    </tr>\n",
       "    <tr>\n",
       "      <th>196</th>\n",
       "      <td>5649.71500</td>\n",
       "    </tr>\n",
       "    <tr>\n",
       "      <th>438</th>\n",
       "      <td>12592.53450</td>\n",
       "    </tr>\n",
       "    <tr>\n",
       "      <th>183</th>\n",
       "      <td>7419.47790</td>\n",
       "    </tr>\n",
       "    <tr>\n",
       "      <th>1298</th>\n",
       "      <td>5261.46945</td>\n",
       "    </tr>\n",
       "  </tbody>\n",
       "</table>\n",
       "</div>"
      ],
      "text/plain": [
       "          charges\n",
       "1163   2200.83085\n",
       "196    5649.71500\n",
       "438   12592.53450\n",
       "183    7419.47790\n",
       "1298   5261.46945"
      ]
     },
     "execution_count": 154,
     "metadata": {},
     "output_type": "execute_result"
    }
   ],
   "source": [
    "Y_Train.head()"
   ]
  },
  {
   "cell_type": "code",
   "execution_count": 155,
   "id": "a6b42f63",
   "metadata": {},
   "outputs": [
    {
     "data": {
      "text/plain": [
       "(936, 5)"
      ]
     },
     "execution_count": 155,
     "metadata": {},
     "output_type": "execute_result"
    }
   ],
   "source": [
    "X_Train.shape"
   ]
  },
  {
   "cell_type": "code",
   "execution_count": 156,
   "id": "76b8d4e9",
   "metadata": {},
   "outputs": [
    {
     "data": {
      "text/plain": [
       "(402, 5)"
      ]
     },
     "execution_count": 156,
     "metadata": {},
     "output_type": "execute_result"
    }
   ],
   "source": [
    "X_Test.shape"
   ]
  },
  {
   "cell_type": "code",
   "execution_count": 157,
   "id": "e8377421",
   "metadata": {},
   "outputs": [
    {
     "data": {
      "text/html": [
       "<style>#sk-container-id-7 {color: black;background-color: white;}#sk-container-id-7 pre{padding: 0;}#sk-container-id-7 div.sk-toggleable {background-color: white;}#sk-container-id-7 label.sk-toggleable__label {cursor: pointer;display: block;width: 100%;margin-bottom: 0;padding: 0.3em;box-sizing: border-box;text-align: center;}#sk-container-id-7 label.sk-toggleable__label-arrow:before {content: \"▸\";float: left;margin-right: 0.25em;color: #696969;}#sk-container-id-7 label.sk-toggleable__label-arrow:hover:before {color: black;}#sk-container-id-7 div.sk-estimator:hover label.sk-toggleable__label-arrow:before {color: black;}#sk-container-id-7 div.sk-toggleable__content {max-height: 0;max-width: 0;overflow: hidden;text-align: left;background-color: #f0f8ff;}#sk-container-id-7 div.sk-toggleable__content pre {margin: 0.2em;color: black;border-radius: 0.25em;background-color: #f0f8ff;}#sk-container-id-7 input.sk-toggleable__control:checked~div.sk-toggleable__content {max-height: 200px;max-width: 100%;overflow: auto;}#sk-container-id-7 input.sk-toggleable__control:checked~label.sk-toggleable__label-arrow:before {content: \"▾\";}#sk-container-id-7 div.sk-estimator input.sk-toggleable__control:checked~label.sk-toggleable__label {background-color: #d4ebff;}#sk-container-id-7 div.sk-label input.sk-toggleable__control:checked~label.sk-toggleable__label {background-color: #d4ebff;}#sk-container-id-7 input.sk-hidden--visually {border: 0;clip: rect(1px 1px 1px 1px);clip: rect(1px, 1px, 1px, 1px);height: 1px;margin: -1px;overflow: hidden;padding: 0;position: absolute;width: 1px;}#sk-container-id-7 div.sk-estimator {font-family: monospace;background-color: #f0f8ff;border: 1px dotted black;border-radius: 0.25em;box-sizing: border-box;margin-bottom: 0.5em;}#sk-container-id-7 div.sk-estimator:hover {background-color: #d4ebff;}#sk-container-id-7 div.sk-parallel-item::after {content: \"\";width: 100%;border-bottom: 1px solid gray;flex-grow: 1;}#sk-container-id-7 div.sk-label:hover label.sk-toggleable__label {background-color: #d4ebff;}#sk-container-id-7 div.sk-serial::before {content: \"\";position: absolute;border-left: 1px solid gray;box-sizing: border-box;top: 0;bottom: 0;left: 50%;z-index: 0;}#sk-container-id-7 div.sk-serial {display: flex;flex-direction: column;align-items: center;background-color: white;padding-right: 0.2em;padding-left: 0.2em;position: relative;}#sk-container-id-7 div.sk-item {position: relative;z-index: 1;}#sk-container-id-7 div.sk-parallel {display: flex;align-items: stretch;justify-content: center;background-color: white;position: relative;}#sk-container-id-7 div.sk-item::before, #sk-container-id-7 div.sk-parallel-item::before {content: \"\";position: absolute;border-left: 1px solid gray;box-sizing: border-box;top: 0;bottom: 0;left: 50%;z-index: -1;}#sk-container-id-7 div.sk-parallel-item {display: flex;flex-direction: column;z-index: 1;position: relative;background-color: white;}#sk-container-id-7 div.sk-parallel-item:first-child::after {align-self: flex-end;width: 50%;}#sk-container-id-7 div.sk-parallel-item:last-child::after {align-self: flex-start;width: 50%;}#sk-container-id-7 div.sk-parallel-item:only-child::after {width: 0;}#sk-container-id-7 div.sk-dashed-wrapped {border: 1px dashed gray;margin: 0 0.4em 0.5em 0.4em;box-sizing: border-box;padding-bottom: 0.4em;background-color: white;}#sk-container-id-7 div.sk-label label {font-family: monospace;font-weight: bold;display: inline-block;line-height: 1.2em;}#sk-container-id-7 div.sk-label-container {text-align: center;}#sk-container-id-7 div.sk-container {/* jupyter's `normalize.less` sets `[hidden] { display: none; }` but bootstrap.min.css set `[hidden] { display: none !important; }` so we also need the `!important` here to be able to override the default hidden behavior on the sphinx rendered scikit-learn.org. See: https://github.com/scikit-learn/scikit-learn/issues/21755 */display: inline-block !important;position: relative;}#sk-container-id-7 div.sk-text-repr-fallback {display: none;}</style><div id=\"sk-container-id-7\" class=\"sk-top-container\"><div class=\"sk-text-repr-fallback\"><pre>SVR()</pre><b>In a Jupyter environment, please rerun this cell to show the HTML representation or trust the notebook. <br />On GitHub, the HTML representation is unable to render, please try loading this page with nbviewer.org.</b></div><div class=\"sk-container\" hidden><div class=\"sk-item\"><div class=\"sk-estimator sk-toggleable\"><input class=\"sk-toggleable__control sk-hidden--visually\" id=\"sk-estimator-id-7\" type=\"checkbox\" checked><label for=\"sk-estimator-id-7\" class=\"sk-toggleable__label sk-toggleable__label-arrow\">SVR</label><div class=\"sk-toggleable__content\"><pre>SVR()</pre></div></div></div></div></div>"
      ],
      "text/plain": [
       "SVR()"
      ]
     },
     "execution_count": 157,
     "metadata": {},
     "output_type": "execute_result"
    }
   ],
   "source": [
    "# Lets create and Train the model using Training X_Train and Y_Train data sets\n",
    "\n",
    "SVM_Regression_Model = SVR()\n",
    "SVM_Regression_Model.fit(X_Train,Y_Train)"
   ]
  },
  {
   "cell_type": "code",
   "execution_count": 158,
   "id": "f72a2b65",
   "metadata": {},
   "outputs": [],
   "source": [
    "#Lets Test the model using our X_Test data\n",
    "\n",
    "Predicted_Y = SVM_Regression_Model.predict(X_Test)"
   ]
  },
  {
   "cell_type": "code",
   "execution_count": 159,
   "id": "77e0e379",
   "metadata": {},
   "outputs": [],
   "source": [
    "# Evaluate the r2_score for Y actual and Y predicted by the model\n",
    "R2_Score = r2_score(Y_Test,Predicted_Y)"
   ]
  },
  {
   "cell_type": "code",
   "execution_count": 160,
   "id": "ccb531c5",
   "metadata": {},
   "outputs": [
    {
     "data": {
      "text/plain": [
       "-0.08343585041352841"
      ]
     },
     "execution_count": 160,
     "metadata": {},
     "output_type": "execute_result"
    }
   ],
   "source": [
    "R2_Score\n"
   ]
  },
  {
   "cell_type": "markdown",
   "id": "a7cc0089",
   "metadata": {},
   "source": [
    "# Lets Create the Hyper-parameter search table using the below code for above SVM regressor Model"
   ]
  },
  {
   "cell_type": "code",
   "execution_count": 161,
   "id": "5d329e07",
   "metadata": {},
   "outputs": [],
   "source": [
    "Kernel = ['linear', 'poly', 'rbf', 'sigmoid']\n",
    "C_Values = [1.0,10,100,1000,5000,10000,0.1,0.01,0.001,0.0001]\n",
    "Columns=['S.NO','C-Values',\"Kernel:linear\",\"Kernel:poly\",\"Kernel:rbf\",\"Kernel:sigmoid\"]"
   ]
  },
  {
   "cell_type": "code",
   "execution_count": 162,
   "id": "bc86e8d3",
   "metadata": {},
   "outputs": [
    {
     "name": "stdout",
     "output_type": "stream",
     "text": [
      "['2' '10' '0.45958029276441337']\n",
      "['3' '100' '0.6276501359169483']\n",
      "['4' '1000' '0.764931290606295']\n",
      "['4' '1000' '0.854420696873579']\n",
      "['5' '5000' '0.8579024939516943']\n",
      "['5' '5000' '0.8748747155328088']\n",
      "['6' '10000' '0.8779176067658443']\n"
     ]
    },
    {
     "data": {
      "text/html": [
       "<div>\n",
       "<style scoped>\n",
       "    .dataframe tbody tr th:only-of-type {\n",
       "        vertical-align: middle;\n",
       "    }\n",
       "\n",
       "    .dataframe tbody tr th {\n",
       "        vertical-align: top;\n",
       "    }\n",
       "\n",
       "    .dataframe thead th {\n",
       "        text-align: right;\n",
       "    }\n",
       "</style>\n",
       "<table border=\"1\" class=\"dataframe\">\n",
       "  <thead>\n",
       "    <tr style=\"text-align: right;\">\n",
       "      <th></th>\n",
       "      <th>S.NO</th>\n",
       "      <th>C-Values</th>\n",
       "      <th>Kernel:linear</th>\n",
       "      <th>Kernel:poly</th>\n",
       "      <th>Kernel:rbf</th>\n",
       "      <th>Kernel:sigmoid</th>\n",
       "    </tr>\n",
       "  </thead>\n",
       "  <tbody>\n",
       "    <tr>\n",
       "      <th>0</th>\n",
       "      <td>1</td>\n",
       "      <td>1.0</td>\n",
       "      <td>-0.010543407775197355</td>\n",
       "      <td>-0.07609549531818716</td>\n",
       "      <td>-0.08343585041352841</td>\n",
       "      <td>-0.07553682233949766</td>\n",
       "    </tr>\n",
       "    <tr>\n",
       "      <th>1</th>\n",
       "      <td>2</td>\n",
       "      <td>10</td>\n",
       "      <td>0.45958029276441337</td>\n",
       "      <td>0.03513787188625095</td>\n",
       "      <td>-0.0327793744017828</td>\n",
       "      <td>0.03823293811594919</td>\n",
       "    </tr>\n",
       "    <tr>\n",
       "      <th>2</th>\n",
       "      <td>3</td>\n",
       "      <td>100</td>\n",
       "      <td>0.6276501359169483</td>\n",
       "      <td>0.6139950817219111</td>\n",
       "      <td>0.31735516363366145</td>\n",
       "      <td>0.5219161138070013</td>\n",
       "    </tr>\n",
       "    <tr>\n",
       "      <th>3</th>\n",
       "      <td>4</td>\n",
       "      <td>1000</td>\n",
       "      <td>0.764931290606295</td>\n",
       "      <td>0.854420696873579</td>\n",
       "      <td>0.8104257702399931</td>\n",
       "      <td>0.22248543437439128</td>\n",
       "    </tr>\n",
       "    <tr>\n",
       "      <th>4</th>\n",
       "      <td>5</td>\n",
       "      <td>5000</td>\n",
       "      <td>0.7414179787462394</td>\n",
       "      <td>0.8579024939516943</td>\n",
       "      <td>0.8748747155328088</td>\n",
       "      <td>-7.022207349410854</td>\n",
       "    </tr>\n",
       "    <tr>\n",
       "      <th>5</th>\n",
       "      <td>6</td>\n",
       "      <td>10000</td>\n",
       "      <td>0.7414227747333042</td>\n",
       "      <td>0.8577398907005558</td>\n",
       "      <td>0.8779176067658443</td>\n",
       "      <td>-35.2702182609943</td>\n",
       "    </tr>\n",
       "    <tr>\n",
       "      <th>6</th>\n",
       "      <td>7</td>\n",
       "      <td>0.1</td>\n",
       "      <td>-0.0809980247453892</td>\n",
       "      <td>-0.08834224496633847</td>\n",
       "      <td>-0.08907989638931135</td>\n",
       "      <td>-0.08828073015398874</td>\n",
       "    </tr>\n",
       "    <tr>\n",
       "      <th>7</th>\n",
       "      <td>8</td>\n",
       "      <td>0.01</td>\n",
       "      <td>-0.08883516857857776</td>\n",
       "      <td>-0.08957227456244765</td>\n",
       "      <td>-0.08964607586387885</td>\n",
       "      <td>-0.08956609915626523</td>\n",
       "    </tr>\n",
       "    <tr>\n",
       "      <th>8</th>\n",
       "      <td>9</td>\n",
       "      <td>0.001</td>\n",
       "      <td>-0.08962159363036681</td>\n",
       "      <td>-0.08969533106837102</td>\n",
       "      <td>-0.08970271156010545</td>\n",
       "      <td>-0.08969471328850309</td>\n",
       "    </tr>\n",
       "    <tr>\n",
       "      <th>9</th>\n",
       "      <td>10</td>\n",
       "      <td>0.0001</td>\n",
       "      <td>-0.0897002632422308</td>\n",
       "      <td>-0.08970763725442676</td>\n",
       "      <td>-0.08970837530721587</td>\n",
       "      <td>-0.08970757547404729</td>\n",
       "    </tr>\n",
       "  </tbody>\n",
       "</table>\n",
       "</div>"
      ],
      "text/plain": [
       "   S.NO C-Values          Kernel:linear           Kernel:poly  \\\n",
       "0     1      1.0  -0.010543407775197355  -0.07609549531818716   \n",
       "1     2       10    0.45958029276441337   0.03513787188625095   \n",
       "2     3      100     0.6276501359169483    0.6139950817219111   \n",
       "3     4     1000      0.764931290606295     0.854420696873579   \n",
       "4     5     5000     0.7414179787462394    0.8579024939516943   \n",
       "5     6    10000     0.7414227747333042    0.8577398907005558   \n",
       "6     7      0.1    -0.0809980247453892  -0.08834224496633847   \n",
       "7     8     0.01   -0.08883516857857776  -0.08957227456244765   \n",
       "8     9    0.001   -0.08962159363036681  -0.08969533106837102   \n",
       "9    10   0.0001    -0.0897002632422308  -0.08970763725442676   \n",
       "\n",
       "             Kernel:rbf        Kernel:sigmoid  \n",
       "0  -0.08343585041352841  -0.07553682233949766  \n",
       "1   -0.0327793744017828   0.03823293811594919  \n",
       "2   0.31735516363366145    0.5219161138070013  \n",
       "3    0.8104257702399931   0.22248543437439128  \n",
       "4    0.8748747155328088    -7.022207349410854  \n",
       "5    0.8779176067658443     -35.2702182609943  \n",
       "6  -0.08907989638931135  -0.08828073015398874  \n",
       "7  -0.08964607586387885  -0.08956609915626523  \n",
       "8  -0.08970271156010545  -0.08969471328850309  \n",
       "9  -0.08970837530721587  -0.08970757547404729  "
      ]
     },
     "execution_count": 162,
     "metadata": {},
     "output_type": "execute_result"
    }
   ],
   "source": [
    "import warnings\n",
    "from sklearn.exceptions import DataConversionWarning\n",
    "warnings.filterwarnings(\"ignore\", category=DataConversionWarning)\n",
    "Final_Series =[]\n",
    "S_No = 1\n",
    "Greater_R2_Score = 0\n",
    "High_Performance_Comb = []\n",
    "for val in C_Values:\n",
    "    dummy_Series=[]\n",
    "    dummy_Series.append(S_No)\n",
    "    dummy_Series.append(str(val))\n",
    "    for k in Kernel:\n",
    "        SVM_Regressor_Model = SVR()\n",
    "        SVM_Regressor_Model = SVR(kernel=k,C=val)\n",
    "        SVM_Regressor_Model.fit(X_Train,Y_Train)\n",
    "        Predicted_Y = SVM_Regressor_Model.predict(X_Test)\n",
    "        R2_score = r2_score(Y_Test,Predicted_Y)\n",
    "        dummy_Series.append(R2_score)\n",
    "        if R2_score > Greater_R2_Score:\n",
    "            R2_Series = []\n",
    "            Greater_R2_Score=R2_score\n",
    "            High_Performance_Col =['S.NO','C-value',\"Kernel:{}\".format(k)]\n",
    "            R2_Series.append(S_No)\n",
    "            R2_Series.append(str(val))\n",
    "            R2_Series.append(Greater_R2_Score)\n",
    "            High_Performance_Comb=np.array(R2_Series)\n",
    "            print(High_Performance_Comb)\n",
    "        else:\n",
    "            pass\n",
    "    #print(dummy_Series)\n",
    "    Final_Series.append(dummy_Series)\n",
    "    #dummy_Series = pd.Series(dummy_Series)\n",
    "    #Data_Frame.append(dummy_Series.set_axis(Data_Frame.columns).to_frame().T)\n",
    "    S_No = S_No+1\n",
    "Model_Evaluation = pd.DataFrame(np.array(Final_Series),columns=Columns)\n",
    "Model_Evaluation = Model_Evaluation.astype({'S.NO':'int'})\n",
    "High_Performance = pd.DataFrame([High_Performance_Comb],columns=High_Performance_Col)\n",
    "High_Performance = High_Performance.astype({'S.NO':'int'})\n",
    "Model_Evaluation"
   ]
  },
  {
   "cell_type": "code",
   "execution_count": 163,
   "id": "4f33d5fc",
   "metadata": {},
   "outputs": [
    {
     "data": {
      "text/html": [
       "<div>\n",
       "<style scoped>\n",
       "    .dataframe tbody tr th:only-of-type {\n",
       "        vertical-align: middle;\n",
       "    }\n",
       "\n",
       "    .dataframe tbody tr th {\n",
       "        vertical-align: top;\n",
       "    }\n",
       "\n",
       "    .dataframe thead th {\n",
       "        text-align: right;\n",
       "    }\n",
       "</style>\n",
       "<table border=\"1\" class=\"dataframe\">\n",
       "  <thead>\n",
       "    <tr style=\"text-align: right;\">\n",
       "      <th></th>\n",
       "      <th>S.NO</th>\n",
       "      <th>C-value</th>\n",
       "      <th>Kernel:rbf</th>\n",
       "    </tr>\n",
       "  </thead>\n",
       "  <tbody>\n",
       "    <tr>\n",
       "      <th>0</th>\n",
       "      <td>6</td>\n",
       "      <td>10000</td>\n",
       "      <td>0.8779176067658443</td>\n",
       "    </tr>\n",
       "  </tbody>\n",
       "</table>\n",
       "</div>"
      ],
      "text/plain": [
       "   S.NO C-value          Kernel:rbf\n",
       "0     6   10000  0.8779176067658443"
      ]
     },
     "execution_count": 163,
     "metadata": {},
     "output_type": "execute_result"
    }
   ],
   "source": [
    "# This is the best parameter combination that has greatest r2_score from the above table\n",
    "High_Performance"
   ]
  },
  {
   "cell_type": "code",
   "execution_count": 164,
   "id": "cb8191e8",
   "metadata": {},
   "outputs": [],
   "source": [
    "# Lets save the model with high performance\n",
    "SVM_Regressor_Model = SVR()\n",
    "SVM_Regressor_Model = SVR(kernel='rbf',C=10000)\n",
    "SVM_Regressor_Model.fit(X_Train,Y_Train)\n",
    "Predicted_Y = SVM_Regressor_Model.predict(X_Test)\n",
    "R2_score = r2_score(Y_Test,Predicted_Y)"
   ]
  },
  {
   "cell_type": "code",
   "execution_count": 165,
   "id": "d75b5523",
   "metadata": {},
   "outputs": [
    {
     "data": {
      "text/plain": [
       "0.8779176067658443"
      ]
     },
     "execution_count": 165,
     "metadata": {},
     "output_type": "execute_result"
    }
   ],
   "source": [
    "R2_score"
   ]
  },
  {
   "cell_type": "code",
   "execution_count": 92,
   "id": "25229c2a",
   "metadata": {},
   "outputs": [],
   "source": [
    "# Saving the model using the pickle\n",
    "\n",
    "pickle.dump(SVM_Regressor_Model,open(r\"C:\\Users\\Vinoth\\Desktop\\HOPE AI\\Machine Learning\\ML_Regression_Assignment_Insurance_Data\\Final Models/SVM_Regressor_Model_Final.sav\",'wb'))"
   ]
  },
  {
   "cell_type": "code",
   "execution_count": 93,
   "id": "65c47f89",
   "metadata": {},
   "outputs": [],
   "source": [
    "# Load the model and test for a single input randomly\n",
    "SVM_Regressor_Model = pickle.load(open(r\"C:\\Users\\Vinoth\\Desktop\\HOPE AI\\Machine Learning\\ML_Regression_Assignment_Insurance_Data\\Final Models/SVM_Regressor_Model_Final.sav\",'rb'))"
   ]
  },
  {
   "cell_type": "code",
   "execution_count": 96,
   "id": "1b94b491",
   "metadata": {},
   "outputs": [
    {
     "data": {
      "text/plain": [
       "array([2200.73071273])"
      ]
     },
     "execution_count": 96,
     "metadata": {},
     "output_type": "execute_result"
    }
   ],
   "source": [
    "SVM_Regressor_Model.predict([[-1.50996545, -0.40164599, -0.90861367, -1.0105187 , -0.5074631 ]])"
   ]
  },
  {
   "cell_type": "code",
   "execution_count": null,
   "id": "9145056f",
   "metadata": {},
   "outputs": [],
   "source": []
  }
 ],
 "metadata": {
  "kernelspec": {
   "display_name": "Python 3 (ipykernel)",
   "language": "python",
   "name": "python3"
  },
  "language_info": {
   "codemirror_mode": {
    "name": "ipython",
    "version": 3
   },
   "file_extension": ".py",
   "mimetype": "text/x-python",
   "name": "python",
   "nbconvert_exporter": "python",
   "pygments_lexer": "ipython3",
   "version": "3.10.5"
  }
 },
 "nbformat": 4,
 "nbformat_minor": 5
}

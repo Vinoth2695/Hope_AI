{
 "cells": [
  {
   "cell_type": "code",
   "execution_count": 627,
   "id": "ace899a6",
   "metadata": {},
   "outputs": [],
   "source": [
    "# Import all the required libraries to create a XGBoost Regressor Model\n",
    "\n",
    "import numpy as np\n",
    "import pandas as pd\n",
    "import pickle\n",
    "from sklearn.model_selection import train_test_split\n",
    "from sklearn.preprocessing import StandardScaler\n",
    "from sklearn.linear_model import LinearRegression\n",
    "from sklearn.tree import DecisionTreeRegressor\n",
    "from sklearn.svm import SVR\n",
    "from xgboost import XGBRegressor\n",
    "from sklearn.metrics import r2_score"
   ]
  },
  {
   "cell_type": "code",
   "execution_count": 628,
   "id": "dd13772b",
   "metadata": {},
   "outputs": [],
   "source": [
    "# Import data set\n",
    "Data = pd.read_csv(r\"C:\\Users\\Vinoth\\Desktop\\HOPE AI\\Machine Learning\\ML_Regression_Assignment_Insurance_Data\\DataSet\\insurance_pre.csv\")"
   ]
  },
  {
   "cell_type": "code",
   "execution_count": 629,
   "id": "976c9697",
   "metadata": {},
   "outputs": [
    {
     "data": {
      "text/html": [
       "<div>\n",
       "<style scoped>\n",
       "    .dataframe tbody tr th:only-of-type {\n",
       "        vertical-align: middle;\n",
       "    }\n",
       "\n",
       "    .dataframe tbody tr th {\n",
       "        vertical-align: top;\n",
       "    }\n",
       "\n",
       "    .dataframe thead th {\n",
       "        text-align: right;\n",
       "    }\n",
       "</style>\n",
       "<table border=\"1\" class=\"dataframe\">\n",
       "  <thead>\n",
       "    <tr style=\"text-align: right;\">\n",
       "      <th></th>\n",
       "      <th>age</th>\n",
       "      <th>sex</th>\n",
       "      <th>bmi</th>\n",
       "      <th>children</th>\n",
       "      <th>smoker</th>\n",
       "      <th>charges</th>\n",
       "    </tr>\n",
       "  </thead>\n",
       "  <tbody>\n",
       "    <tr>\n",
       "      <th>0</th>\n",
       "      <td>19</td>\n",
       "      <td>female</td>\n",
       "      <td>27.900</td>\n",
       "      <td>0</td>\n",
       "      <td>yes</td>\n",
       "      <td>16884.92400</td>\n",
       "    </tr>\n",
       "    <tr>\n",
       "      <th>1</th>\n",
       "      <td>18</td>\n",
       "      <td>male</td>\n",
       "      <td>33.770</td>\n",
       "      <td>1</td>\n",
       "      <td>no</td>\n",
       "      <td>1725.55230</td>\n",
       "    </tr>\n",
       "    <tr>\n",
       "      <th>2</th>\n",
       "      <td>28</td>\n",
       "      <td>male</td>\n",
       "      <td>33.000</td>\n",
       "      <td>3</td>\n",
       "      <td>no</td>\n",
       "      <td>4449.46200</td>\n",
       "    </tr>\n",
       "    <tr>\n",
       "      <th>3</th>\n",
       "      <td>33</td>\n",
       "      <td>male</td>\n",
       "      <td>22.705</td>\n",
       "      <td>0</td>\n",
       "      <td>no</td>\n",
       "      <td>21984.47061</td>\n",
       "    </tr>\n",
       "    <tr>\n",
       "      <th>4</th>\n",
       "      <td>32</td>\n",
       "      <td>male</td>\n",
       "      <td>28.880</td>\n",
       "      <td>0</td>\n",
       "      <td>no</td>\n",
       "      <td>3866.85520</td>\n",
       "    </tr>\n",
       "  </tbody>\n",
       "</table>\n",
       "</div>"
      ],
      "text/plain": [
       "   age     sex     bmi  children smoker      charges\n",
       "0   19  female  27.900         0    yes  16884.92400\n",
       "1   18    male  33.770         1     no   1725.55230\n",
       "2   28    male  33.000         3     no   4449.46200\n",
       "3   33    male  22.705         0     no  21984.47061\n",
       "4   32    male  28.880         0     no   3866.85520"
      ]
     },
     "execution_count": 629,
     "metadata": {},
     "output_type": "execute_result"
    }
   ],
   "source": [
    "Data.head()"
   ]
  },
  {
   "cell_type": "markdown",
   "id": "a9d60873",
   "metadata": {},
   "source": [
    "## From above input we can see that there are two category columns and four numerical columns"
   ]
  },
  {
   "cell_type": "code",
   "execution_count": 630,
   "id": "aa36d662",
   "metadata": {},
   "outputs": [
    {
     "data": {
      "text/plain": [
       "(1338, 6)"
      ]
     },
     "execution_count": 630,
     "metadata": {},
     "output_type": "execute_result"
    }
   ],
   "source": [
    "Data.shape"
   ]
  },
  {
   "cell_type": "markdown",
   "id": "500a1c6f",
   "metadata": {},
   "source": [
    "## From above input we can see that there are 1338 rows and 6 columns\n"
   ]
  },
  {
   "cell_type": "code",
   "execution_count": 631,
   "id": "5f7b8fbc",
   "metadata": {},
   "outputs": [
    {
     "data": {
      "text/html": [
       "<div>\n",
       "<style scoped>\n",
       "    .dataframe tbody tr th:only-of-type {\n",
       "        vertical-align: middle;\n",
       "    }\n",
       "\n",
       "    .dataframe tbody tr th {\n",
       "        vertical-align: top;\n",
       "    }\n",
       "\n",
       "    .dataframe thead th {\n",
       "        text-align: right;\n",
       "    }\n",
       "</style>\n",
       "<table border=\"1\" class=\"dataframe\">\n",
       "  <thead>\n",
       "    <tr style=\"text-align: right;\">\n",
       "      <th></th>\n",
       "      <th>age</th>\n",
       "      <th>sex</th>\n",
       "      <th>bmi</th>\n",
       "      <th>children</th>\n",
       "      <th>smoker</th>\n",
       "      <th>charges</th>\n",
       "    </tr>\n",
       "  </thead>\n",
       "  <tbody>\n",
       "  </tbody>\n",
       "</table>\n",
       "</div>"
      ],
      "text/plain": [
       "Empty DataFrame\n",
       "Columns: [age, sex, bmi, children, smoker, charges]\n",
       "Index: []"
      ]
     },
     "execution_count": 631,
     "metadata": {},
     "output_type": "execute_result"
    }
   ],
   "source": [
    "# Check if there is any NA values in the data set\n",
    "Data[Data.isna().any(axis=1)]"
   ]
  },
  {
   "cell_type": "code",
   "execution_count": 632,
   "id": "8dbd6c58",
   "metadata": {},
   "outputs": [
    {
     "data": {
      "text/html": [
       "<div>\n",
       "<style scoped>\n",
       "    .dataframe tbody tr th:only-of-type {\n",
       "        vertical-align: middle;\n",
       "    }\n",
       "\n",
       "    .dataframe tbody tr th {\n",
       "        vertical-align: top;\n",
       "    }\n",
       "\n",
       "    .dataframe thead th {\n",
       "        text-align: right;\n",
       "    }\n",
       "</style>\n",
       "<table border=\"1\" class=\"dataframe\">\n",
       "  <thead>\n",
       "    <tr style=\"text-align: right;\">\n",
       "      <th></th>\n",
       "      <th>age</th>\n",
       "      <th>sex</th>\n",
       "      <th>bmi</th>\n",
       "      <th>children</th>\n",
       "      <th>smoker</th>\n",
       "      <th>charges</th>\n",
       "    </tr>\n",
       "  </thead>\n",
       "  <tbody>\n",
       "  </tbody>\n",
       "</table>\n",
       "</div>"
      ],
      "text/plain": [
       "Empty DataFrame\n",
       "Columns: [age, sex, bmi, children, smoker, charges]\n",
       "Index: []"
      ]
     },
     "execution_count": 632,
     "metadata": {},
     "output_type": "execute_result"
    }
   ],
   "source": [
    "Data[Data.isnull().any(axis=1)]"
   ]
  },
  {
   "cell_type": "markdown",
   "id": "a867ebe9",
   "metadata": {},
   "source": [
    "## From above two commands we can see there is no any NA/Null values in the dataset"
   ]
  },
  {
   "cell_type": "code",
   "execution_count": 633,
   "id": "b6e4c4c9",
   "metadata": {},
   "outputs": [],
   "source": [
    "# Lets convert the Nominal categorical columns to numeric columns via one-hot encoding using get_dummies method using pandas\n",
    "\n",
    "Data = pd.get_dummies(Data,drop_first=True)"
   ]
  },
  {
   "cell_type": "code",
   "execution_count": 634,
   "id": "9a166fe3",
   "metadata": {},
   "outputs": [
    {
     "data": {
      "text/html": [
       "<div>\n",
       "<style scoped>\n",
       "    .dataframe tbody tr th:only-of-type {\n",
       "        vertical-align: middle;\n",
       "    }\n",
       "\n",
       "    .dataframe tbody tr th {\n",
       "        vertical-align: top;\n",
       "    }\n",
       "\n",
       "    .dataframe thead th {\n",
       "        text-align: right;\n",
       "    }\n",
       "</style>\n",
       "<table border=\"1\" class=\"dataframe\">\n",
       "  <thead>\n",
       "    <tr style=\"text-align: right;\">\n",
       "      <th></th>\n",
       "      <th>age</th>\n",
       "      <th>bmi</th>\n",
       "      <th>children</th>\n",
       "      <th>charges</th>\n",
       "      <th>sex_male</th>\n",
       "      <th>smoker_yes</th>\n",
       "    </tr>\n",
       "  </thead>\n",
       "  <tbody>\n",
       "    <tr>\n",
       "      <th>0</th>\n",
       "      <td>19</td>\n",
       "      <td>27.900</td>\n",
       "      <td>0</td>\n",
       "      <td>16884.92400</td>\n",
       "      <td>0</td>\n",
       "      <td>1</td>\n",
       "    </tr>\n",
       "    <tr>\n",
       "      <th>1</th>\n",
       "      <td>18</td>\n",
       "      <td>33.770</td>\n",
       "      <td>1</td>\n",
       "      <td>1725.55230</td>\n",
       "      <td>1</td>\n",
       "      <td>0</td>\n",
       "    </tr>\n",
       "    <tr>\n",
       "      <th>2</th>\n",
       "      <td>28</td>\n",
       "      <td>33.000</td>\n",
       "      <td>3</td>\n",
       "      <td>4449.46200</td>\n",
       "      <td>1</td>\n",
       "      <td>0</td>\n",
       "    </tr>\n",
       "    <tr>\n",
       "      <th>3</th>\n",
       "      <td>33</td>\n",
       "      <td>22.705</td>\n",
       "      <td>0</td>\n",
       "      <td>21984.47061</td>\n",
       "      <td>1</td>\n",
       "      <td>0</td>\n",
       "    </tr>\n",
       "    <tr>\n",
       "      <th>4</th>\n",
       "      <td>32</td>\n",
       "      <td>28.880</td>\n",
       "      <td>0</td>\n",
       "      <td>3866.85520</td>\n",
       "      <td>1</td>\n",
       "      <td>0</td>\n",
       "    </tr>\n",
       "  </tbody>\n",
       "</table>\n",
       "</div>"
      ],
      "text/plain": [
       "   age     bmi  children      charges  sex_male  smoker_yes\n",
       "0   19  27.900         0  16884.92400         0           1\n",
       "1   18  33.770         1   1725.55230         1           0\n",
       "2   28  33.000         3   4449.46200         1           0\n",
       "3   33  22.705         0  21984.47061         1           0\n",
       "4   32  28.880         0   3866.85520         1           0"
      ]
     },
     "execution_count": 634,
     "metadata": {},
     "output_type": "execute_result"
    }
   ],
   "source": [
    "Data.head()"
   ]
  },
  {
   "cell_type": "code",
   "execution_count": 635,
   "id": "2eaf233f",
   "metadata": {},
   "outputs": [],
   "source": [
    "# Re-arrange the columns for better visuslaization \n",
    "\n",
    "Data = Data.loc[:,['age','bmi','children','sex_male','smoker_yes','charges']]"
   ]
  },
  {
   "cell_type": "code",
   "execution_count": 636,
   "id": "56ea57e6",
   "metadata": {},
   "outputs": [
    {
     "data": {
      "text/html": [
       "<div>\n",
       "<style scoped>\n",
       "    .dataframe tbody tr th:only-of-type {\n",
       "        vertical-align: middle;\n",
       "    }\n",
       "\n",
       "    .dataframe tbody tr th {\n",
       "        vertical-align: top;\n",
       "    }\n",
       "\n",
       "    .dataframe thead th {\n",
       "        text-align: right;\n",
       "    }\n",
       "</style>\n",
       "<table border=\"1\" class=\"dataframe\">\n",
       "  <thead>\n",
       "    <tr style=\"text-align: right;\">\n",
       "      <th></th>\n",
       "      <th>age</th>\n",
       "      <th>bmi</th>\n",
       "      <th>children</th>\n",
       "      <th>sex_male</th>\n",
       "      <th>smoker_yes</th>\n",
       "      <th>charges</th>\n",
       "    </tr>\n",
       "  </thead>\n",
       "  <tbody>\n",
       "    <tr>\n",
       "      <th>0</th>\n",
       "      <td>19</td>\n",
       "      <td>27.900</td>\n",
       "      <td>0</td>\n",
       "      <td>0</td>\n",
       "      <td>1</td>\n",
       "      <td>16884.92400</td>\n",
       "    </tr>\n",
       "    <tr>\n",
       "      <th>1</th>\n",
       "      <td>18</td>\n",
       "      <td>33.770</td>\n",
       "      <td>1</td>\n",
       "      <td>1</td>\n",
       "      <td>0</td>\n",
       "      <td>1725.55230</td>\n",
       "    </tr>\n",
       "    <tr>\n",
       "      <th>2</th>\n",
       "      <td>28</td>\n",
       "      <td>33.000</td>\n",
       "      <td>3</td>\n",
       "      <td>1</td>\n",
       "      <td>0</td>\n",
       "      <td>4449.46200</td>\n",
       "    </tr>\n",
       "    <tr>\n",
       "      <th>3</th>\n",
       "      <td>33</td>\n",
       "      <td>22.705</td>\n",
       "      <td>0</td>\n",
       "      <td>1</td>\n",
       "      <td>0</td>\n",
       "      <td>21984.47061</td>\n",
       "    </tr>\n",
       "    <tr>\n",
       "      <th>4</th>\n",
       "      <td>32</td>\n",
       "      <td>28.880</td>\n",
       "      <td>0</td>\n",
       "      <td>1</td>\n",
       "      <td>0</td>\n",
       "      <td>3866.85520</td>\n",
       "    </tr>\n",
       "  </tbody>\n",
       "</table>\n",
       "</div>"
      ],
      "text/plain": [
       "   age     bmi  children  sex_male  smoker_yes      charges\n",
       "0   19  27.900         0         0           1  16884.92400\n",
       "1   18  33.770         1         1           0   1725.55230\n",
       "2   28  33.000         3         1           0   4449.46200\n",
       "3   33  22.705         0         1           0  21984.47061\n",
       "4   32  28.880         0         1           0   3866.85520"
      ]
     },
     "execution_count": 636,
     "metadata": {},
     "output_type": "execute_result"
    }
   ],
   "source": [
    "Data.head()"
   ]
  },
  {
   "cell_type": "code",
   "execution_count": 637,
   "id": "b6569e7e",
   "metadata": {},
   "outputs": [],
   "source": [
    "# Lets split data into dependent/output and independent/Input Variables\n",
    "\n",
    "dependent = Data[['charges']]\n",
    "independent = Data[['age','bmi','children','sex_male','smoker_yes']]"
   ]
  },
  {
   "cell_type": "code",
   "execution_count": 638,
   "id": "665bd7fc",
   "metadata": {},
   "outputs": [
    {
     "data": {
      "text/html": [
       "<div>\n",
       "<style scoped>\n",
       "    .dataframe tbody tr th:only-of-type {\n",
       "        vertical-align: middle;\n",
       "    }\n",
       "\n",
       "    .dataframe tbody tr th {\n",
       "        vertical-align: top;\n",
       "    }\n",
       "\n",
       "    .dataframe thead th {\n",
       "        text-align: right;\n",
       "    }\n",
       "</style>\n",
       "<table border=\"1\" class=\"dataframe\">\n",
       "  <thead>\n",
       "    <tr style=\"text-align: right;\">\n",
       "      <th></th>\n",
       "      <th>charges</th>\n",
       "    </tr>\n",
       "  </thead>\n",
       "  <tbody>\n",
       "    <tr>\n",
       "      <th>0</th>\n",
       "      <td>16884.92400</td>\n",
       "    </tr>\n",
       "    <tr>\n",
       "      <th>1</th>\n",
       "      <td>1725.55230</td>\n",
       "    </tr>\n",
       "    <tr>\n",
       "      <th>2</th>\n",
       "      <td>4449.46200</td>\n",
       "    </tr>\n",
       "    <tr>\n",
       "      <th>3</th>\n",
       "      <td>21984.47061</td>\n",
       "    </tr>\n",
       "    <tr>\n",
       "      <th>4</th>\n",
       "      <td>3866.85520</td>\n",
       "    </tr>\n",
       "  </tbody>\n",
       "</table>\n",
       "</div>"
      ],
      "text/plain": [
       "       charges\n",
       "0  16884.92400\n",
       "1   1725.55230\n",
       "2   4449.46200\n",
       "3  21984.47061\n",
       "4   3866.85520"
      ]
     },
     "execution_count": 638,
     "metadata": {},
     "output_type": "execute_result"
    }
   ],
   "source": [
    "dependent.head()"
   ]
  },
  {
   "cell_type": "code",
   "execution_count": 639,
   "id": "057565f6",
   "metadata": {},
   "outputs": [
    {
     "data": {
      "text/html": [
       "<div>\n",
       "<style scoped>\n",
       "    .dataframe tbody tr th:only-of-type {\n",
       "        vertical-align: middle;\n",
       "    }\n",
       "\n",
       "    .dataframe tbody tr th {\n",
       "        vertical-align: top;\n",
       "    }\n",
       "\n",
       "    .dataframe thead th {\n",
       "        text-align: right;\n",
       "    }\n",
       "</style>\n",
       "<table border=\"1\" class=\"dataframe\">\n",
       "  <thead>\n",
       "    <tr style=\"text-align: right;\">\n",
       "      <th></th>\n",
       "      <th>age</th>\n",
       "      <th>bmi</th>\n",
       "      <th>children</th>\n",
       "      <th>sex_male</th>\n",
       "      <th>smoker_yes</th>\n",
       "    </tr>\n",
       "  </thead>\n",
       "  <tbody>\n",
       "    <tr>\n",
       "      <th>0</th>\n",
       "      <td>19</td>\n",
       "      <td>27.900</td>\n",
       "      <td>0</td>\n",
       "      <td>0</td>\n",
       "      <td>1</td>\n",
       "    </tr>\n",
       "    <tr>\n",
       "      <th>1</th>\n",
       "      <td>18</td>\n",
       "      <td>33.770</td>\n",
       "      <td>1</td>\n",
       "      <td>1</td>\n",
       "      <td>0</td>\n",
       "    </tr>\n",
       "    <tr>\n",
       "      <th>2</th>\n",
       "      <td>28</td>\n",
       "      <td>33.000</td>\n",
       "      <td>3</td>\n",
       "      <td>1</td>\n",
       "      <td>0</td>\n",
       "    </tr>\n",
       "    <tr>\n",
       "      <th>3</th>\n",
       "      <td>33</td>\n",
       "      <td>22.705</td>\n",
       "      <td>0</td>\n",
       "      <td>1</td>\n",
       "      <td>0</td>\n",
       "    </tr>\n",
       "    <tr>\n",
       "      <th>4</th>\n",
       "      <td>32</td>\n",
       "      <td>28.880</td>\n",
       "      <td>0</td>\n",
       "      <td>1</td>\n",
       "      <td>0</td>\n",
       "    </tr>\n",
       "  </tbody>\n",
       "</table>\n",
       "</div>"
      ],
      "text/plain": [
       "   age     bmi  children  sex_male  smoker_yes\n",
       "0   19  27.900         0         0           1\n",
       "1   18  33.770         1         1           0\n",
       "2   28  33.000         3         1           0\n",
       "3   33  22.705         0         1           0\n",
       "4   32  28.880         0         1           0"
      ]
     },
     "execution_count": 639,
     "metadata": {},
     "output_type": "execute_result"
    }
   ],
   "source": [
    "independent.head()"
   ]
  },
  {
   "cell_type": "code",
   "execution_count": 640,
   "id": "131c0c9d",
   "metadata": {},
   "outputs": [],
   "source": [
    "# Convert the all the columns values into same scale using standardization\n",
    "\n",
    "std = StandardScaler()\n",
    "independent = std.fit_transform(independent)"
   ]
  },
  {
   "cell_type": "code",
   "execution_count": 641,
   "id": "035986f8",
   "metadata": {},
   "outputs": [
    {
     "data": {
      "text/plain": [
       "array([[-1.43876426, -0.45332   , -0.90861367, -1.0105187 ,  1.97058663],\n",
       "       [-1.50996545,  0.5096211 , -0.07876719,  0.98959079, -0.5074631 ],\n",
       "       [-0.79795355,  0.38330685,  1.58092576,  0.98959079, -0.5074631 ],\n",
       "       ...,\n",
       "       [-1.50996545,  1.0148781 , -0.90861367, -1.0105187 , -0.5074631 ],\n",
       "       [-1.29636188, -0.79781341, -0.90861367, -1.0105187 , -0.5074631 ],\n",
       "       [ 1.55168573, -0.26138796, -0.90861367, -1.0105187 ,  1.97058663]])"
      ]
     },
     "execution_count": 641,
     "metadata": {},
     "output_type": "execute_result"
    }
   ],
   "source": [
    "independent"
   ]
  },
  {
   "cell_type": "code",
   "execution_count": 642,
   "id": "d45cc071",
   "metadata": {},
   "outputs": [],
   "source": [
    "# converting independent back to data frame for visualizing the data\n",
    "\n",
    "independent = pd.DataFrame(independent,columns=['age','bmi','children','sex_male','smoker_yes']) "
   ]
  },
  {
   "cell_type": "code",
   "execution_count": 643,
   "id": "1eef3c06",
   "metadata": {},
   "outputs": [
    {
     "data": {
      "text/html": [
       "<div>\n",
       "<style scoped>\n",
       "    .dataframe tbody tr th:only-of-type {\n",
       "        vertical-align: middle;\n",
       "    }\n",
       "\n",
       "    .dataframe tbody tr th {\n",
       "        vertical-align: top;\n",
       "    }\n",
       "\n",
       "    .dataframe thead th {\n",
       "        text-align: right;\n",
       "    }\n",
       "</style>\n",
       "<table border=\"1\" class=\"dataframe\">\n",
       "  <thead>\n",
       "    <tr style=\"text-align: right;\">\n",
       "      <th></th>\n",
       "      <th>age</th>\n",
       "      <th>bmi</th>\n",
       "      <th>children</th>\n",
       "      <th>sex_male</th>\n",
       "      <th>smoker_yes</th>\n",
       "    </tr>\n",
       "  </thead>\n",
       "  <tbody>\n",
       "    <tr>\n",
       "      <th>0</th>\n",
       "      <td>-1.438764</td>\n",
       "      <td>-0.453320</td>\n",
       "      <td>-0.908614</td>\n",
       "      <td>-1.010519</td>\n",
       "      <td>1.970587</td>\n",
       "    </tr>\n",
       "    <tr>\n",
       "      <th>1</th>\n",
       "      <td>-1.509965</td>\n",
       "      <td>0.509621</td>\n",
       "      <td>-0.078767</td>\n",
       "      <td>0.989591</td>\n",
       "      <td>-0.507463</td>\n",
       "    </tr>\n",
       "    <tr>\n",
       "      <th>2</th>\n",
       "      <td>-0.797954</td>\n",
       "      <td>0.383307</td>\n",
       "      <td>1.580926</td>\n",
       "      <td>0.989591</td>\n",
       "      <td>-0.507463</td>\n",
       "    </tr>\n",
       "    <tr>\n",
       "      <th>3</th>\n",
       "      <td>-0.441948</td>\n",
       "      <td>-1.305531</td>\n",
       "      <td>-0.908614</td>\n",
       "      <td>0.989591</td>\n",
       "      <td>-0.507463</td>\n",
       "    </tr>\n",
       "    <tr>\n",
       "      <th>4</th>\n",
       "      <td>-0.513149</td>\n",
       "      <td>-0.292556</td>\n",
       "      <td>-0.908614</td>\n",
       "      <td>0.989591</td>\n",
       "      <td>-0.507463</td>\n",
       "    </tr>\n",
       "  </tbody>\n",
       "</table>\n",
       "</div>"
      ],
      "text/plain": [
       "        age       bmi  children  sex_male  smoker_yes\n",
       "0 -1.438764 -0.453320 -0.908614 -1.010519    1.970587\n",
       "1 -1.509965  0.509621 -0.078767  0.989591   -0.507463\n",
       "2 -0.797954  0.383307  1.580926  0.989591   -0.507463\n",
       "3 -0.441948 -1.305531 -0.908614  0.989591   -0.507463\n",
       "4 -0.513149 -0.292556 -0.908614  0.989591   -0.507463"
      ]
     },
     "execution_count": 643,
     "metadata": {},
     "output_type": "execute_result"
    }
   ],
   "source": [
    "independent.head()"
   ]
  },
  {
   "cell_type": "code",
   "execution_count": 663,
   "id": "0fb728f9",
   "metadata": {},
   "outputs": [],
   "source": [
    "# Lets divide the training and test data for creating and testing the model\n",
    "\n",
    "X_Train,X_Test,Y_Train,Y_Test = train_test_split(independent,dependent,test_size=0.30,random_state=0)"
   ]
  },
  {
   "cell_type": "code",
   "execution_count": 664,
   "id": "1d405c14",
   "metadata": {},
   "outputs": [
    {
     "data": {
      "text/plain": [
       "(936, 5)"
      ]
     },
     "execution_count": 664,
     "metadata": {},
     "output_type": "execute_result"
    }
   ],
   "source": [
    "X_Train.shape"
   ]
  },
  {
   "cell_type": "code",
   "execution_count": 665,
   "id": "0d0abe7d",
   "metadata": {},
   "outputs": [
    {
     "data": {
      "text/plain": [
       "(402, 5)"
      ]
     },
     "execution_count": 665,
     "metadata": {},
     "output_type": "execute_result"
    }
   ],
   "source": [
    "X_Test.shape"
   ]
  },
  {
   "cell_type": "markdown",
   "id": "84d3aa3a",
   "metadata": {},
   "source": [
    "## Objective states that what kind of problem you are going to solve like as we are going to solve the rgression problem we need to specify the which loss function that algoritm needs to use as metric to calculate the residuals(errors)\n",
    "                                       (or)\n",
    "## The objective determines the learning task, thus the type of the target variable. The available options include regression, logistic regression, binary and multi classification or rank. This option allows to apply XGBoost models to several different types of use cases.\n",
    "\n",
    "## The booster parameter sets the type of learner. Usually this is either a tree or a linear function. In the case of trees, the model will consist of an ensemble of trees. For the linear booster, it will be a weighted sum of linear functions.\n",
    "\n",
    "\n"
   ]
  },
  {
   "cell_type": "raw",
   "id": "3348b41a",
   "metadata": {},
   "source": [
    "# Below we are just seggregating the hyper parameters for the XGboost-regressor\n",
    "Parameter1:\n",
    "objective = [default=reg:squarederror]\n",
    "reg:squarederror\n",
    "reg:squaredlogerror\n",
    "reg:absoluteerror\n",
    "    \n",
    "    \n",
    "parameter 2    \n",
    "booster : gblinear or gbtree\n",
    "\n",
    "parameter 3\n",
    "n_estimators : 10\n",
    "\n",
    "parameter 4\n",
    "learning_rate =0.1"
   ]
  },
  {
   "cell_type": "code",
   "execution_count": 647,
   "id": "2ce9e417",
   "metadata": {},
   "outputs": [],
   "source": [
    "# The below are the extra parameters we can use as part of regression\n",
    "gamma=1\n",
    "eval_metric='mape'"
   ]
  },
  {
   "cell_type": "code",
   "execution_count": 666,
   "id": "b7752ac9",
   "metadata": {},
   "outputs": [
    {
     "data": {
      "text/html": [
       "<style>#sk-container-id-120 {color: black;background-color: white;}#sk-container-id-120 pre{padding: 0;}#sk-container-id-120 div.sk-toggleable {background-color: white;}#sk-container-id-120 label.sk-toggleable__label {cursor: pointer;display: block;width: 100%;margin-bottom: 0;padding: 0.3em;box-sizing: border-box;text-align: center;}#sk-container-id-120 label.sk-toggleable__label-arrow:before {content: \"▸\";float: left;margin-right: 0.25em;color: #696969;}#sk-container-id-120 label.sk-toggleable__label-arrow:hover:before {color: black;}#sk-container-id-120 div.sk-estimator:hover label.sk-toggleable__label-arrow:before {color: black;}#sk-container-id-120 div.sk-toggleable__content {max-height: 0;max-width: 0;overflow: hidden;text-align: left;background-color: #f0f8ff;}#sk-container-id-120 div.sk-toggleable__content pre {margin: 0.2em;color: black;border-radius: 0.25em;background-color: #f0f8ff;}#sk-container-id-120 input.sk-toggleable__control:checked~div.sk-toggleable__content {max-height: 200px;max-width: 100%;overflow: auto;}#sk-container-id-120 input.sk-toggleable__control:checked~label.sk-toggleable__label-arrow:before {content: \"▾\";}#sk-container-id-120 div.sk-estimator input.sk-toggleable__control:checked~label.sk-toggleable__label {background-color: #d4ebff;}#sk-container-id-120 div.sk-label input.sk-toggleable__control:checked~label.sk-toggleable__label {background-color: #d4ebff;}#sk-container-id-120 input.sk-hidden--visually {border: 0;clip: rect(1px 1px 1px 1px);clip: rect(1px, 1px, 1px, 1px);height: 1px;margin: -1px;overflow: hidden;padding: 0;position: absolute;width: 1px;}#sk-container-id-120 div.sk-estimator {font-family: monospace;background-color: #f0f8ff;border: 1px dotted black;border-radius: 0.25em;box-sizing: border-box;margin-bottom: 0.5em;}#sk-container-id-120 div.sk-estimator:hover {background-color: #d4ebff;}#sk-container-id-120 div.sk-parallel-item::after {content: \"\";width: 100%;border-bottom: 1px solid gray;flex-grow: 1;}#sk-container-id-120 div.sk-label:hover label.sk-toggleable__label {background-color: #d4ebff;}#sk-container-id-120 div.sk-serial::before {content: \"\";position: absolute;border-left: 1px solid gray;box-sizing: border-box;top: 0;bottom: 0;left: 50%;z-index: 0;}#sk-container-id-120 div.sk-serial {display: flex;flex-direction: column;align-items: center;background-color: white;padding-right: 0.2em;padding-left: 0.2em;position: relative;}#sk-container-id-120 div.sk-item {position: relative;z-index: 1;}#sk-container-id-120 div.sk-parallel {display: flex;align-items: stretch;justify-content: center;background-color: white;position: relative;}#sk-container-id-120 div.sk-item::before, #sk-container-id-120 div.sk-parallel-item::before {content: \"\";position: absolute;border-left: 1px solid gray;box-sizing: border-box;top: 0;bottom: 0;left: 50%;z-index: -1;}#sk-container-id-120 div.sk-parallel-item {display: flex;flex-direction: column;z-index: 1;position: relative;background-color: white;}#sk-container-id-120 div.sk-parallel-item:first-child::after {align-self: flex-end;width: 50%;}#sk-container-id-120 div.sk-parallel-item:last-child::after {align-self: flex-start;width: 50%;}#sk-container-id-120 div.sk-parallel-item:only-child::after {width: 0;}#sk-container-id-120 div.sk-dashed-wrapped {border: 1px dashed gray;margin: 0 0.4em 0.5em 0.4em;box-sizing: border-box;padding-bottom: 0.4em;background-color: white;}#sk-container-id-120 div.sk-label label {font-family: monospace;font-weight: bold;display: inline-block;line-height: 1.2em;}#sk-container-id-120 div.sk-label-container {text-align: center;}#sk-container-id-120 div.sk-container {/* jupyter's `normalize.less` sets `[hidden] { display: none; }` but bootstrap.min.css set `[hidden] { display: none !important; }` so we also need the `!important` here to be able to override the default hidden behavior on the sphinx rendered scikit-learn.org. See: https://github.com/scikit-learn/scikit-learn/issues/21755 */display: inline-block !important;position: relative;}#sk-container-id-120 div.sk-text-repr-fallback {display: none;}</style><div id=\"sk-container-id-120\" class=\"sk-top-container\"><div class=\"sk-text-repr-fallback\"><pre>XGBRegressor(base_score=None, booster=&#x27;gbtree&#x27;, callbacks=None,\n",
       "             colsample_bylevel=None, colsample_bynode=None,\n",
       "             colsample_bytree=None, device=None, early_stopping_rounds=None,\n",
       "             enable_categorical=False, eval_metric=None, feature_types=None,\n",
       "             gamma=None, grow_policy=None, importance_type=None,\n",
       "             interaction_constraints=None, learning_rate=1.8, max_bin=None,\n",
       "             max_cat_threshold=None, max_cat_to_onehot=None,\n",
       "             max_delta_step=None, max_depth=2, max_leaves=4,\n",
       "             min_child_weight=None, missing=nan, monotone_constraints=None,\n",
       "             multi_strategy=None, n_estimators=120, n_jobs=None,\n",
       "             num_parallel_tree=1, random_state=None, ...)</pre><b>In a Jupyter environment, please rerun this cell to show the HTML representation or trust the notebook. <br />On GitHub, the HTML representation is unable to render, please try loading this page with nbviewer.org.</b></div><div class=\"sk-container\" hidden><div class=\"sk-item\"><div class=\"sk-estimator sk-toggleable\"><input class=\"sk-toggleable__control sk-hidden--visually\" id=\"sk-estimator-id-156\" type=\"checkbox\" checked><label for=\"sk-estimator-id-156\" class=\"sk-toggleable__label sk-toggleable__label-arrow\">XGBRegressor</label><div class=\"sk-toggleable__content\"><pre>XGBRegressor(base_score=None, booster=&#x27;gbtree&#x27;, callbacks=None,\n",
       "             colsample_bylevel=None, colsample_bynode=None,\n",
       "             colsample_bytree=None, device=None, early_stopping_rounds=None,\n",
       "             enable_categorical=False, eval_metric=None, feature_types=None,\n",
       "             gamma=None, grow_policy=None, importance_type=None,\n",
       "             interaction_constraints=None, learning_rate=1.8, max_bin=None,\n",
       "             max_cat_threshold=None, max_cat_to_onehot=None,\n",
       "             max_delta_step=None, max_depth=2, max_leaves=4,\n",
       "             min_child_weight=None, missing=nan, monotone_constraints=None,\n",
       "             multi_strategy=None, n_estimators=120, n_jobs=None,\n",
       "             num_parallel_tree=1, random_state=None, ...)</pre></div></div></div></div></div>"
      ],
      "text/plain": [
       "XGBRegressor(base_score=None, booster='gbtree', callbacks=None,\n",
       "             colsample_bylevel=None, colsample_bynode=None,\n",
       "             colsample_bytree=None, device=None, early_stopping_rounds=None,\n",
       "             enable_categorical=False, eval_metric=None, feature_types=None,\n",
       "             gamma=None, grow_policy=None, importance_type=None,\n",
       "             interaction_constraints=None, learning_rate=1.8, max_bin=None,\n",
       "             max_cat_threshold=None, max_cat_to_onehot=None,\n",
       "             max_delta_step=None, max_depth=2, max_leaves=4,\n",
       "             min_child_weight=None, missing=nan, monotone_constraints=None,\n",
       "             multi_strategy=None, n_estimators=120, n_jobs=None,\n",
       "             num_parallel_tree=1, random_state=None, ...)"
      ]
     },
     "execution_count": 666,
     "metadata": {},
     "output_type": "execute_result"
    }
   ],
   "source": [
    "# Lets create the model using the training data\n",
    "\n",
    "XGBoost_Regressor_Model = XGBRegressor(objective=\"reg:squarederror\",booster='gbtree',n_estimators=120,enable_categorical=False,learning_rate=1.8,max_depth=2,max_leaves=4,num_parallel_tree=1)\n",
    "XGBoost_Regressor_Model.fit(X_Train,Y_Train)"
   ]
  },
  {
   "cell_type": "code",
   "execution_count": 667,
   "id": "6ea38008",
   "metadata": {},
   "outputs": [],
   "source": [
    "# Test the model using our test data\n",
    "\n",
    "predicted_y = XGBoost_Regressor_Model.predict(X_Test)"
   ]
  },
  {
   "cell_type": "code",
   "execution_count": 668,
   "id": "d6eecb64",
   "metadata": {},
   "outputs": [],
   "source": [
    "# Lets validate the R_score value\n",
    "\n",
    "R2_Score = r2_score(Y_Test,predicted_y)"
   ]
  },
  {
   "cell_type": "code",
   "execution_count": 669,
   "id": "099feffb",
   "metadata": {},
   "outputs": [
    {
     "data": {
      "text/plain": [
       "0.8286389171545191"
      ]
     },
     "execution_count": 669,
     "metadata": {},
     "output_type": "execute_result"
    }
   ],
   "source": [
    "R2_Score"
   ]
  },
  {
   "cell_type": "markdown",
   "id": "3cfa7acd",
   "metadata": {},
   "source": [
    "## Lets try to create the evaluation metric grid/table with different parameter options"
   ]
  },
  {
   "cell_type": "code",
   "execution_count": 652,
   "id": "acf875b6",
   "metadata": {},
   "outputs": [],
   "source": [
    "Columns = ['S.NO','objective','n_estimators','booster','learning_rate','R2_Value']\n",
    "#estimator = ['LinearRegression', 'DecisionTreeRegressor', 'SVM']\n",
    "objective = ['reg:squarederror','reg:squaredlogerror','reg:absoluteerror']\n",
    "n_estimators = [i for i in range(50,200,10)]\n",
    "booster=['gblinear', 'gbtree']\n",
    "learning_rate = [i for i in np.arange(0,2,0.2)]"
   ]
  },
  {
   "cell_type": "code",
   "execution_count": 673,
   "id": "a96cc52d",
   "metadata": {
    "scrolled": false
   },
   "outputs": [
    {
     "data": {
      "text/html": [
       "<div>\n",
       "<style scoped>\n",
       "    .dataframe tbody tr th:only-of-type {\n",
       "        vertical-align: middle;\n",
       "    }\n",
       "\n",
       "    .dataframe tbody tr th {\n",
       "        vertical-align: top;\n",
       "    }\n",
       "\n",
       "    .dataframe thead th {\n",
       "        text-align: right;\n",
       "    }\n",
       "</style>\n",
       "<table border=\"1\" class=\"dataframe\">\n",
       "  <thead>\n",
       "    <tr style=\"text-align: right;\">\n",
       "      <th></th>\n",
       "      <th>S.NO</th>\n",
       "      <th>objective</th>\n",
       "      <th>n_estimators</th>\n",
       "      <th>booster</th>\n",
       "      <th>learning_rate</th>\n",
       "      <th>R2_Value</th>\n",
       "    </tr>\n",
       "  </thead>\n",
       "  <tbody>\n",
       "    <tr>\n",
       "      <th>0</th>\n",
       "      <td>1</td>\n",
       "      <td>reg:squarederror</td>\n",
       "      <td>50</td>\n",
       "      <td>gblinear</td>\n",
       "      <td>0.0</td>\n",
       "      <td>-9.771979443518042e-05</td>\n",
       "    </tr>\n",
       "    <tr>\n",
       "      <th>1</th>\n",
       "      <td>2</td>\n",
       "      <td>reg:squarederror</td>\n",
       "      <td>50</td>\n",
       "      <td>gblinear</td>\n",
       "      <td>0.2</td>\n",
       "      <td>0.789477419526325</td>\n",
       "    </tr>\n",
       "    <tr>\n",
       "      <th>2</th>\n",
       "      <td>3</td>\n",
       "      <td>reg:squarederror</td>\n",
       "      <td>50</td>\n",
       "      <td>gblinear</td>\n",
       "      <td>0.4</td>\n",
       "      <td>0.7894790251540582</td>\n",
       "    </tr>\n",
       "    <tr>\n",
       "      <th>3</th>\n",
       "      <td>4</td>\n",
       "      <td>reg:squarederror</td>\n",
       "      <td>50</td>\n",
       "      <td>gblinear</td>\n",
       "      <td>0.6000000000000001</td>\n",
       "      <td>0.7894790320724943</td>\n",
       "    </tr>\n",
       "    <tr>\n",
       "      <th>4</th>\n",
       "      <td>5</td>\n",
       "      <td>reg:squarederror</td>\n",
       "      <td>50</td>\n",
       "      <td>gblinear</td>\n",
       "      <td>0.8</td>\n",
       "      <td>0.7894790366955874</td>\n",
       "    </tr>\n",
       "    <tr>\n",
       "      <th>...</th>\n",
       "      <td>...</td>\n",
       "      <td>...</td>\n",
       "      <td>...</td>\n",
       "      <td>...</td>\n",
       "      <td>...</td>\n",
       "      <td>...</td>\n",
       "    </tr>\n",
       "    <tr>\n",
       "      <th>895</th>\n",
       "      <td>896</td>\n",
       "      <td>reg:absoluteerror</td>\n",
       "      <td>190</td>\n",
       "      <td>gbtree</td>\n",
       "      <td>1.0</td>\n",
       "      <td>0.7453462746919265</td>\n",
       "    </tr>\n",
       "    <tr>\n",
       "      <th>896</th>\n",
       "      <td>897</td>\n",
       "      <td>reg:absoluteerror</td>\n",
       "      <td>190</td>\n",
       "      <td>gbtree</td>\n",
       "      <td>1.2000000000000002</td>\n",
       "      <td>0.6311653271421477</td>\n",
       "    </tr>\n",
       "    <tr>\n",
       "      <th>897</th>\n",
       "      <td>898</td>\n",
       "      <td>reg:absoluteerror</td>\n",
       "      <td>190</td>\n",
       "      <td>gbtree</td>\n",
       "      <td>1.4000000000000001</td>\n",
       "      <td>0.2774452790488353</td>\n",
       "    </tr>\n",
       "    <tr>\n",
       "      <th>898</th>\n",
       "      <td>899</td>\n",
       "      <td>reg:absoluteerror</td>\n",
       "      <td>190</td>\n",
       "      <td>gbtree</td>\n",
       "      <td>1.6</td>\n",
       "      <td>0.5025661240394284</td>\n",
       "    </tr>\n",
       "    <tr>\n",
       "      <th>899</th>\n",
       "      <td>900</td>\n",
       "      <td>reg:absoluteerror</td>\n",
       "      <td>190</td>\n",
       "      <td>gbtree</td>\n",
       "      <td>1.8</td>\n",
       "      <td>0.442731379548995</td>\n",
       "    </tr>\n",
       "  </tbody>\n",
       "</table>\n",
       "<p>900 rows × 6 columns</p>\n",
       "</div>"
      ],
      "text/plain": [
       "     S.NO          objective  n_estimators   booster       learning_rate  \\\n",
       "0       1   reg:squarederror            50  gblinear                 0.0   \n",
       "1       2   reg:squarederror            50  gblinear                 0.2   \n",
       "2       3   reg:squarederror            50  gblinear                 0.4   \n",
       "3       4   reg:squarederror            50  gblinear  0.6000000000000001   \n",
       "4       5   reg:squarederror            50  gblinear                 0.8   \n",
       "..    ...                ...           ...       ...                 ...   \n",
       "895   896  reg:absoluteerror           190    gbtree                 1.0   \n",
       "896   897  reg:absoluteerror           190    gbtree  1.2000000000000002   \n",
       "897   898  reg:absoluteerror           190    gbtree  1.4000000000000001   \n",
       "898   899  reg:absoluteerror           190    gbtree                 1.6   \n",
       "899   900  reg:absoluteerror           190    gbtree                 1.8   \n",
       "\n",
       "                   R2_Value  \n",
       "0    -9.771979443518042e-05  \n",
       "1         0.789477419526325  \n",
       "2        0.7894790251540582  \n",
       "3        0.7894790320724943  \n",
       "4        0.7894790366955874  \n",
       "..                      ...  \n",
       "895      0.7453462746919265  \n",
       "896      0.6311653271421477  \n",
       "897      0.2774452790488353  \n",
       "898      0.5025661240394284  \n",
       "899       0.442731379548995  \n",
       "\n",
       "[900 rows x 6 columns]"
      ]
     },
     "execution_count": 673,
     "metadata": {},
     "output_type": "execute_result"
    }
   ],
   "source": [
    "import warnings\n",
    "from warnings import simplefilter\n",
    "simplefilter(action='ignore', category=FutureWarning)\n",
    "from sklearn.exceptions import DataConversionWarning\n",
    "warnings.filterwarnings(\"ignore\", category=DataConversionWarning)\n",
    "Final_Series =[]\n",
    "S_No = 1\n",
    "Greater_R2_Score = 0\n",
    "High_Performance_Comb = []\n",
    "Final_Series =[]\n",
    "for o in objective:\n",
    "    for n in n_estimators:\n",
    "        for b in booster:\n",
    "            for l in learning_rate:\n",
    "                dummy_Series=[]\n",
    "                dummy_Series.append(S_No)\n",
    "                dummy_Series.append(o)\n",
    "                dummy_Series.append(n)\n",
    "                dummy_Series.append(b)\n",
    "                dummy_Series.append(l)\n",
    "                Model = XGBRegressor(objective=o,booster=b,n_estimators=n,learning_rate=l)\n",
    "                Model.fit(X_Train,Y_Train)\n",
    "                Predicted_Y = Model.predict(X_Test)\n",
    "                R2_score = r2_score(Y_Test,Predicted_Y)\n",
    "                dummy_Series.append(R2_score)\n",
    "                if R2_score > Greater_R2_Score:\n",
    "                    R2_Series = []\n",
    "                    Greater_R2_Score=R2_score\n",
    "                    High_Performance_Col =['S.NO','objective',\"n_estimators\",'booster','learning_rate','R2_score']\n",
    "                    R2_Series.append(S_No)\n",
    "                    R2_Series.append(o)\n",
    "                    R2_Series.append(n)\n",
    "                    R2_Series.append(b)\n",
    "                    R2_Series.append(l)\n",
    "                    R2_Series.append(Greater_R2_Score)\n",
    "                    High_Performance_Comb=np.array(R2_Series)\n",
    "                    #print(High_Performance_Comb)\n",
    "                else:\n",
    "                    pass\n",
    "                Final_Series.append(dummy_Series)\n",
    "                S_No = S_No+1\n",
    "Final_Series\n",
    "Model_Evaluation = pd.DataFrame(np.array(Final_Series),columns=Columns)\n",
    "Model_Evaluation = Model_Evaluation.astype({'S.NO':'int'})\n",
    "Model_Evaluation = Model_Evaluation.astype({'n_estimators':'int'})\n",
    "Model_Evaluation\n",
    "High_Performance = pd.DataFrame([High_Performance_Comb],columns=High_Performance_Col)\n",
    "High_Performance = High_Performance.astype({'S.NO':'int'})\n",
    "Model_Evaluation"
   ]
  },
  {
   "cell_type": "code",
   "execution_count": 674,
   "id": "7066f17b",
   "metadata": {},
   "outputs": [],
   "source": [
    "Model_Evaluation = Model_Evaluation.astype({'n_estimators':'int'})"
   ]
  },
  {
   "cell_type": "code",
   "execution_count": 675,
   "id": "d3d1aee3",
   "metadata": {},
   "outputs": [],
   "source": [
    "Model_Evaluation = Model_Evaluation.astype({'objective':'str'})"
   ]
  },
  {
   "cell_type": "code",
   "execution_count": 676,
   "id": "ba831292",
   "metadata": {},
   "outputs": [],
   "source": [
    "Model_Evaluation = Model_Evaluation.astype({'booster':'str'})"
   ]
  },
  {
   "cell_type": "code",
   "execution_count": 677,
   "id": "b5840e2e",
   "metadata": {},
   "outputs": [
    {
     "data": {
      "text/html": [
       "<div>\n",
       "<style scoped>\n",
       "    .dataframe tbody tr th:only-of-type {\n",
       "        vertical-align: middle;\n",
       "    }\n",
       "\n",
       "    .dataframe tbody tr th {\n",
       "        vertical-align: top;\n",
       "    }\n",
       "\n",
       "    .dataframe thead th {\n",
       "        text-align: right;\n",
       "    }\n",
       "</style>\n",
       "<table border=\"1\" class=\"dataframe\">\n",
       "  <thead>\n",
       "    <tr style=\"text-align: right;\">\n",
       "      <th></th>\n",
       "      <th>S.NO</th>\n",
       "      <th>objective</th>\n",
       "      <th>n_estimators</th>\n",
       "      <th>booster</th>\n",
       "      <th>learning_rate</th>\n",
       "      <th>R2_Value</th>\n",
       "    </tr>\n",
       "  </thead>\n",
       "  <tbody>\n",
       "    <tr>\n",
       "      <th>730</th>\n",
       "      <td>731</td>\n",
       "      <td>reg:absoluteerror</td>\n",
       "      <td>110</td>\n",
       "      <td>gbtree</td>\n",
       "      <td>0.0</td>\n",
       "      <td>-0.08970899119891218</td>\n",
       "    </tr>\n",
       "    <tr>\n",
       "      <th>731</th>\n",
       "      <td>732</td>\n",
       "      <td>reg:absoluteerror</td>\n",
       "      <td>110</td>\n",
       "      <td>gbtree</td>\n",
       "      <td>0.2</td>\n",
       "      <td>0.8793354330425139</td>\n",
       "    </tr>\n",
       "    <tr>\n",
       "      <th>732</th>\n",
       "      <td>733</td>\n",
       "      <td>reg:absoluteerror</td>\n",
       "      <td>110</td>\n",
       "      <td>gbtree</td>\n",
       "      <td>0.4</td>\n",
       "      <td>0.8541207524673536</td>\n",
       "    </tr>\n",
       "    <tr>\n",
       "      <th>733</th>\n",
       "      <td>734</td>\n",
       "      <td>reg:absoluteerror</td>\n",
       "      <td>110</td>\n",
       "      <td>gbtree</td>\n",
       "      <td>0.6000000000000001</td>\n",
       "      <td>0.8193998722333479</td>\n",
       "    </tr>\n",
       "    <tr>\n",
       "      <th>734</th>\n",
       "      <td>735</td>\n",
       "      <td>reg:absoluteerror</td>\n",
       "      <td>110</td>\n",
       "      <td>gbtree</td>\n",
       "      <td>0.8</td>\n",
       "      <td>0.7657050083047625</td>\n",
       "    </tr>\n",
       "    <tr>\n",
       "      <th>735</th>\n",
       "      <td>736</td>\n",
       "      <td>reg:absoluteerror</td>\n",
       "      <td>110</td>\n",
       "      <td>gbtree</td>\n",
       "      <td>1.0</td>\n",
       "      <td>0.7544641201870482</td>\n",
       "    </tr>\n",
       "    <tr>\n",
       "      <th>736</th>\n",
       "      <td>737</td>\n",
       "      <td>reg:absoluteerror</td>\n",
       "      <td>110</td>\n",
       "      <td>gbtree</td>\n",
       "      <td>1.2000000000000002</td>\n",
       "      <td>0.6683898885522588</td>\n",
       "    </tr>\n",
       "    <tr>\n",
       "      <th>737</th>\n",
       "      <td>738</td>\n",
       "      <td>reg:absoluteerror</td>\n",
       "      <td>110</td>\n",
       "      <td>gbtree</td>\n",
       "      <td>1.4000000000000001</td>\n",
       "      <td>0.33435351052795903</td>\n",
       "    </tr>\n",
       "    <tr>\n",
       "      <th>738</th>\n",
       "      <td>739</td>\n",
       "      <td>reg:absoluteerror</td>\n",
       "      <td>110</td>\n",
       "      <td>gbtree</td>\n",
       "      <td>1.6</td>\n",
       "      <td>0.5048463167476095</td>\n",
       "    </tr>\n",
       "    <tr>\n",
       "      <th>739</th>\n",
       "      <td>740</td>\n",
       "      <td>reg:absoluteerror</td>\n",
       "      <td>110</td>\n",
       "      <td>gbtree</td>\n",
       "      <td>1.8</td>\n",
       "      <td>0.5193332388121441</td>\n",
       "    </tr>\n",
       "  </tbody>\n",
       "</table>\n",
       "</div>"
      ],
      "text/plain": [
       "     S.NO          objective  n_estimators booster       learning_rate  \\\n",
       "730   731  reg:absoluteerror           110  gbtree                 0.0   \n",
       "731   732  reg:absoluteerror           110  gbtree                 0.2   \n",
       "732   733  reg:absoluteerror           110  gbtree                 0.4   \n",
       "733   734  reg:absoluteerror           110  gbtree  0.6000000000000001   \n",
       "734   735  reg:absoluteerror           110  gbtree                 0.8   \n",
       "735   736  reg:absoluteerror           110  gbtree                 1.0   \n",
       "736   737  reg:absoluteerror           110  gbtree  1.2000000000000002   \n",
       "737   738  reg:absoluteerror           110  gbtree  1.4000000000000001   \n",
       "738   739  reg:absoluteerror           110  gbtree                 1.6   \n",
       "739   740  reg:absoluteerror           110  gbtree                 1.8   \n",
       "\n",
       "                 R2_Value  \n",
       "730  -0.08970899119891218  \n",
       "731    0.8793354330425139  \n",
       "732    0.8541207524673536  \n",
       "733    0.8193998722333479  \n",
       "734    0.7657050083047625  \n",
       "735    0.7544641201870482  \n",
       "736    0.6683898885522588  \n",
       "737   0.33435351052795903  \n",
       "738    0.5048463167476095  \n",
       "739    0.5193332388121441  "
      ]
     },
     "execution_count": 677,
     "metadata": {},
     "output_type": "execute_result"
    }
   ],
   "source": [
    "Model_Evaluation[(Model_Evaluation['n_estimators']==110) & (Model_Evaluation['objective']=='reg:absoluteerror') & (Model_Evaluation['booster']=='gbtree')]"
   ]
  },
  {
   "cell_type": "code",
   "execution_count": 678,
   "id": "504c5410",
   "metadata": {},
   "outputs": [
    {
     "data": {
      "text/html": [
       "<div>\n",
       "<style scoped>\n",
       "    .dataframe tbody tr th:only-of-type {\n",
       "        vertical-align: middle;\n",
       "    }\n",
       "\n",
       "    .dataframe tbody tr th {\n",
       "        vertical-align: top;\n",
       "    }\n",
       "\n",
       "    .dataframe thead th {\n",
       "        text-align: right;\n",
       "    }\n",
       "</style>\n",
       "<table border=\"1\" class=\"dataframe\">\n",
       "  <thead>\n",
       "    <tr style=\"text-align: right;\">\n",
       "      <th></th>\n",
       "      <th>S.NO</th>\n",
       "      <th>objective</th>\n",
       "      <th>n_estimators</th>\n",
       "      <th>booster</th>\n",
       "      <th>learning_rate</th>\n",
       "      <th>R2_score</th>\n",
       "    </tr>\n",
       "  </thead>\n",
       "  <tbody>\n",
       "    <tr>\n",
       "      <th>0</th>\n",
       "      <td>732</td>\n",
       "      <td>reg:absoluteerror</td>\n",
       "      <td>110</td>\n",
       "      <td>gbtree</td>\n",
       "      <td>0.2</td>\n",
       "      <td>0.8793354330425139</td>\n",
       "    </tr>\n",
       "  </tbody>\n",
       "</table>\n",
       "</div>"
      ],
      "text/plain": [
       "   S.NO          objective n_estimators booster learning_rate  \\\n",
       "0   732  reg:absoluteerror          110  gbtree           0.2   \n",
       "\n",
       "             R2_score  \n",
       "0  0.8793354330425139  "
      ]
     },
     "execution_count": 678,
     "metadata": {},
     "output_type": "execute_result"
    }
   ],
   "source": [
    "# this combination from the above evaluation rsults has the greatest R2_Score\n",
    "High_Performance"
   ]
  },
  {
   "cell_type": "code",
   "execution_count": 659,
   "id": "16f45ce2",
   "metadata": {},
   "outputs": [
    {
     "data": {
      "text/html": [
       "<div>\n",
       "<style scoped>\n",
       "    .dataframe tbody tr th:only-of-type {\n",
       "        vertical-align: middle;\n",
       "    }\n",
       "\n",
       "    .dataframe tbody tr th {\n",
       "        vertical-align: top;\n",
       "    }\n",
       "\n",
       "    .dataframe thead th {\n",
       "        text-align: right;\n",
       "    }\n",
       "</style>\n",
       "<table border=\"1\" class=\"dataframe\">\n",
       "  <thead>\n",
       "    <tr style=\"text-align: right;\">\n",
       "      <th></th>\n",
       "      <th>S.NO</th>\n",
       "      <th>objective</th>\n",
       "      <th>n_estimators</th>\n",
       "      <th>booster</th>\n",
       "      <th>learning_rate</th>\n",
       "      <th>R2_Value</th>\n",
       "    </tr>\n",
       "  </thead>\n",
       "  <tbody>\n",
       "    <tr>\n",
       "      <th>0</th>\n",
       "      <td>1</td>\n",
       "      <td>reg:squarederror</td>\n",
       "      <td>50</td>\n",
       "      <td>gblinear</td>\n",
       "      <td>0.0</td>\n",
       "      <td>-0.0005974189425133059</td>\n",
       "    </tr>\n",
       "    <tr>\n",
       "      <th>1</th>\n",
       "      <td>2</td>\n",
       "      <td>reg:squarederror</td>\n",
       "      <td>50</td>\n",
       "      <td>gblinear</td>\n",
       "      <td>0.2</td>\n",
       "      <td>0.7612116082840978</td>\n",
       "    </tr>\n",
       "    <tr>\n",
       "      <th>2</th>\n",
       "      <td>3</td>\n",
       "      <td>reg:squarederror</td>\n",
       "      <td>50</td>\n",
       "      <td>gblinear</td>\n",
       "      <td>0.4</td>\n",
       "      <td>0.7612112651483904</td>\n",
       "    </tr>\n",
       "    <tr>\n",
       "      <th>3</th>\n",
       "      <td>4</td>\n",
       "      <td>reg:squarederror</td>\n",
       "      <td>50</td>\n",
       "      <td>gblinear</td>\n",
       "      <td>0.6000000000000001</td>\n",
       "      <td>0.7612112652291102</td>\n",
       "    </tr>\n",
       "    <tr>\n",
       "      <th>4</th>\n",
       "      <td>5</td>\n",
       "      <td>reg:squarederror</td>\n",
       "      <td>50</td>\n",
       "      <td>gblinear</td>\n",
       "      <td>0.8</td>\n",
       "      <td>0.761211265273674</td>\n",
       "    </tr>\n",
       "    <tr>\n",
       "      <th>...</th>\n",
       "      <td>...</td>\n",
       "      <td>...</td>\n",
       "      <td>...</td>\n",
       "      <td>...</td>\n",
       "      <td>...</td>\n",
       "      <td>...</td>\n",
       "    </tr>\n",
       "    <tr>\n",
       "      <th>895</th>\n",
       "      <td>896</td>\n",
       "      <td>reg:absoluteerror</td>\n",
       "      <td>190</td>\n",
       "      <td>gbtree</td>\n",
       "      <td>1.0</td>\n",
       "      <td>0.5612106287790937</td>\n",
       "    </tr>\n",
       "    <tr>\n",
       "      <th>896</th>\n",
       "      <td>897</td>\n",
       "      <td>reg:absoluteerror</td>\n",
       "      <td>190</td>\n",
       "      <td>gbtree</td>\n",
       "      <td>1.2000000000000002</td>\n",
       "      <td>0.6692956378090901</td>\n",
       "    </tr>\n",
       "    <tr>\n",
       "      <th>897</th>\n",
       "      <td>898</td>\n",
       "      <td>reg:absoluteerror</td>\n",
       "      <td>190</td>\n",
       "      <td>gbtree</td>\n",
       "      <td>1.4000000000000001</td>\n",
       "      <td>0.4272640442254034</td>\n",
       "    </tr>\n",
       "    <tr>\n",
       "      <th>898</th>\n",
       "      <td>899</td>\n",
       "      <td>reg:absoluteerror</td>\n",
       "      <td>190</td>\n",
       "      <td>gbtree</td>\n",
       "      <td>1.6</td>\n",
       "      <td>0.3885906106309477</td>\n",
       "    </tr>\n",
       "    <tr>\n",
       "      <th>899</th>\n",
       "      <td>900</td>\n",
       "      <td>reg:absoluteerror</td>\n",
       "      <td>190</td>\n",
       "      <td>gbtree</td>\n",
       "      <td>1.8</td>\n",
       "      <td>-0.6199230321849338</td>\n",
       "    </tr>\n",
       "  </tbody>\n",
       "</table>\n",
       "<p>900 rows × 6 columns</p>\n",
       "</div>"
      ],
      "text/plain": [
       "     S.NO          objective  n_estimators   booster       learning_rate  \\\n",
       "0       1   reg:squarederror            50  gblinear                 0.0   \n",
       "1       2   reg:squarederror            50  gblinear                 0.2   \n",
       "2       3   reg:squarederror            50  gblinear                 0.4   \n",
       "3       4   reg:squarederror            50  gblinear  0.6000000000000001   \n",
       "4       5   reg:squarederror            50  gblinear                 0.8   \n",
       "..    ...                ...           ...       ...                 ...   \n",
       "895   896  reg:absoluteerror           190    gbtree                 1.0   \n",
       "896   897  reg:absoluteerror           190    gbtree  1.2000000000000002   \n",
       "897   898  reg:absoluteerror           190    gbtree  1.4000000000000001   \n",
       "898   899  reg:absoluteerror           190    gbtree                 1.6   \n",
       "899   900  reg:absoluteerror           190    gbtree                 1.8   \n",
       "\n",
       "                   R2_Value  \n",
       "0    -0.0005974189425133059  \n",
       "1        0.7612116082840978  \n",
       "2        0.7612112651483904  \n",
       "3        0.7612112652291102  \n",
       "4         0.761211265273674  \n",
       "..                      ...  \n",
       "895      0.5612106287790937  \n",
       "896      0.6692956378090901  \n",
       "897      0.4272640442254034  \n",
       "898      0.3885906106309477  \n",
       "899     -0.6199230321849338  \n",
       "\n",
       "[900 rows x 6 columns]"
      ]
     },
     "execution_count": 659,
     "metadata": {},
     "output_type": "execute_result"
    }
   ],
   "source": [
    "Model_Evaluation"
   ]
  },
  {
   "cell_type": "code",
   "execution_count": 679,
   "id": "f18f3178",
   "metadata": {},
   "outputs": [],
   "source": [
    "# As the Model_Evaluation from abovve output has lot of rows so we are saving the dataframe to csv file for verifying all the combinations \n",
    "Model_Evaluation.to_csv(r\"C:\\Users\\Vinoth\\Desktop\\HOPE AI\\Machine Learning\\ML_Regression_Assignment_Insurance_Data\\XGBoost_Evaluation.csv\")"
   ]
  },
  {
   "cell_type": "code",
   "execution_count": 683,
   "id": "505b2516",
   "metadata": {},
   "outputs": [
    {
     "data": {
      "text/html": [
       "<style>#sk-container-id-123 {color: black;background-color: white;}#sk-container-id-123 pre{padding: 0;}#sk-container-id-123 div.sk-toggleable {background-color: white;}#sk-container-id-123 label.sk-toggleable__label {cursor: pointer;display: block;width: 100%;margin-bottom: 0;padding: 0.3em;box-sizing: border-box;text-align: center;}#sk-container-id-123 label.sk-toggleable__label-arrow:before {content: \"▸\";float: left;margin-right: 0.25em;color: #696969;}#sk-container-id-123 label.sk-toggleable__label-arrow:hover:before {color: black;}#sk-container-id-123 div.sk-estimator:hover label.sk-toggleable__label-arrow:before {color: black;}#sk-container-id-123 div.sk-toggleable__content {max-height: 0;max-width: 0;overflow: hidden;text-align: left;background-color: #f0f8ff;}#sk-container-id-123 div.sk-toggleable__content pre {margin: 0.2em;color: black;border-radius: 0.25em;background-color: #f0f8ff;}#sk-container-id-123 input.sk-toggleable__control:checked~div.sk-toggleable__content {max-height: 200px;max-width: 100%;overflow: auto;}#sk-container-id-123 input.sk-toggleable__control:checked~label.sk-toggleable__label-arrow:before {content: \"▾\";}#sk-container-id-123 div.sk-estimator input.sk-toggleable__control:checked~label.sk-toggleable__label {background-color: #d4ebff;}#sk-container-id-123 div.sk-label input.sk-toggleable__control:checked~label.sk-toggleable__label {background-color: #d4ebff;}#sk-container-id-123 input.sk-hidden--visually {border: 0;clip: rect(1px 1px 1px 1px);clip: rect(1px, 1px, 1px, 1px);height: 1px;margin: -1px;overflow: hidden;padding: 0;position: absolute;width: 1px;}#sk-container-id-123 div.sk-estimator {font-family: monospace;background-color: #f0f8ff;border: 1px dotted black;border-radius: 0.25em;box-sizing: border-box;margin-bottom: 0.5em;}#sk-container-id-123 div.sk-estimator:hover {background-color: #d4ebff;}#sk-container-id-123 div.sk-parallel-item::after {content: \"\";width: 100%;border-bottom: 1px solid gray;flex-grow: 1;}#sk-container-id-123 div.sk-label:hover label.sk-toggleable__label {background-color: #d4ebff;}#sk-container-id-123 div.sk-serial::before {content: \"\";position: absolute;border-left: 1px solid gray;box-sizing: border-box;top: 0;bottom: 0;left: 50%;z-index: 0;}#sk-container-id-123 div.sk-serial {display: flex;flex-direction: column;align-items: center;background-color: white;padding-right: 0.2em;padding-left: 0.2em;position: relative;}#sk-container-id-123 div.sk-item {position: relative;z-index: 1;}#sk-container-id-123 div.sk-parallel {display: flex;align-items: stretch;justify-content: center;background-color: white;position: relative;}#sk-container-id-123 div.sk-item::before, #sk-container-id-123 div.sk-parallel-item::before {content: \"\";position: absolute;border-left: 1px solid gray;box-sizing: border-box;top: 0;bottom: 0;left: 50%;z-index: -1;}#sk-container-id-123 div.sk-parallel-item {display: flex;flex-direction: column;z-index: 1;position: relative;background-color: white;}#sk-container-id-123 div.sk-parallel-item:first-child::after {align-self: flex-end;width: 50%;}#sk-container-id-123 div.sk-parallel-item:last-child::after {align-self: flex-start;width: 50%;}#sk-container-id-123 div.sk-parallel-item:only-child::after {width: 0;}#sk-container-id-123 div.sk-dashed-wrapped {border: 1px dashed gray;margin: 0 0.4em 0.5em 0.4em;box-sizing: border-box;padding-bottom: 0.4em;background-color: white;}#sk-container-id-123 div.sk-label label {font-family: monospace;font-weight: bold;display: inline-block;line-height: 1.2em;}#sk-container-id-123 div.sk-label-container {text-align: center;}#sk-container-id-123 div.sk-container {/* jupyter's `normalize.less` sets `[hidden] { display: none; }` but bootstrap.min.css set `[hidden] { display: none !important; }` so we also need the `!important` here to be able to override the default hidden behavior on the sphinx rendered scikit-learn.org. See: https://github.com/scikit-learn/scikit-learn/issues/21755 */display: inline-block !important;position: relative;}#sk-container-id-123 div.sk-text-repr-fallback {display: none;}</style><div id=\"sk-container-id-123\" class=\"sk-top-container\"><div class=\"sk-text-repr-fallback\"><pre>XGBRegressor(base_score=None, booster=&#x27;gbtree&#x27;, callbacks=None,\n",
       "             colsample_bylevel=None, colsample_bynode=None,\n",
       "             colsample_bytree=None, device=None, early_stopping_rounds=None,\n",
       "             enable_categorical=False, eval_metric=None, feature_types=None,\n",
       "             gamma=None, grow_policy=None, importance_type=None,\n",
       "             interaction_constraints=None, learning_rate=0.2, max_bin=None,\n",
       "             max_cat_threshold=None, max_cat_to_onehot=None,\n",
       "             max_delta_step=None, max_depth=None, max_leaves=None,\n",
       "             min_child_weight=None, missing=nan, monotone_constraints=None,\n",
       "             multi_strategy=None, n_estimators=110, n_jobs=None,\n",
       "             num_parallel_tree=None, objective=&#x27;reg:absoluteerror&#x27;, ...)</pre><b>In a Jupyter environment, please rerun this cell to show the HTML representation or trust the notebook. <br />On GitHub, the HTML representation is unable to render, please try loading this page with nbviewer.org.</b></div><div class=\"sk-container\" hidden><div class=\"sk-item\"><div class=\"sk-estimator sk-toggleable\"><input class=\"sk-toggleable__control sk-hidden--visually\" id=\"sk-estimator-id-159\" type=\"checkbox\" checked><label for=\"sk-estimator-id-159\" class=\"sk-toggleable__label sk-toggleable__label-arrow\">XGBRegressor</label><div class=\"sk-toggleable__content\"><pre>XGBRegressor(base_score=None, booster=&#x27;gbtree&#x27;, callbacks=None,\n",
       "             colsample_bylevel=None, colsample_bynode=None,\n",
       "             colsample_bytree=None, device=None, early_stopping_rounds=None,\n",
       "             enable_categorical=False, eval_metric=None, feature_types=None,\n",
       "             gamma=None, grow_policy=None, importance_type=None,\n",
       "             interaction_constraints=None, learning_rate=0.2, max_bin=None,\n",
       "             max_cat_threshold=None, max_cat_to_onehot=None,\n",
       "             max_delta_step=None, max_depth=None, max_leaves=None,\n",
       "             min_child_weight=None, missing=nan, monotone_constraints=None,\n",
       "             multi_strategy=None, n_estimators=110, n_jobs=None,\n",
       "             num_parallel_tree=None, objective=&#x27;reg:absoluteerror&#x27;, ...)</pre></div></div></div></div></div>"
      ],
      "text/plain": [
       "XGBRegressor(base_score=None, booster='gbtree', callbacks=None,\n",
       "             colsample_bylevel=None, colsample_bynode=None,\n",
       "             colsample_bytree=None, device=None, early_stopping_rounds=None,\n",
       "             enable_categorical=False, eval_metric=None, feature_types=None,\n",
       "             gamma=None, grow_policy=None, importance_type=None,\n",
       "             interaction_constraints=None, learning_rate=0.2, max_bin=None,\n",
       "             max_cat_threshold=None, max_cat_to_onehot=None,\n",
       "             max_delta_step=None, max_depth=None, max_leaves=None,\n",
       "             min_child_weight=None, missing=nan, monotone_constraints=None,\n",
       "             multi_strategy=None, n_estimators=110, n_jobs=None,\n",
       "             num_parallel_tree=None, objective='reg:absoluteerror', ...)"
      ]
     },
     "execution_count": 683,
     "metadata": {},
     "output_type": "execute_result"
    }
   ],
   "source": [
    "XGBoost_Regressor_Model = XGBRegressor(objective='reg:absoluteerror',booster='gbtree',n_estimators=110,learning_rate=0.2)\n",
    "XGBoost_Regressor_Model.fit(X_Train,Y_Train)"
   ]
  },
  {
   "cell_type": "code",
   "execution_count": 686,
   "id": "28d526e8",
   "metadata": {},
   "outputs": [],
   "source": [
    "Predicted_Y = AdaBoost_Regressor_Model.predict(X_Test)\n",
    "R2_score = r2_score(Y_Test,Predicted_Y)"
   ]
  },
  {
   "cell_type": "code",
   "execution_count": 687,
   "id": "2dcf4257",
   "metadata": {},
   "outputs": [
    {
     "data": {
      "text/plain": [
       "0.8545024319300922"
      ]
     },
     "execution_count": 687,
     "metadata": {},
     "output_type": "execute_result"
    }
   ],
   "source": [
    "R2_score"
   ]
  },
  {
   "cell_type": "code",
   "execution_count": 688,
   "id": "0c060bc9",
   "metadata": {},
   "outputs": [],
   "source": [
    "# Save the model using pickle\n",
    "pickle.dump(AdaBoost_Regressor_Model,open(r\"C:\\Users\\Vinoth\\Desktop\\HOPE AI\\Machine Learning\\ML_Regression_Assignment_Insurance_Data\\Final Models\\XGBoost_Regressor_Model.sav\",\"wb\"))"
   ]
  },
  {
   "cell_type": "code",
   "execution_count": null,
   "id": "61f1c388",
   "metadata": {},
   "outputs": [],
   "source": []
  }
 ],
 "metadata": {
  "kernelspec": {
   "display_name": "Python 3 (ipykernel)",
   "language": "python",
   "name": "python3"
  },
  "language_info": {
   "codemirror_mode": {
    "name": "ipython",
    "version": 3
   },
   "file_extension": ".py",
   "mimetype": "text/x-python",
   "name": "python",
   "nbconvert_exporter": "python",
   "pygments_lexer": "ipython3",
   "version": "3.10.5"
  }
 },
 "nbformat": 4,
 "nbformat_minor": 5
}
